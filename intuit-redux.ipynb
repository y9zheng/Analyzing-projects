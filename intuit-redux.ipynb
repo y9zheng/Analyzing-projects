{
 "cells": [
  {
   "cell_type": "markdown",
   "id": "legal-radical",
   "metadata": {},
   "source": [
    "# Intuit Quickbooks Upgrade\n",
    "\n",
    "* Team-lead GitLab userid: yil012\n",
    "* Group name: Anaconda\n",
    "* Team member names: Yinluo Li, Yuquan Zheng, Zezheng Hao, Shangfu Chen"
   ]
  },
  {
   "cell_type": "code",
   "execution_count": 1,
   "id": "funny-brush",
   "metadata": {},
   "outputs": [],
   "source": [
    "import os\n",
    "import warnings\n",
    "\n",
    "import matplotlib as mpl\n",
    "import matplotlib.pyplot as plt\n",
    "import numpy as np\n",
    "import pandas as pd\n",
    "import pyrsm as rsm\n",
    "import seaborn as sns\n",
    "\n",
    "warnings.filterwarnings(\"ignore\")\n",
    "\n",
    "\n",
    "import statsmodels.formula.api as smf\n",
    "from sklearn.ensemble import (\n",
    "    ExtraTreesClassifier,\n",
    "    GradientBoostingClassifier,\n",
    "    RandomForestClassifier,\n",
    ")\n",
    "from sklearn.inspection import permutation_importance\n",
    "from sklearn.metrics import accuracy_score, auc, confusion_matrix, roc_curve\n",
    "from sklearn.model_selection import GridSearchCV\n",
    "from sklearn.neural_network import MLPClassifier\n",
    "from sklearn.preprocessing import RobustScaler, StandardScaler\n",
    "from statsmodels.genmod.families import Binomial\n",
    "from statsmodels.genmod.families.links import logit\n",
    "from utils import functions\n",
    "from xgboost import XGBClassifier\n",
    "\n",
    "# increase plot resolution\n",
    "# mpl.rcParams[\"figure.dpi\"] = 150"
   ]
  },
  {
   "cell_type": "code",
   "execution_count": 2,
   "id": "convertible-minority",
   "metadata": {},
   "outputs": [],
   "source": [
    "## loading the data - this dataset must NOT be changed\n",
    "intuit75k = pd.read_pickle(\"data/intuit75k.pkl\")\n",
    "intuit75k[\"res1_yes\"] = (intuit75k[\"res1\"] == \"Yes\").astype(int)\n",
    "intuit75k_copy = intuit75k.copy()\n",
    "result_df = intuit75k.query(\"training == 0\").copy()"
   ]
  },
  {
   "cell_type": "markdown",
   "id": "remarkable-knight",
   "metadata": {},
   "source": [
    "## Random Forest"
   ]
  },
  {
   "cell_type": "code",
   "execution_count": 112,
   "id": "alternative-adolescent",
   "metadata": {},
   "outputs": [],
   "source": [
    "intuit75k[[\"sex\", \"zip_bins\"]] = intuit75k[[\"sex\", \"zip_bins\"]].astype(\"category\")\n",
    "\n",
    "intuit75k = intuit75k.assign(\n",
    "    zip801=(intuit75k[\"zip\"] == \"00801\").astype(int),\n",
    "    zip804=(intuit75k[\"zip\"] == \"00804\").astype(int),\n",
    "    num_ver=intuit75k[\"numords\"] * intuit75k[\"version1\"],\n",
    "    las_ver=intuit75k[\"last\"] * intuit75k[\"version1\"],\n",
    ")"
   ]
  },
  {
   "cell_type": "code",
   "execution_count": 82,
   "id": "smoking-court",
   "metadata": {},
   "outputs": [],
   "source": [
    "# preprocessing data\n",
    "scalar = RobustScaler()\n",
    "sd_columns = intuit75k[[\"numords\", \"last\", \"dollars\", \"sincepurch\"]]\n",
    "sd_columns = scalar.fit(sd_columns).transform(sd_columns)"
   ]
  },
  {
   "cell_type": "code",
   "execution_count": 83,
   "id": "shaped-myanmar",
   "metadata": {},
   "outputs": [],
   "source": [
    "# split data set\n",
    "intuit75k_train = intuit75k.query(\"training == 1\")\n",
    "intuit75k_test = intuit75k.query(\"training == 0\")"
   ]
  },
  {
   "cell_type": "code",
   "execution_count": 85,
   "id": "fleet-marine",
   "metadata": {},
   "outputs": [
    {
     "name": "stdout",
     "output_type": "stream",
     "text": [
      "<class 'pandas.core.frame.DataFrame'>\n",
      "Int64Index: 52500 entries, 0 to 74998\n",
      "Data columns (total 19 columns):\n",
      " #   Column      Non-Null Count  Dtype   \n",
      "---  ------      --------------  -----   \n",
      " 0   id          52500 non-null  int32   \n",
      " 1   zip         52500 non-null  object  \n",
      " 2   zip_bins    52500 non-null  category\n",
      " 3   sex         52500 non-null  category\n",
      " 4   bizflag     52500 non-null  int32   \n",
      " 5   numords     52500 non-null  int32   \n",
      " 6   dollars     52500 non-null  float64 \n",
      " 7   last        52500 non-null  int32   \n",
      " 8   sincepurch  52500 non-null  int32   \n",
      " 9   version1    52500 non-null  int32   \n",
      " 10  owntaxprod  52500 non-null  int32   \n",
      " 11  upgraded    52500 non-null  int32   \n",
      " 12  res1        52500 non-null  category\n",
      " 13  training    52500 non-null  int32   \n",
      " 14  res1_yes    52500 non-null  int64   \n",
      " 15  zip801      52500 non-null  int64   \n",
      " 16  zip804      52500 non-null  int64   \n",
      " 17  num_ver     52500 non-null  int32   \n",
      " 18  las_ver     52500 non-null  int32   \n",
      "dtypes: category(3), float64(1), int32(11), int64(3), object(1)\n",
      "memory usage: 4.8+ MB\n"
     ]
    }
   ],
   "source": [
    "intuit75k_train.info()"
   ]
  },
  {
   "cell_type": "code",
   "execution_count": 84,
   "id": "adapted-platform",
   "metadata": {},
   "outputs": [],
   "source": [
    "variables = [\n",
    "    \"zip_bins\",\n",
    "    \"version1\",\n",
    "    \"owntaxprod\",\n",
    "    \"upgraded\",\n",
    "    \"numords\",\n",
    "    \"last\",\n",
    "    \"dollars\",\n",
    "    \"sincepurch\",\n",
    "    \"sex\",\n",
    "    \"bizflag\",\n",
    "    \"zip801\",\n",
    "    \"zip804\",\n",
    "    \"num_ver\",\n",
    "    \"las_ver\",\n",
    "]\n",
    "\n",
    "X_train = intuit75k_train[variables]\n",
    "X_train = pd.get_dummies(X_train, drop_first=True)\n",
    "y_train = intuit75k_train[\"res1_yes\"]\n",
    "\n",
    "X_test = intuit75k_test[variables]\n",
    "X_test = pd.get_dummies(X_test, drop_first=True)\n",
    "y_test = intuit75k_test[\"res1_yes\"]"
   ]
  },
  {
   "cell_type": "markdown",
   "id": "different-bulgarian",
   "metadata": {},
   "source": [
    "### Random Forest Classification with cross validation and grid search"
   ]
  },
  {
   "cell_type": "code",
   "execution_count": 16,
   "id": "foster-ability",
   "metadata": {},
   "outputs": [],
   "source": [
    "# params_set = {\"n_estimators\": range(500, 1000),\n",
    "#              \"max_depth\":range(1,20),\n",
    "#              \"min_samples_split\":range(50,400),\n",
    "#              \"min_samples_leaf\":range(1,60)\n",
    "#              }\n",
    "# other_params = {\n",
    "#     \"bootstrap\":True,\n",
    "#     \"random_state\":1234,\n",
    "#     \"criterion\":\"entropy\",\n",
    "# }\n",
    "# rf_gs = RandomForestClassifier(**other_params)\n",
    "# optimized_rf = RandomizedSearchCV(\n",
    "#     estimator=rf_gs,\n",
    "#     param_distributions=params_set,\n",
    "#     scoring=\"roc_auc\",\n",
    "#     cv=2,\n",
    "#     verbose=3,\n",
    "#     n_jobs=-1,\n",
    "#     n_iter=40,\n",
    "# ).fit(X_train, y_train)\n",
    "# optimized_rf.best_estimator_"
   ]
  },
  {
   "cell_type": "code",
   "execution_count": 17,
   "id": "spread-reconstruction",
   "metadata": {},
   "outputs": [],
   "source": [
    "# intuit75k_test = intuit75k_test.assign(\n",
    "#     mailto_rf_gs=optimized_rf.best_estimator_.predict_proba(X_test)[:, 1]\n",
    "# )\n",
    "# profit_rf_gs, rome_rf_gs = functions.calc_perf(\n",
    "#     intuit75k_test,\n",
    "#     col=\"mailto_rf_gs\",\n",
    "#     intro=\"By using Random Forest with GridSearch\",\n",
    "# )"
   ]
  },
  {
   "cell_type": "markdown",
   "id": "preceding-moore",
   "metadata": {},
   "source": [
    "After running the Random Forest Classification with cross validation and grid search, the best parameter for Gradient boosting is 840 for n_estimators, 14 for max_depth, 230 for min_samples_split."
   ]
  },
  {
   "cell_type": "code",
   "execution_count": 18,
   "id": "undefined-living",
   "metadata": {},
   "outputs": [],
   "source": [
    "# used cross validation and grid search find the optimal parameter\n",
    "rf = RandomForestClassifier(\n",
    "    max_depth=14,\n",
    "    min_samples_split=230,\n",
    "    n_estimators=840,\n",
    "    bootstrap=True,\n",
    "    random_state=1234,\n",
    "    criterion=\"entropy\",\n",
    ").fit(X_train, y_train)"
   ]
  },
  {
   "cell_type": "code",
   "execution_count": 19,
   "id": "american-testament",
   "metadata": {},
   "outputs": [],
   "source": [
    "intuit75k_test = intuit75k_test.assign(mailto_rf=rf.predict_proba(X_test)[:, 1])\n",
    "\n",
    "# store it again to make graph\n",
    "result_df = result_df.assign(mailto_rf=rf.predict_proba(X_test)[:, 1])"
   ]
  },
  {
   "cell_type": "code",
   "execution_count": 20,
   "id": "painted-halloween",
   "metadata": {},
   "outputs": [
    {
     "name": "stdout",
     "output_type": "stream",
     "text": [
      "By using random forest, the expected profit is $38,239 with a ROME of 200.62%.\n"
     ]
    }
   ],
   "source": [
    "profit_rf, rome_rf = functions.calc_perf(\n",
    "    intuit75k_test,\n",
    "    col=\"mailto_rf\",\n",
    "    intro=\"By using random forest\",\n",
    ")"
   ]
  },
  {
   "cell_type": "markdown",
   "id": "sacred-objective",
   "metadata": {},
   "source": [
    "## XGBoost"
   ]
  },
  {
   "cell_type": "markdown",
   "id": "divided-intent",
   "metadata": {},
   "source": [
    "### XGBoost Classification with cross validation and grid search"
   ]
  },
  {
   "cell_type": "code",
   "execution_count": 21,
   "id": "breeding-nudist",
   "metadata": {},
   "outputs": [],
   "source": [
    "params_test1 = {\"n_estimators\": range(50, 200)}\n",
    "other_params = {\n",
    "    \"learning_rate\": 0.1,\n",
    "    \"max_depth\": 2,\n",
    "    \"min_child_weight\": 1,\n",
    "    \"seed\": 1234,\n",
    "    \"subsample\": 0.8,\n",
    "    \"colsample_bytree\": 0.8,\n",
    "    \"gamma\": 0,\n",
    "    \"reg_alpha\": 0,\n",
    "    \"reg_lambda\": 1,\n",
    "}\n",
    "xgb = XGBClassifier(**other_params)\n",
    "optimized_XGB = RandomizedSearchCV(\n",
    "    estimator=xgb,\n",
    "    param_distributions=params_test1,\n",
    "    scoring=\"roc_auc\",\n",
    "    cv=2,\n",
    "    verbose=3,\n",
    "    n_jobs=-1,\n",
    ").fit(X_train, y_train)\n",
    "\n",
    "optimized_XGB.best_estimator_"
   ]
  },
  {
   "cell_type": "code",
   "execution_count": 22,
   "id": "korean-exchange",
   "metadata": {},
   "outputs": [],
   "source": [
    "# intuit75k_test = intuit75k_test.assign(\n",
    "#     mailto_xgb_gs=optimized_XGB.best_estimator_.predict_proba(X_test)[:, 1]\n",
    "# )\n",
    "# profit_xgb, rome_xgb = functions.calc_perf(\n",
    "#     intuit75k_test,\n",
    "#     col=\"mailto_xgb_gs\",\n",
    "#     intro=\"By using XGBOOST with GridSearch\",\n",
    "# )"
   ]
  },
  {
   "cell_type": "markdown",
   "id": "relevant-cyprus",
   "metadata": {},
   "source": [
    "After running the XGBoost Classification with cross validation and grid search, we have found the best parameter and will them to build model in the following."
   ]
  },
  {
   "cell_type": "code",
   "execution_count": 23,
   "id": "paperback-sheriff",
   "metadata": {},
   "outputs": [
    {
     "name": "stdout",
     "output_type": "stream",
     "text": [
      "[08:05:01] WARNING: ../src/learner.cc:1061: Starting in XGBoost 1.3.0, the default evaluation metric used with the objective 'binary:logistic' was changed from 'error' to 'logloss'. Explicitly set eval_metric if you'd like to restore the old behavior.\n"
     ]
    }
   ],
   "source": [
    "xgb = XGBClassifier(\n",
    "    learning_rate=0.1,\n",
    "    n_estimators=107,\n",
    "    max_depth=2,\n",
    "    min_child_weight=1,\n",
    "    gamma=0,\n",
    "    subsample=0.8,\n",
    "    colsample_bytree=0.8,\n",
    "    objective=\"binary:logistic\",\n",
    "    nthread=4,\n",
    "    scale_pos_weight=1,\n",
    "    seed=1234,\n",
    ").fit(X_train, y_train)"
   ]
  },
  {
   "cell_type": "code",
   "execution_count": 24,
   "id": "local-liquid",
   "metadata": {},
   "outputs": [],
   "source": [
    "intuit75k_test = intuit75k_test.assign(mailto_xgb=xgb.predict_proba(X_test)[:, 1])\n",
    "\n",
    "# store it again to make graph\n",
    "result_df = result_df.assign(mailto_xgb=xgb.predict_proba(X_test)[:, 1])"
   ]
  },
  {
   "cell_type": "code",
   "execution_count": 25,
   "id": "lyric-culture",
   "metadata": {},
   "outputs": [
    {
     "name": "stdout",
     "output_type": "stream",
     "text": [
      "By using XGBOOST, the expected profit is $38,195 with a ROME of 196.84%.\n"
     ]
    }
   ],
   "source": [
    "profit_xgb, rome_xgb = functions.calc_perf(\n",
    "    intuit75k_test,\n",
    "    col=\"mailto_xgb\",\n",
    "    intro=\"By using XGBOOST\",\n",
    ")"
   ]
  },
  {
   "cell_type": "markdown",
   "id": "little-switch",
   "metadata": {},
   "source": [
    "## Gradient boosting"
   ]
  },
  {
   "cell_type": "code",
   "execution_count": 3,
   "id": "overall-collins",
   "metadata": {},
   "outputs": [],
   "source": [
    "# make a copy of original dataset\n",
    "# adding two variables named zip801 and zip804, 1/0\n",
    "intuit75k_copy = intuit75k_copy.assign(\n",
    "    zip801=(intuit75k_copy[\"zip\"] == \"00801\").astype(int),\n",
    "    zip804=(intuit75k_copy[\"zip\"] == \"00804\").astype(int),\n",
    ")"
   ]
  },
  {
   "cell_type": "code",
   "execution_count": 4,
   "id": "differential-longer",
   "metadata": {},
   "outputs": [],
   "source": [
    "# create a column named sex_flag that labels sex variable into 1,2,3\n",
    "intuit75k_copy = intuit75k_copy.assign(\n",
    "    sex_flag=intuit75k_copy[\"sex\"]\n",
    "    .map({\"Unknown\": 0, \"Male\": 1, \"Female\": 2})\n",
    "    .astype(\"category\"),\n",
    ")\n",
    "\n",
    "# convert variable to category\n",
    "intuit75k_copy[\"zip_bins\"] = intuit75k_copy[\"zip_bins\"].astype(\"category\")"
   ]
  },
  {
   "cell_type": "code",
   "execution_count": 5,
   "id": "coated-charm",
   "metadata": {},
   "outputs": [],
   "source": [
    "# add interaction\n",
    "intuit75k_copy[\"numords_version1\"] = (\n",
    "    intuit75k_copy[\"numords\"] * intuit75k_copy[\"version1\"]\n",
    ")\n",
    "intuit75k_copy[\"last_version1\"] = intuit75k_copy[\"last\"] * intuit75k_copy[\"version1\"]"
   ]
  },
  {
   "cell_type": "code",
   "execution_count": 6,
   "id": "electronic-military",
   "metadata": {},
   "outputs": [],
   "source": [
    "# split data to training and testing\n",
    "intuit75k_copy_train = intuit75k_copy.query(\"training == 1\")\n",
    "intuit75k_copy_test = intuit75k_copy.query(\"training == 0\")"
   ]
  },
  {
   "cell_type": "code",
   "execution_count": 7,
   "id": "indoor-design",
   "metadata": {},
   "outputs": [],
   "source": [
    "# columns used to build model\n",
    "cols = [\n",
    "    \"zip_bins\",\n",
    "    \"sex_flag\",\n",
    "    \"bizflag\",\n",
    "    \"numords\",\n",
    "    \"dollars\",\n",
    "    \"last\",\n",
    "    \"sincepurch\",\n",
    "    \"version1\",\n",
    "    \"owntaxprod\",\n",
    "    \"upgraded\",\n",
    "    \"zip801\",\n",
    "    \"zip804\",\n",
    "    \"numords_version1\",\n",
    "    \"last_version1\",\n",
    "]\n",
    "\n",
    "# create X_train, y_train\n",
    "X_train = intuit75k_copy_train[cols]\n",
    "y_train = intuit75k_copy_train[\"res1_yes\"]\n",
    "\n",
    "# create X_test, y_test\n",
    "X_test = intuit75k_copy_test[cols]\n",
    "y_test = intuit75k_copy_test[\"res1_yes\"]\n",
    "\n",
    "# standardize some columns\n",
    "scalar = StandardScaler()\n",
    "sf1 = scalar.fit(X_train[[\"numords\"]])\n",
    "sf2 = scalar.fit(X_train[[\"last\"]])\n",
    "X_train[\"numords\"] = sf1.transform(X_train[[\"numords\"]])\n",
    "X_train[\"last\"] = sf2.transform(X_train[[\"last\"]])\n",
    "X_train = pd.get_dummies(X_train, drop_first=True)\n",
    "\n",
    "sf3 = scalar.fit(X_test[[\"numords\"]])\n",
    "sf4 = scalar.fit(X_test[[\"last\"]])\n",
    "X_test[\"numords\"] = sf3.transform(X_test[[\"numords\"]])\n",
    "X_test[\"last\"] = sf4.transform(X_test[[\"last\"]])\n",
    "X_test = pd.get_dummies(X_test, drop_first=True)"
   ]
  },
  {
   "cell_type": "markdown",
   "id": "ahead-thanks",
   "metadata": {},
   "source": [
    "### Gradient Boosting Classification with cross validation and grid search"
   ]
  },
  {
   "cell_type": "code",
   "execution_count": 121,
   "id": "photographic-africa",
   "metadata": {},
   "outputs": [],
   "source": [
    "# gb_tuning = GradientBoostingClassifier(random_state = 0)\n",
    "# parameters = {\n",
    "#     \"n_estimators\":[5,50,250,500],\n",
    "#     \"max_depth\":[1,3,5,7,9],\n",
    "#     \"learning_rate\":[0.01,0.1,1,10,100]\n",
    "# }\n",
    "# scoring = {\"AUC\": \"roc_auc\"}\n",
    "\n",
    "# gb_cv = GridSearchCV(gb_tuning,parameters,scoring = scoring,\n",
    "#                      cv=5, n_jobs = 4, refit = 'AUC', verbose = 5)\n",
    "# gb_cv.fit(X_train,y_train)"
   ]
  },
  {
   "cell_type": "code",
   "execution_count": 122,
   "id": "objective-union",
   "metadata": {},
   "outputs": [],
   "source": [
    "# gb_cv = GridSearchCV(gb_tuning,parameters,scoring = scoring, cv=5, n_jobs = 4, refit = 'AUC', verbose = 5)\n",
    "# gb_cv.fit(X_train,y_train)"
   ]
  },
  {
   "cell_type": "code",
   "execution_count": 123,
   "id": "expanded-termination",
   "metadata": {},
   "outputs": [],
   "source": [
    "# print(gb_cv.best_params_)\n",
    "# print(gb_cv.best_score_)"
   ]
  },
  {
   "cell_type": "markdown",
   "id": "thorough-diving",
   "metadata": {},
   "source": [
    "As we can see, the best parameter for Gradient boosting is 0.1 for learning rate, 1 for max_depth, 500 for n_estimators"
   ]
  },
  {
   "cell_type": "code",
   "execution_count": 8,
   "id": "intimate-thailand",
   "metadata": {},
   "outputs": [
    {
     "data": {
      "text/plain": [
       "GradientBoostingClassifier(max_depth=1, n_estimators=500, random_state=0)"
      ]
     },
     "execution_count": 8,
     "metadata": {},
     "output_type": "execute_result"
    }
   ],
   "source": [
    "gb_clf = GradientBoostingClassifier(\n",
    "    random_state=0, learning_rate=0.1, max_depth=1, n_estimators=500\n",
    ")\n",
    "gb_clf.fit(X_train, y_train)"
   ]
  },
  {
   "cell_type": "code",
   "execution_count": 9,
   "id": "objective-court",
   "metadata": {},
   "outputs": [],
   "source": [
    "# Using model to predict on test set\n",
    "intuit75k_copy_test = intuit75k_copy_test.assign(\n",
    "    mailto_gb_clf=gb_clf.predict_proba(X_test)[:, 1]\n",
    ")\n",
    "\n",
    "# store it again to make graph\n",
    "result_df = result_df.assign(mailto_gb_clf=gb_clf.predict_proba(X_test)[:, 1])"
   ]
  },
  {
   "cell_type": "code",
   "execution_count": 10,
   "id": "adult-sensitivity",
   "metadata": {},
   "outputs": [
    {
     "name": "stdout",
     "output_type": "stream",
     "text": [
      "By using Gradient boosting, the expected profit is $38,432 with a ROME of 206.32%.\n"
     ]
    }
   ],
   "source": [
    "# calculate profit and rome\n",
    "profit_gb_clf, rome_gb_clf = functions.calc_perf(\n",
    "    intuit75k_copy_test, col=\"mailto_gb_clf\", intro=\"By using Gradient boosting\"\n",
    ")"
   ]
  },
  {
   "cell_type": "markdown",
   "id": "sonic-jewel",
   "metadata": {},
   "source": [
    "## Neural Network"
   ]
  },
  {
   "cell_type": "code",
   "execution_count": 38,
   "id": "industrial-preference",
   "metadata": {},
   "outputs": [],
   "source": [
    "intuit75k = pd.read_pickle(\"data/intuit75k.pkl\")\n",
    "intuit75k[\"res1_yes\"] = (intuit75k[\"res1\"] == \"Yes\").astype(int)"
   ]
  },
  {
   "cell_type": "code",
   "execution_count": 39,
   "id": "ordered-haiti",
   "metadata": {},
   "outputs": [],
   "source": [
    "intuit75k[[\"zip_bins\", \"bizflag\", \"version1\", \"owntaxprod\", \"upgraded\"]] = intuit75k[\n",
    "    [\"zip_bins\", \"bizflag\", \"version1\", \"owntaxprod\", \"upgraded\"]\n",
    "].astype(\"category\")\n",
    "intuit75k_train = intuit75k.query(\"training == 1\")\n",
    "intuit75k_test = intuit75k.query(\"training == 0\")"
   ]
  },
  {
   "cell_type": "code",
   "execution_count": 40,
   "id": "violent-symphony",
   "metadata": {},
   "outputs": [],
   "source": [
    "scalar = StandardScaler()\n",
    "X_train = intuit75k_train[\n",
    "    [\"zip_bins\", \"version1\", \"owntaxprod\", \"upgraded\", \"numords\", \"last\"]\n",
    "]\n",
    "y_train = intuit75k_train[\"res1_yes\"]\n",
    "sf1 = scalar.fit(X_train[[\"numords\"]])\n",
    "sf2 = scalar.fit(X_train[[\"last\"]])\n",
    "X_train[\"numords\"] = sf1.transform(X_train[[\"numords\"]])\n",
    "X_train[\"last\"] = sf2.transform(X_train[[\"last\"]])\n",
    "X_train = pd.get_dummies(X_train, drop_first=True)\n",
    "\n",
    "X_test = intuit75k_test[\n",
    "    [\"zip_bins\", \"version1\", \"owntaxprod\", \"upgraded\", \"numords\", \"last\"]\n",
    "]\n",
    "y_test = intuit75k_test[\"res1_yes\"]\n",
    "sf3 = scalar.fit(X_test[[\"numords\"]])\n",
    "sf4 = scalar.fit(X_test[[\"last\"]])\n",
    "X_test[\"numords\"] = sf3.transform(X_test[[\"numords\"]])\n",
    "X_test[\"last\"] = sf4.transform(X_test[[\"last\"]])\n",
    "X_test = pd.get_dummies(X_test, drop_first=True)"
   ]
  },
  {
   "cell_type": "code",
   "execution_count": 41,
   "id": "capital-theme",
   "metadata": {},
   "outputs": [
    {
     "name": "stdout",
     "output_type": "stream",
     "text": [
      "By using Neural Network with 2 nodes and 1 layers, the expected profit is $37,791 with a ROME of 206.41%.\n",
      "By using Neural Network with 3 nodes and 1 layers, the expected profit is $37,991 with a ROME of 209.8%.\n",
      "By using Neural network with 4 nodes and 1 layers, the expected profit is $37,663 with a ROME of 200.37%.\n",
      "By using Neural network with 5 nodes and 1 layers, the expected profit is $37,794 with a ROME of 205.11%.\n",
      "By using Neural network with 6 nodes and 1 layers, the expected profit is $37,483 with a ROME of 213.01%.\n"
     ]
    }
   ],
   "source": [
    "# train models using\n",
    "clf0 = functions.nn(X_train, y_train, nodes=2, layers=1)\n",
    "clf1 = functions.nn(X_train, y_train, nodes=3, layers=1)\n",
    "clf2 = functions.nn(X_train, y_train, nodes=4, layers=1)\n",
    "clf3 = functions.nn(X_train, y_train, nodes=5, layers=1)\n",
    "clf4 = functions.nn(X_train, y_train, nodes=6, layers=1)\n",
    "\n",
    "# predict on test set\n",
    "intuit75k_test[\"mailto_nn_clf0\"] = clf0.predict_proba(X_test)[:, 1]\n",
    "intuit75k_test[\"mailto_nn_clf1\"] = clf1.predict_proba(X_test)[:, 1]\n",
    "intuit75k_test[\"mailto_nn_clf2\"] = clf2.predict_proba(X_test)[:, 1]\n",
    "intuit75k_test[\"mailto_nn_clf3\"] = clf3.predict_proba(X_test)[:, 1]\n",
    "intuit75k_test[\"mailto_nn_clf4\"] = clf4.predict_proba(X_test)[:, 1]\n",
    "\n",
    "# Neural network with 2 nodes and 1 layers\n",
    "profit_nn_clf0, rome_nn_clf0 = functions.calc_perf(\n",
    "    intuit75k_test,\n",
    "    col=\"mailto_nn_clf0\",\n",
    "    intro=\"By using Neural Network with 2 nodes and 1 layers\",\n",
    ")\n",
    "\n",
    "# Neural network with 3 nodes and 1 layers\n",
    "profit_nn_clf1, rome_nn_clf1 = functions.calc_perf(\n",
    "    intuit75k_test,\n",
    "    col=\"mailto_nn_clf1\",\n",
    "    intro=\"By using Neural Network with 3 nodes and 1 layers\",\n",
    ")\n",
    "\n",
    "# Neural network with 4 nodes and 1 layers\n",
    "profit_nn_clf2, rome_nn_clf2 = functions.calc_perf(\n",
    "    intuit75k_test,\n",
    "    col=\"mailto_nn_clf2\",\n",
    "    intro=\"By using Neural network with 4 nodes and 1 layers\",\n",
    ")\n",
    "\n",
    "# Neural network with 5 nodes and 1 layers\n",
    "profit_nn_clf3, rome_nn_clf3 = functions.calc_perf(\n",
    "    intuit75k_test,\n",
    "    col=\"mailto_nn_clf3\",\n",
    "    intro=\"By using Neural network with 5 nodes and 1 layers\",\n",
    ")\n",
    "\n",
    "# Neural network with 6 nodes and 1 layers\n",
    "profit_nn_clf4, rome_nn_clf4 = functions.calc_perf(\n",
    "    intuit75k_test,\n",
    "    col=\"mailto_nn_clf4\",\n",
    "    intro=\"By using Neural network with 6 nodes and 1 layers\",\n",
    ")"
   ]
  },
  {
   "cell_type": "code",
   "execution_count": 42,
   "id": "protected-thunder",
   "metadata": {},
   "outputs": [
    {
     "name": "stdout",
     "output_type": "stream",
     "text": [
      "By using Neural Network with 2 nodes and 1 layers using relu, the expected profit is $38,479 with a ROME of 189.36%.\n",
      "By using Neural Network with 3 nodes and 1 layers using relu, the expected profit is $38,153 with a ROME of 194.99%.\n",
      "By using Neural network with 4 nodes and 1 layers using relu, the expected profit is $38,227 with a ROME of 188.02%.\n",
      "By using Neural network with 5 nodes and 1 layers using relu, the expected profit is $34,455 with a ROME of 108.61%.\n"
     ]
    }
   ],
   "source": [
    "clf5 = functions.nn(X_train, y_train, nodes=2, layers=1, acti=\"relu\")\n",
    "clf6 = functions.nn(X_train, y_train, nodes=3, layers=1, acti=\"relu\")\n",
    "clf7 = functions.nn(X_train, y_train, nodes=4, layers=1, acti=\"relu\")\n",
    "clf8 = functions.nn(X_train, y_train, nodes=5, layers=1, acti=\"relu\")\n",
    "\n",
    "# predict on test set\n",
    "intuit75k_test[\"mailto_nn_clf5\"] = clf5.predict_proba(X_test)[:, 1]\n",
    "intuit75k_test[\"mailto_nn_clf6\"] = clf6.predict_proba(X_test)[:, 1]\n",
    "intuit75k_test[\"mailto_nn_clf7\"] = clf7.predict_proba(X_test)[:, 1]\n",
    "intuit75k_test[\"mailto_nn_clf8\"] = clf8.predict_proba(X_test)[:, 1]\n",
    "\n",
    "\n",
    "# Neural network with 5 nodes and 1 layers\n",
    "profit_nn_clf5, rome_nn_clf5 = functions.calc_perf(\n",
    "    intuit75k_test,\n",
    "    col=\"mailto_nn_clf5\",\n",
    "    intro=\"By using Neural Network with 2 nodes and 1 layers using relu\",\n",
    ")\n",
    "\n",
    "# Neural network with 6 nodes and 1 layers\n",
    "profit_nn_clf6, rome_nn_clf6 = functions.calc_perf(\n",
    "    intuit75k_test,\n",
    "    col=\"mailto_nn_clf6\",\n",
    "    intro=\"By using Neural Network with 3 nodes and 1 layers using relu\",\n",
    ")\n",
    "\n",
    "# Neural network with 7 nodes and 1 layers\n",
    "profit_nn_clf7, rome_nn_clf7 = functions.calc_perf(\n",
    "    intuit75k_test,\n",
    "    col=\"mailto_nn_clf7\",\n",
    "    intro=\"By using Neural network with 4 nodes and 1 layers using relu\",\n",
    ")\n",
    "\n",
    "# Neural network with 8 nodes and 1 layers\n",
    "profit_nn_clf8, rome_nn_clf8 = functions.calc_perf(\n",
    "    intuit75k_test,\n",
    "    col=\"mailto_nn_clf8\",\n",
    "    intro=\"By using Neural network with 5 nodes and 1 layers using relu\",\n",
    ")"
   ]
  },
  {
   "cell_type": "code",
   "execution_count": 43,
   "id": "cloudy-better",
   "metadata": {},
   "outputs": [
    {
     "name": "stdout",
     "output_type": "stream",
     "text": [
      "By using Neural Network with 2 nodes and 1 layers using logistic, the expected profit is $37,675 with a ROME of 210.66%.\n",
      "By using Neural Network with 3 nodes and 1 layers using logistic, the expected profit is $38,020 with a ROME of 204.85%.\n",
      "By using Neural network with 4 nodes and 1 layers using logistic, the expected profit is $37,844 with a ROME of 202.64%.\n",
      "By using Neural network with 5 nodes and 1 layers using logistic, the expected profit is $37,945 with a ROME of 202.33%.\n"
     ]
    }
   ],
   "source": [
    "clf9 = functions.nn(X_train, y_train, nodes=2, layers=1, acti=\"logistic\")\n",
    "clf10 = functions.nn(X_train, y_train, nodes=3, layers=1, acti=\"logistic\")\n",
    "clf11 = functions.nn(X_train, y_train, nodes=4, layers=1, acti=\"logistic\")\n",
    "clf12 = functions.nn(X_train, y_train, nodes=5, layers=1, acti=\"logistic\")\n",
    "\n",
    "# predict on test set\n",
    "intuit75k_test[\"mailto_nn_clf9\"] = clf9.predict_proba(X_test)[:, 1]\n",
    "intuit75k_test[\"mailto_nn_clf10\"] = clf10.predict_proba(X_test)[:, 1]\n",
    "intuit75k_test[\"mailto_nn_clf11\"] = clf11.predict_proba(X_test)[:, 1]\n",
    "intuit75k_test[\"mailto_nn_clf12\"] = clf12.predict_proba(X_test)[:, 1]\n",
    "\n",
    "\n",
    "# Neural network with 2 nodes and 1 layers\n",
    "profit_nn_clf9, rome_nn_clf9 = functions.calc_perf(\n",
    "    intuit75k_test,\n",
    "    col=\"mailto_nn_clf9\",\n",
    "    intro=\"By using Neural Network with 2 nodes and 1 layers using logistic\",\n",
    ")\n",
    "\n",
    "# Neural network with 3 nodes and 1 layers\n",
    "profit_nn_clf10, rome_nn_clf10 = functions.calc_perf(\n",
    "    intuit75k_test,\n",
    "    col=\"mailto_nn_clf10\",\n",
    "    intro=\"By using Neural Network with 3 nodes and 1 layers using logistic\",\n",
    ")\n",
    "\n",
    "# Neural network with 4 nodes and 1 layers\n",
    "profit_nn_clf11, rome_nn_clf11 = functions.calc_perf(\n",
    "    intuit75k_test,\n",
    "    col=\"mailto_nn_clf11\",\n",
    "    intro=\"By using Neural network with 4 nodes and 1 layers using logistic\",\n",
    ")\n",
    "\n",
    "# Neural network with 5 nodes and 1 layers\n",
    "profit_nn_clf12, rome_nn_clf12 = functions.calc_perf(\n",
    "    intuit75k_test,\n",
    "    col=\"mailto_nn_clf12\",\n",
    "    intro=\"By using Neural network with 5 nodes and 1 layers using logistic\",\n",
    ")"
   ]
  },
  {
   "cell_type": "code",
   "execution_count": 44,
   "id": "processed-senate",
   "metadata": {},
   "outputs": [
    {
     "name": "stdout",
     "output_type": "stream",
     "text": [
      "By using Neural Network with 2 nodes and 1 layers using relu at learning rate 0.1, the expected profit is $38,549 with a ROME of 188.68%.\n",
      "By using Neural Network with 2 nodes and 1 layers using relu at learning rate 0.01 , the expected profit is $38,473 with a ROME of 189.28%.\n",
      "By using Neural network with 2 nodes and 1 layers using relu at learning rate 0.001, the expected profit is $38,511 with a ROME of 189.82%.\n",
      "By using Neural network with 2 nodes and 1 layers using relu at learning rate 0.0001, the expected profit is $38,479 with a ROME of 189.36%.\n",
      "By using Neural Network with 2 nodes and 1 layers using relu at learning rate 0.00001, the expected profit is $38,491 with a ROME of 189.54%.\n"
     ]
    }
   ],
   "source": [
    "clf13 = functions.nn(X_train, y_train, nodes=2, layers=1, acti=\"relu\", a=0.1)\n",
    "clf14 = functions.nn(X_train, y_train, nodes=2, layers=1, acti=\"relu\", a=0.01)\n",
    "clf15 = functions.nn(X_train, y_train, nodes=2, layers=1, acti=\"relu\", a=0.001)\n",
    "clf16 = functions.nn(X_train, y_train, nodes=2, layers=1, acti=\"relu\", a=0.0001)\n",
    "clf17 = functions.nn(X_train, y_train, nodes=2, layers=1, acti=\"relu\", a=0.00001)\n",
    "\n",
    "# predict on test set\n",
    "intuit75k_test[\"mailto_nn_clf13\"] = clf13.predict_proba(X_test)[:, 1]\n",
    "intuit75k_test[\"mailto_nn_clf14\"] = clf14.predict_proba(X_test)[:, 1]\n",
    "intuit75k_test[\"mailto_nn_clf15\"] = clf15.predict_proba(X_test)[:, 1]\n",
    "intuit75k_test[\"mailto_nn_clf16\"] = clf16.predict_proba(X_test)[:, 1]\n",
    "intuit75k_test[\"mailto_nn_clf17\"] = clf17.predict_proba(X_test)[:, 1]\n",
    "\n",
    "# Neural network with 5 nodes and 1 layers\n",
    "profit_nn_clf13, rome_nn_clf13 = functions.calc_perf(\n",
    "    intuit75k_test,\n",
    "    col=\"mailto_nn_clf13\",\n",
    "    intro=\"By using Neural Network with 2 nodes and 1 layers using relu at learning rate 0.1\",\n",
    ")\n",
    "\n",
    "# Neural network with 6 nodes and 1 layers\n",
    "profit_nn_clf14, rome_nn_clf14 = functions.calc_perf(\n",
    "    intuit75k_test,\n",
    "    col=\"mailto_nn_clf14\",\n",
    "    intro=\"By using Neural Network with 2 nodes and 1 layers using relu at learning rate 0.01 \",\n",
    ")\n",
    "\n",
    "# Neural network with 7 nodes and 1 layers\n",
    "profit_nn_clf15, rome_nn_clf15 = functions.calc_perf(\n",
    "    intuit75k_test,\n",
    "    col=\"mailto_nn_clf15\",\n",
    "    intro=\"By using Neural network with 2 nodes and 1 layers using relu at learning rate 0.001\",\n",
    ")\n",
    "\n",
    "# Neural network with 8 nodes and 1 layers\n",
    "profit_nn_clf16, rome_nn_clf16 = functions.calc_perf(\n",
    "    intuit75k_test,\n",
    "    col=\"mailto_nn_clf16\",\n",
    "    intro=\"By using Neural network with 2 nodes and 1 layers using relu at learning rate 0.0001\",\n",
    ")\n",
    "\n",
    "profit_nn_clf17, rome_nn_clf17 = functions.calc_perf(\n",
    "    intuit75k_test,\n",
    "    col=\"mailto_nn_clf17\",\n",
    "    intro=\"By using Neural Network with 2 nodes and 1 layers using relu at learning rate 0.00001\",\n",
    ")\n",
    "\n",
    "# store it again to make graph\n",
    "result_df = result_df.assign(mailto_nn=clf13.predict_proba(X_test)[:, 1])"
   ]
  },
  {
   "cell_type": "code",
   "execution_count": 45,
   "id": "boxed-binding",
   "metadata": {},
   "outputs": [
    {
     "name": "stdout",
     "output_type": "stream",
     "text": [
      "By using Neural Network with 4 nodes and 1 layers using tahn at learning rate 0.1, the expected profit is $37,623 with a ROME of 200.37%.\n",
      "By using Neural Network with 4 nodes and 1 layers using tahn at learning rate 0.01 , the expected profit is $37,902 with a ROME of 203.58%.\n",
      "By using Neural network with 4 nodes and 1 layers using tahn at learning rate 0.001, the expected profit is $37,949 with a ROME of 202.4%.\n",
      "By using Neural network with 4 nodes and 1 layers using tahn at learning rate 0.0001, the expected profit is $37,663 with a ROME of 200.37%.\n",
      "By using Neural Network with 4 nodes and 1 layers using tahn at learning rate 0.00001, the expected profit is $37,721 with a ROME of 200.02%.\n"
     ]
    }
   ],
   "source": [
    "clf18 = functions.nn(X_train, y_train, nodes=4, layers=1, a=0.1)\n",
    "clf19 = functions.nn(X_train, y_train, nodes=4, layers=1, a=0.01)\n",
    "clf20 = functions.nn(X_train, y_train, nodes=4, layers=1, a=0.001)\n",
    "clf21 = functions.nn(X_train, y_train, nodes=4, layers=1, a=0.0001)\n",
    "clf22 = functions.nn(X_train, y_train, nodes=4, layers=1, a=0.00001)\n",
    "\n",
    "# predict on test set\n",
    "intuit75k_test[\"mailto_nn_clf18\"] = clf18.predict_proba(X_test)[:, 1]\n",
    "intuit75k_test[\"mailto_nn_clf19\"] = clf19.predict_proba(X_test)[:, 1]\n",
    "intuit75k_test[\"mailto_nn_clf20\"] = clf20.predict_proba(X_test)[:, 1]\n",
    "intuit75k_test[\"mailto_nn_clf21\"] = clf21.predict_proba(X_test)[:, 1]\n",
    "intuit75k_test[\"mailto_nn_clf22\"] = clf22.predict_proba(X_test)[:, 1]\n",
    "\n",
    "# Neural network with 5 nodes and 1 layers\n",
    "profit_nn_clf18, rome_nn_clf18 = functions.calc_perf(\n",
    "    intuit75k_test,\n",
    "    col=\"mailto_nn_clf18\",\n",
    "    intro=\"By using Neural Network with 4 nodes and 1 layers using tahn at learning rate 0.1\",\n",
    ")\n",
    "\n",
    "# Neural network with 6 nodes and 1 layers\n",
    "profit_nn_clf19, rome_nn_clf19 = functions.calc_perf(\n",
    "    intuit75k_test,\n",
    "    col=\"mailto_nn_clf19\",\n",
    "    intro=\"By using Neural Network with 4 nodes and 1 layers using tahn at learning rate 0.01 \",\n",
    ")\n",
    "\n",
    "# Neural network with 7 nodes and 1 layers\n",
    "profit_nn_clf20, rome_nn_clf20 = functions.calc_perf(\n",
    "    intuit75k_test,\n",
    "    col=\"mailto_nn_clf20\",\n",
    "    intro=\"By using Neural network with 4 nodes and 1 layers using tahn at learning rate 0.001\",\n",
    ")\n",
    "\n",
    "# Neural network with 8 nodes and 1 layers\n",
    "profit_nn_clf21, rome_nn_clf21 = functions.calc_perf(\n",
    "    intuit75k_test,\n",
    "    col=\"mailto_nn_clf21\",\n",
    "    intro=\"By using Neural network with 4 nodes and 1 layers using tahn at learning rate 0.0001\",\n",
    ")\n",
    "\n",
    "profit_nn_clf22, rome_nn_clf22 = functions.calc_perf(\n",
    "    intuit75k_test,\n",
    "    col=\"mailto_nn_clf22\",\n",
    "    intro=\"By using Neural Network with 4 nodes and 1 layers using tahn at learning rate 0.00001\",\n",
    ")"
   ]
  },
  {
   "cell_type": "code",
   "execution_count": 46,
   "id": "convinced-interface",
   "metadata": {},
   "outputs": [
    {
     "name": "stdout",
     "output_type": "stream",
     "text": [
      "By using Neural Network with 4 nodes and 1 layers using logistic at learning rate 0.1, the expected profit is $38,021 with a ROME of 200.34%.\n",
      "By using Neural Network with 4 nodes and 1 layers using logistic at learning rate 0.01 , the expected profit is $38,136 with a ROME of 207.45%.\n",
      "By using Neural network with 4 nodes and 1 layers using logistic at learning rate 0.001, the expected profit is $37,963 with a ROME of 208.64%.\n",
      "By using Neural network with 4 nodes and 1 layers using logistic at learning rate 0.0001, the expected profit is $37,844 with a ROME of 202.64%.\n",
      "By using Neural Network with 4 nodes and 1 layers using logistic at learning rate 0.00001, the expected profit is $38,259 with a ROME of 206.8%.\n"
     ]
    }
   ],
   "source": [
    "clf23 = functions.nn(X_train, y_train, nodes=4, layers=1, acti=\"logistic\", a=0.1)\n",
    "clf24 = functions.nn(X_train, y_train, nodes=4, layers=1, acti=\"logistic\", a=0.01)\n",
    "clf25 = functions.nn(X_train, y_train, nodes=4, layers=1, acti=\"logistic\", a=0.001)\n",
    "clf26 = functions.nn(X_train, y_train, nodes=4, layers=1, acti=\"logistic\", a=0.0001)\n",
    "clf27 = functions.nn(X_train, y_train, nodes=4, layers=1, acti=\"logistic\", a=0.00001)\n",
    "\n",
    "# predict on test set\n",
    "intuit75k_test[\"mailto_nn_clf23\"] = clf23.predict_proba(X_test)[:, 1]\n",
    "intuit75k_test[\"mailto_nn_clf24\"] = clf24.predict_proba(X_test)[:, 1]\n",
    "intuit75k_test[\"mailto_nn_clf25\"] = clf25.predict_proba(X_test)[:, 1]\n",
    "intuit75k_test[\"mailto_nn_clf26\"] = clf26.predict_proba(X_test)[:, 1]\n",
    "intuit75k_test[\"mailto_nn_clf27\"] = clf27.predict_proba(X_test)[:, 1]\n",
    "\n",
    "# Neural network with 5 nodes and 1 layers\n",
    "profit_nn_clf23, rome_nn_clf23 = functions.calc_perf(\n",
    "    intuit75k_test,\n",
    "    col=\"mailto_nn_clf23\",\n",
    "    intro=\"By using Neural Network with 4 nodes and 1 layers using logistic at learning rate 0.1\",\n",
    ")\n",
    "\n",
    "# Neural network with 6 nodes and 1 layers\n",
    "profit_nn_clf24, rome_nn_clf24 = functions.calc_perf(\n",
    "    intuit75k_test,\n",
    "    col=\"mailto_nn_clf24\",\n",
    "    intro=\"By using Neural Network with 4 nodes and 1 layers using logistic at learning rate 0.01 \",\n",
    ")\n",
    "\n",
    "# Neural network with 7 nodes and 1 layers\n",
    "profit_nn_clf25, rome_nn_clf25 = functions.calc_perf(\n",
    "    intuit75k_test,\n",
    "    col=\"mailto_nn_clf25\",\n",
    "    intro=\"By using Neural network with 4 nodes and 1 layers using logistic at learning rate 0.001\",\n",
    ")\n",
    "\n",
    "# Neural network with 8 nodes and 1 layers\n",
    "profit_nn_clf26, rome_nn_clf26 = functions.calc_perf(\n",
    "    intuit75k_test,\n",
    "    col=\"mailto_nn_clf26\",\n",
    "    intro=\"By using Neural network with 4 nodes and 1 layers using logistic at learning rate 0.0001\",\n",
    ")\n",
    "\n",
    "profit_nn_clf27, rome_nn_clf27 = functions.calc_perf(\n",
    "    intuit75k_test,\n",
    "    col=\"mailto_nn_clf27\",\n",
    "    intro=\"By using Neural Network with 4 nodes and 1 layers using logistic at learning rate 0.00001\",\n",
    ")"
   ]
  },
  {
   "cell_type": "markdown",
   "id": "reduced-elizabeth",
   "metadata": {},
   "source": [
    "## Compare performance and select model"
   ]
  },
  {
   "cell_type": "markdown",
   "id": "imposed-niger",
   "metadata": {},
   "source": [
    "### Profits and ROMEs"
   ]
  },
  {
   "cell_type": "code",
   "execution_count": 51,
   "id": "industrial-pierce",
   "metadata": {},
   "outputs": [],
   "source": [
    "profit_rome_df = pd.DataFrame(\n",
    "    {\n",
    "        \"Name\": [\n",
    "            \"Random Forest\",\n",
    "            \"XGBoost\",\n",
    "            \"Gradient Boosting\",\n",
    "            \"Neural Network\",\n",
    "        ],\n",
    "        \"Profit\": [\n",
    "            profit_rf,\n",
    "            profit_xgb,\n",
    "            profit_gb_clf,\n",
    "            profit_nn_clf13,\n",
    "        ],\n",
    "        \"ROME\": [\n",
    "            rome_rf,\n",
    "            rome_xgb,\n",
    "            rome_gb_clf,\n",
    "            rome_nn_clf13,\n",
    "        ],\n",
    "    }\n",
    ")"
   ]
  },
  {
   "cell_type": "code",
   "execution_count": 66,
   "id": "velvet-liver",
   "metadata": {},
   "outputs": [
    {
     "data": {
      "image/png": "[encoded data removed]",
      "text/plain": [
       "<Figure size 720x432 with 1 Axes>"
      ]
     },
     "metadata": {
      "needs_background": "light"
     },
     "output_type": "display_data"
    }
   ],
   "source": [
    "# plot for profit\n",
    "plt.figure(figsize=(10, 6))\n",
    "fig = sns.barplot(x=\"Name\", y=\"Profit\", color=\"slateblue\", data=profit_rome_df)\n",
    "fig.set(xlabel=\"\", ylabel=\"Profit\", title=\"Profit\")\n",
    "for index, row in profit_rome_df.iterrows():\n",
    "    fig.text(\n",
    "        row.name, row.Profit - 2000, f\"{int(row.Profit):,}\", ha=\"center\", color=\"white\"\n",
    "    )"
   ]
  },
  {
   "cell_type": "code",
   "execution_count": 65,
   "id": "insured-brazilian",
   "metadata": {},
   "outputs": [
    {
     "data": {
      "image/png": "[encoded data removed]",
      "text/plain": [
       "<Figure size 720x432 with 1 Axes>"
      ]
     },
     "metadata": {
      "needs_background": "light"
     },
     "output_type": "display_data"
    }
   ],
   "source": [
    "# plot for rome\n",
    "plt.figure(figsize=(10, 6))\n",
    "fig = sns.barplot(x=\"Name\", y=\"ROME\", color=\"slateblue\", data=profit_rome_df)\n",
    "fig.set(xlabel=\"\", ylabel=\"ROME\", title=\"Return on Marketing Expenditures (ROME)\")\n",
    "for index, row in profit_rome_df.iterrows():\n",
    "    fig.text(\n",
    "        row.name,\n",
    "        row.ROME - 0.12,\n",
    "        f\"{round((100*row.ROME), 2):,}%\",\n",
    "        ha=\"center\",\n",
    "        color=\"white\",\n",
    "    )"
   ]
  },
  {
   "cell_type": "markdown",
   "id": "temporal-leisure",
   "metadata": {},
   "source": [
    "### Gains, lifts (and AUC)"
   ]
  },
  {
   "cell_type": "code",
   "execution_count": 54,
   "id": "peaceful-swedish",
   "metadata": {},
   "outputs": [
    {
     "data": {
      "text/plain": [
       "<AxesSubplot:xlabel='Proportion of customers', ylabel='Cumulative gains'>"
      ]
     },
     "execution_count": 54,
     "metadata": {},
     "output_type": "execute_result"
    },
    {
     "data": {
      "image/png": "[encoded data removed]",
      "text/plain": [
       "<Figure size 1152x576 with 1 Axes>"
      ]
     },
     "metadata": {
      "needs_background": "light"
     },
     "output_type": "display_data"
    }
   ],
   "source": [
    "# gains\n",
    "plt.figure(figsize=(16, 8))\n",
    "rsm.gains_plot(\n",
    "    result_df,\n",
    "    rvar=\"res1\",\n",
    "    lev=\"Yes\",\n",
    "    pred=[\n",
    "        \"mailto_rf\",\n",
    "        \"mailto_xgb\",\n",
    "        \"mailto_gb_clf\",\n",
    "        \"mailto_nn\",\n",
    "    ],\n",
    "    qnt=10,\n",
    "    marker=\"o\",\n",
    ")"
   ]
  },
  {
   "cell_type": "code",
   "execution_count": 55,
   "id": "broadband-marks",
   "metadata": {},
   "outputs": [
    {
     "data": {
      "text/plain": [
       "<AxesSubplot:xlabel='Proportion of customers', ylabel='Cumulative lift'>"
      ]
     },
     "execution_count": 55,
     "metadata": {},
     "output_type": "execute_result"
    },
    {
     "data": {
      "image/png": "[encoded data removed]",
      "text/plain": [
       "<Figure size 1152x576 with 1 Axes>"
      ]
     },
     "metadata": {
      "needs_background": "light"
     },
     "output_type": "display_data"
    }
   ],
   "source": [
    "# lifts\n",
    "plt.figure(figsize=(16, 8))\n",
    "rsm.lift_plot(\n",
    "    result_df,\n",
    "    rvar=\"res1\",\n",
    "    lev=\"Yes\",\n",
    "    pred=[\n",
    "        \"mailto_rf\",\n",
    "        \"mailto_xgb\",\n",
    "        \"mailto_gb_clf\",\n",
    "        \"mailto_nn\",\n",
    "    ],\n",
    "    qnt=10,\n",
    "    marker=\"o\",\n",
    ")"
   ]
  },
  {
   "cell_type": "code",
   "execution_count": 56,
   "id": "lucky-interface",
   "metadata": {},
   "outputs": [],
   "source": [
    "fpr_rf, tpr_rf, thresholds_rf = roc_curve(\n",
    "    result_df[\"res1_yes\"], result_df[\"mailto_rf\"], pos_label=1\n",
    ")\n",
    "auc_rf = auc(fpr_rf, tpr_rf)"
   ]
  },
  {
   "cell_type": "code",
   "execution_count": 57,
   "id": "occasional-subdivision",
   "metadata": {},
   "outputs": [],
   "source": [
    "fpr_xgb, tpr_xgb, thresholds_xgb = roc_curve(\n",
    "    result_df[\"res1_yes\"], result_df[\"mailto_xgb\"], pos_label=1\n",
    ")\n",
    "auc_xgb = auc(fpr_xgb, tpr_xgb)"
   ]
  },
  {
   "cell_type": "code",
   "execution_count": 58,
   "id": "yellow-personal",
   "metadata": {},
   "outputs": [],
   "source": [
    "fpr_gb_clf, tpr_gb_clf, thresholds_gb_clf = roc_curve(\n",
    "    result_df[\"res1_yes\"], result_df[\"mailto_gb_clf\"], pos_label=1\n",
    ")\n",
    "auc_gb_clf = auc(fpr_gb_clf, tpr_gb_clf)"
   ]
  },
  {
   "cell_type": "code",
   "execution_count": 59,
   "id": "alike-poster",
   "metadata": {},
   "outputs": [],
   "source": [
    "fpr_nn, tpr_nn, thresholds_nn = roc_curve(\n",
    "    result_df[\"res1_yes\"], result_df[\"mailto_nn\"], pos_label=1\n",
    ")\n",
    "auc_nn = auc(fpr_nn, tpr_nn)"
   ]
  },
  {
   "cell_type": "code",
   "execution_count": 63,
   "id": "voluntary-fundamental",
   "metadata": {},
   "outputs": [
    {
     "data": {
      "text/html": [
       "<div>\n",
       "<style scoped>\n",
       "    .dataframe tbody tr th:only-of-type {\n",
       "        vertical-align: middle;\n",
       "    }\n",
       "\n",
       "    .dataframe tbody tr th {\n",
       "        vertical-align: top;\n",
       "    }\n",
       "\n",
       "    .dataframe thead th {\n",
       "        text-align: right;\n",
       "    }\n",
       "</style>\n",
       "<table border=\"1\" class=\"dataframe\">\n",
       "  <thead>\n",
       "    <tr style=\"text-align: right;\">\n",
       "      <th></th>\n",
       "      <th>Name</th>\n",
       "      <th>AUC</th>\n",
       "    </tr>\n",
       "  </thead>\n",
       "  <tbody>\n",
       "    <tr>\n",
       "      <th>0</th>\n",
       "      <td>Random Forest</td>\n",
       "      <td>0.767819</td>\n",
       "    </tr>\n",
       "    <tr>\n",
       "      <th>1</th>\n",
       "      <td>XGBoost</td>\n",
       "      <td>0.767017</td>\n",
       "    </tr>\n",
       "    <tr>\n",
       "      <th>2</th>\n",
       "      <td>Gradient Boosting</td>\n",
       "      <td>0.768493</td>\n",
       "    </tr>\n",
       "    <tr>\n",
       "      <th>3</th>\n",
       "      <td>Neural Network</td>\n",
       "      <td>0.754618</td>\n",
       "    </tr>\n",
       "  </tbody>\n",
       "</table>\n",
       "</div>"
      ],
      "text/plain": [
       "                Name       AUC\n",
       "0      Random Forest  0.767819\n",
       "1            XGBoost  0.767017\n",
       "2  Gradient Boosting  0.768493\n",
       "3     Neural Network  0.754618"
      ]
     },
     "execution_count": 63,
     "metadata": {},
     "output_type": "execute_result"
    }
   ],
   "source": [
    "auc_df = pd.DataFrame(\n",
    "    {\n",
    "        \"Name\": [\n",
    "            \"Random Forest\",\n",
    "            \"XGBoost\",\n",
    "            \"Gradient Boosting\",\n",
    "            \"Neural Network\",\n",
    "        ],\n",
    "        \"AUC\": [\n",
    "            auc_rf,\n",
    "            auc_xgb,\n",
    "            auc_gb_clf,\n",
    "            auc_nn,\n",
    "        ],\n",
    "    }\n",
    ")\n",
    "auc_df"
   ]
  },
  {
   "cell_type": "markdown",
   "id": "sized-stanford",
   "metadata": {},
   "source": [
    "### Anticipate profit in Wave-2 and generate csv"
   ]
  },
  {
   "cell_type": "markdown",
   "id": "continued-bibliography",
   "metadata": {},
   "source": [
    "Based on the performances above, we decide to use Gradient Boosting."
   ]
  },
  {
   "cell_type": "code",
   "execution_count": 12,
   "id": "minimal-recruitment",
   "metadata": {},
   "outputs": [
    {
     "name": "stdout",
     "output_type": "stream",
     "text": [
      "By using Gradient boosting, the anticipate profit in Wave-2 will be $458655.\n"
     ]
    }
   ],
   "source": [
    "profit_w2_gb_clf = functions.profit_wave2(\n",
    "    intuit75k_copy_test, col=\"mailto_gb_clf\", intro=\"By using Gradient boosting\"\n",
    ")"
   ]
  },
  {
   "cell_type": "code",
   "execution_count": 11,
   "id": "fancy-socket",
   "metadata": {},
   "outputs": [],
   "source": [
    "# predict probability for Wave-2\n",
    "wave2 = intuit75k_copy_test.query(\"res1_yes == 0\").copy()\n",
    "\n",
    "scalar = StandardScaler()\n",
    "sf1 = scalar.fit(wave2[[\"numords\"]])\n",
    "sf2 = scalar.fit(wave2[[\"last\"]])\n",
    "wave2[\"numords\"] = sf1.transform(wave2[[\"numords\"]])\n",
    "wave2[\"last\"] = sf2.transform(wave2[[\"last\"]])\n",
    "\n",
    "wave2[\"mailto_wave2\"] = (\n",
    "    gb_clf.predict_proba(\n",
    "        pd.get_dummies(\n",
    "            wave2[cols],\n",
    "            drop_first=True,\n",
    "        )\n",
    "    )[:, 1]\n",
    "    * 0.5\n",
    "    > 0.0235\n",
    ")"
   ]
  },
  {
   "cell_type": "code",
   "execution_count": 13,
   "id": "dying-norwegian",
   "metadata": {},
   "outputs": [],
   "source": [
    "# Generate the CSV\n",
    "result = pd.merge(\n",
    "    intuit75k_copy_test[[\"id\"]].copy(),\n",
    "    wave2[[\"id\", \"mailto_wave2\"]],\n",
    "    on=\"id\",\n",
    "    how=\"left\",\n",
    ").fillna(False)\n",
    "\n",
    "# Check for merger\n",
    "# (\n",
    "#     result.loc[result[\"mailto_wave2\"] == True, \"id\"].values\n",
    "#     != wave2.loc[wave2[\"mailto_wave2\"] == True, \"id\"].values\n",
    "# ).sum()\n",
    "\n",
    "result.to_csv(\"Yinluo_Zezheng_Yuquan_Shangfu_Anaconda.csv\", index=False)"
   ]
  }
 ],
 "metadata": {
  "kernelspec": {
   "display_name": "Python 3",
   "language": "python",
   "name": "python3"
  },
  "language_info": {
   "codemirror_mode": {
    "name": "ipython",
    "version": 3
   },
   "file_extension": ".py",
   "mimetype": "text/x-python",
   "name": "python",
   "nbconvert_exporter": "python",
   "pygments_lexer": "ipython3",
   "version": "3.8.5"
  }
 },
 "nbformat": 4,
 "nbformat_minor": 5
}
