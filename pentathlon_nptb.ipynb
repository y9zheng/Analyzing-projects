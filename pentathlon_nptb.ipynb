{
 "cells": [
  {
   "cell_type": "markdown",
   "metadata": {},
   "source": [
    "# Pentathlon-III: Next Product to Buy Models\n",
    "\n",
    "* Team-lead GitLab userid: yil012\n",
    "* Group name: Anaconda\n",
    "* Team member names: Yinluo Li, Yuquan Zheng, Zezheng Hao, Shangfu Chen"
   ]
  },
  {
   "cell_type": "code",
   "execution_count": 1,
   "metadata": {},
   "outputs": [],
   "source": [
    "import warnings\n",
    "\n",
    "import matplotlib as mpl\n",
    "import matplotlib.pyplot as plt\n",
    "import numpy as np\n",
    "import pandas as pd\n",
    "import pyrsm as rsm\n",
    "import statsmodels.formula.api as smf\n",
    "from sklearn import preprocessing\n",
    "from sklearn.ensemble import GradientBoostingClassifier, RandomForestClassifier\n",
    "from sklearn.model_selection import RandomizedSearchCV\n",
    "from statsmodels.genmod.families import Binomial\n",
    "from statsmodels.genmod.families.links import logit\n",
    "from utils import functions\n",
    "\n",
    "warnings.filterwarnings(\"ignore\")"
   ]
  },
  {
   "cell_type": "code",
   "execution_count": 2,
   "metadata": {},
   "outputs": [
    {
     "data": {
      "text/html": [
       "<div>\n",
       "<style scoped>\n",
       "    .dataframe tbody tr th:only-of-type {\n",
       "        vertical-align: middle;\n",
       "    }\n",
       "\n",
       "    .dataframe tbody tr th {\n",
       "        vertical-align: top;\n",
       "    }\n",
       "\n",
       "    .dataframe thead th {\n",
       "        text-align: right;\n",
       "    }\n",
       "</style>\n",
       "<table border=\"1\" class=\"dataframe\">\n",
       "  <thead>\n",
       "    <tr style=\"text-align: right;\">\n",
       "      <th></th>\n",
       "      <th>custid</th>\n",
       "      <th>buyer</th>\n",
       "      <th>total_os</th>\n",
       "      <th>message</th>\n",
       "      <th>age</th>\n",
       "      <th>gender</th>\n",
       "      <th>income</th>\n",
       "      <th>education</th>\n",
       "      <th>children</th>\n",
       "      <th>freq_endurance</th>\n",
       "      <th>...</th>\n",
       "      <th>endurance_os</th>\n",
       "      <th>strength_os</th>\n",
       "      <th>water_os</th>\n",
       "      <th>team_os</th>\n",
       "      <th>backcountry_os</th>\n",
       "      <th>winter_os</th>\n",
       "      <th>racquet_os</th>\n",
       "      <th>training</th>\n",
       "      <th>representative</th>\n",
       "      <th>buyer_yes</th>\n",
       "    </tr>\n",
       "  </thead>\n",
       "  <tbody>\n",
       "    <tr>\n",
       "      <th>0</th>\n",
       "      <td>U45198803</td>\n",
       "      <td>no</td>\n",
       "      <td>0.0</td>\n",
       "      <td>endurance</td>\n",
       "      <td>30 to 44</td>\n",
       "      <td>M</td>\n",
       "      <td>25000</td>\n",
       "      <td>14</td>\n",
       "      <td>1.3</td>\n",
       "      <td>0</td>\n",
       "      <td>...</td>\n",
       "      <td>0.0</td>\n",
       "      <td>0.0</td>\n",
       "      <td>0.0</td>\n",
       "      <td>0.0</td>\n",
       "      <td>0.0</td>\n",
       "      <td>0.0</td>\n",
       "      <td>0.0</td>\n",
       "      <td>-2147483648</td>\n",
       "      <td>1</td>\n",
       "      <td>0</td>\n",
       "    </tr>\n",
       "    <tr>\n",
       "      <th>1</th>\n",
       "      <td>U22197752</td>\n",
       "      <td>no</td>\n",
       "      <td>0.0</td>\n",
       "      <td>backcountry</td>\n",
       "      <td>45 to 59</td>\n",
       "      <td>F</td>\n",
       "      <td>40000</td>\n",
       "      <td>44</td>\n",
       "      <td>0.4</td>\n",
       "      <td>2</td>\n",
       "      <td>...</td>\n",
       "      <td>0.0</td>\n",
       "      <td>0.0</td>\n",
       "      <td>0.0</td>\n",
       "      <td>0.0</td>\n",
       "      <td>0.0</td>\n",
       "      <td>0.0</td>\n",
       "      <td>0.0</td>\n",
       "      <td>-2147483648</td>\n",
       "      <td>1</td>\n",
       "      <td>0</td>\n",
       "    </tr>\n",
       "    <tr>\n",
       "      <th>2</th>\n",
       "      <td>U83874832</td>\n",
       "      <td>no</td>\n",
       "      <td>0.0</td>\n",
       "      <td>backcountry</td>\n",
       "      <td>45 to 59</td>\n",
       "      <td>M</td>\n",
       "      <td>50000</td>\n",
       "      <td>24</td>\n",
       "      <td>0.8</td>\n",
       "      <td>0</td>\n",
       "      <td>...</td>\n",
       "      <td>0.0</td>\n",
       "      <td>0.0</td>\n",
       "      <td>0.0</td>\n",
       "      <td>0.0</td>\n",
       "      <td>0.0</td>\n",
       "      <td>0.0</td>\n",
       "      <td>0.0</td>\n",
       "      <td>1</td>\n",
       "      <td>0</td>\n",
       "      <td>0</td>\n",
       "    </tr>\n",
       "    <tr>\n",
       "      <th>3</th>\n",
       "      <td>U19423462</td>\n",
       "      <td>no</td>\n",
       "      <td>0.0</td>\n",
       "      <td>winter</td>\n",
       "      <td>45 to 59</td>\n",
       "      <td>F</td>\n",
       "      <td>50000</td>\n",
       "      <td>26</td>\n",
       "      <td>1.1</td>\n",
       "      <td>1</td>\n",
       "      <td>...</td>\n",
       "      <td>0.0</td>\n",
       "      <td>0.0</td>\n",
       "      <td>0.0</td>\n",
       "      <td>0.0</td>\n",
       "      <td>0.0</td>\n",
       "      <td>0.0</td>\n",
       "      <td>0.0</td>\n",
       "      <td>-2147483648</td>\n",
       "      <td>1</td>\n",
       "      <td>0</td>\n",
       "    </tr>\n",
       "    <tr>\n",
       "      <th>4</th>\n",
       "      <td>U23888305</td>\n",
       "      <td>no</td>\n",
       "      <td>0.0</td>\n",
       "      <td>winter</td>\n",
       "      <td>30 to 44</td>\n",
       "      <td>M</td>\n",
       "      <td>40000</td>\n",
       "      <td>22</td>\n",
       "      <td>1.0</td>\n",
       "      <td>1</td>\n",
       "      <td>...</td>\n",
       "      <td>0.0</td>\n",
       "      <td>0.0</td>\n",
       "      <td>0.0</td>\n",
       "      <td>0.0</td>\n",
       "      <td>0.0</td>\n",
       "      <td>0.0</td>\n",
       "      <td>0.0</td>\n",
       "      <td>-2147483648</td>\n",
       "      <td>1</td>\n",
       "      <td>0</td>\n",
       "    </tr>\n",
       "  </tbody>\n",
       "</table>\n",
       "<p>5 rows × 26 columns</p>\n",
       "</div>"
      ],
      "text/plain": [
       "      custid buyer  total_os      message       age gender  income  education  \\\n",
       "0  U45198803    no       0.0    endurance  30 to 44      M   25000         14   \n",
       "1  U22197752    no       0.0  backcountry  45 to 59      F   40000         44   \n",
       "2  U83874832    no       0.0  backcountry  45 to 59      M   50000         24   \n",
       "3  U19423462    no       0.0       winter  45 to 59      F   50000         26   \n",
       "4  U23888305    no       0.0       winter  30 to 44      M   40000         22   \n",
       "\n",
       "   children  freq_endurance  ...  endurance_os  strength_os  water_os  \\\n",
       "0       1.3               0  ...           0.0          0.0       0.0   \n",
       "1       0.4               2  ...           0.0          0.0       0.0   \n",
       "2       0.8               0  ...           0.0          0.0       0.0   \n",
       "3       1.1               1  ...           0.0          0.0       0.0   \n",
       "4       1.0               1  ...           0.0          0.0       0.0   \n",
       "\n",
       "   team_os  backcountry_os  winter_os  racquet_os    training  representative  \\\n",
       "0      0.0             0.0        0.0         0.0 -2147483648               1   \n",
       "1      0.0             0.0        0.0         0.0 -2147483648               1   \n",
       "2      0.0             0.0        0.0         0.0           1               0   \n",
       "3      0.0             0.0        0.0         0.0 -2147483648               1   \n",
       "4      0.0             0.0        0.0         0.0 -2147483648               1   \n",
       "\n",
       "   buyer_yes  \n",
       "0          0  \n",
       "1          0  \n",
       "2          0  \n",
       "3          0  \n",
       "4          0  \n",
       "\n",
       "[5 rows x 26 columns]"
      ]
     },
     "execution_count": 2,
     "metadata": {},
     "output_type": "execute_result"
    }
   ],
   "source": [
    "## loading the data - this dataset must NOT be changed\n",
    "pentathlon_nptb = pd.read_pickle(\"data/pentathlon_nptb.pkl\")\n",
    "pentathlon_nptb[\"buyer_yes\"] = (pentathlon_nptb[\"buyer\"] == \"yes\").astype(int)\n",
    "pentathlon_nptb.head()"
   ]
  },
  {
   "cell_type": "code",
   "execution_count": 3,
   "metadata": {},
   "outputs": [],
   "source": [
    "pentathlon_nptb_copy = pentathlon_nptb.copy()"
   ]
  },
  {
   "cell_type": "code",
   "execution_count": 4,
   "metadata": {},
   "outputs": [
    {
     "name": "stdout",
     "output_type": "stream",
     "text": [
      "<class 'pandas.core.frame.DataFrame'>\n",
      "RangeIndex: 200000 entries, 0 to 199999\n",
      "Data columns (total 28 columns):\n",
      " #   Column            Non-Null Count   Dtype   \n",
      "---  ------            --------------   -----   \n",
      " 0   custid            200000 non-null  object  \n",
      " 1   buyer             200000 non-null  category\n",
      " 2   total_os          200000 non-null  float64 \n",
      " 3   message           200000 non-null  category\n",
      " 4   age               200000 non-null  category\n",
      " 5   gender            200000 non-null  category\n",
      " 6   income            200000 non-null  int32   \n",
      " 7   education         200000 non-null  int32   \n",
      " 8   children          200000 non-null  float64 \n",
      " 9   freq_endurance    200000 non-null  int32   \n",
      " 10  freq_strength     200000 non-null  int32   \n",
      " 11  freq_water        200000 non-null  int32   \n",
      " 12  freq_team         200000 non-null  int32   \n",
      " 13  freq_backcountry  200000 non-null  int32   \n",
      " 14  freq_winter       200000 non-null  int32   \n",
      " 15  freq_racquet      200000 non-null  int32   \n",
      " 16  endurance_os      200000 non-null  float64 \n",
      " 17  strength_os       200000 non-null  float64 \n",
      " 18  water_os          200000 non-null  float64 \n",
      " 19  team_os           200000 non-null  float64 \n",
      " 20  backcountry_os    200000 non-null  float64 \n",
      " 21  winter_os         200000 non-null  float64 \n",
      " 22  racquet_os        200000 non-null  float64 \n",
      " 23  training          200000 non-null  int32   \n",
      " 24  representative    200000 non-null  int32   \n",
      " 25  buyer_yes         200000 non-null  int64   \n",
      " 26  income_ln         200000 non-null  float64 \n",
      " 27  cweight           200000 non-null  int64   \n",
      "dtypes: category(4), float64(10), int32(11), int64(2), object(1)\n",
      "memory usage: 29.0+ MB\n"
     ]
    }
   ],
   "source": [
    "# preprocessing data\n",
    "pentathlon_nptb_copy = pentathlon_nptb_copy.assign(\n",
    "    income_ln=np.log(pentathlon_nptb_copy[\"income\"] + 1),\n",
    "    cweight=rsm.ifelse(pentathlon_nptb.buyer == \"yes\", 1, 99),\n",
    ")\n",
    "pentathlon_nptb_copy.info()"
   ]
  },
  {
   "cell_type": "code",
   "execution_count": 5,
   "metadata": {},
   "outputs": [],
   "source": [
    "# split data set\n",
    "pentathlon_nptb_train = pentathlon_nptb_copy.query(\n",
    "    \"training == 1 & representative == 0\"\n",
    ")\n",
    "pentathlon_nptb_test = pentathlon_nptb_copy.query(\"training == 0 & representative == 0\")"
   ]
  },
  {
   "cell_type": "markdown",
   "metadata": {},
   "source": [
    "# Logistic Regression"
   ]
  },
  {
   "cell_type": "code",
   "execution_count": 6,
   "metadata": {},
   "outputs": [
    {
     "data": {
      "text/html": [
       "<table class=\"simpletable\">\n",
       "<caption>Generalized Linear Model Regression Results</caption>\n",
       "<tr>\n",
       "  <th>Dep. Variable:</th>       <td>buyer_yes</td>    <th>  No. Observations:  </th>   <td> 70000</td>   \n",
       "</tr>\n",
       "<tr>\n",
       "  <th>Model:</th>                  <td>GLM</td>       <th>  Df Residuals:      </th>   <td>3499909</td>  \n",
       "</tr>\n",
       "<tr>\n",
       "  <th>Model Family:</th>        <td>Binomial</td>     <th>  Df Model:          </th>   <td>    90</td>   \n",
       "</tr>\n",
       "<tr>\n",
       "  <th>Link Function:</th>         <td>logit</td>      <th>  Scale:             </th>  <td>  1.0000</td>  \n",
       "</tr>\n",
       "<tr>\n",
       "  <th>Method:</th>                <td>IRLS</td>       <th>  Log-Likelihood:    </th> <td>-1.5160e+05</td>\n",
       "</tr>\n",
       "<tr>\n",
       "  <th>Date:</th>            <td>Thu, 25 Feb 2021</td> <th>  Deviance:          </th> <td>3.0320e+05</td> \n",
       "</tr>\n",
       "<tr>\n",
       "  <th>Time:</th>                <td>08:06:39</td>     <th>  Pearson chi2:      </th>  <td>4.72e+06</td>  \n",
       "</tr>\n",
       "<tr>\n",
       "  <th>No. Iterations:</th>          <td>9</td>        <th>                     </th>      <td> </td>     \n",
       "</tr>\n",
       "<tr>\n",
       "  <th>Covariance Type:</th>        <td>HC1</td>       <th>                     </th>      <td> </td>     \n",
       "</tr>\n",
       "</table>\n",
       "<table class=\"simpletable\">\n",
       "<tr>\n",
       "                     <td></td>                        <th>coef</th>     <th>std err</th>      <th>z</th>      <th>P>|z|</th>  <th>[0.025</th>    <th>0.975]</th>  \n",
       "</tr>\n",
       "<tr>\n",
       "  <th>Intercept</th>                               <td>  -31.5320</td> <td>    0.766</td> <td>  -41.159</td> <td> 0.000</td> <td>  -33.033</td> <td>  -30.030</td>\n",
       "</tr>\n",
       "<tr>\n",
       "  <th>message[T.strength]</th>                     <td>   -2.8937</td> <td>    1.050</td> <td>   -2.757</td> <td> 0.006</td> <td>   -4.951</td> <td>   -0.837</td>\n",
       "</tr>\n",
       "<tr>\n",
       "  <th>message[T.water]</th>                        <td>    4.1038</td> <td>    1.059</td> <td>    3.876</td> <td> 0.000</td> <td>    2.028</td> <td>    6.179</td>\n",
       "</tr>\n",
       "<tr>\n",
       "  <th>message[T.team]</th>                         <td>    2.5505</td> <td>    1.046</td> <td>    2.438</td> <td> 0.015</td> <td>    0.500</td> <td>    4.601</td>\n",
       "</tr>\n",
       "<tr>\n",
       "  <th>message[T.backcountry]</th>                  <td>   -0.7903</td> <td>    1.092</td> <td>   -0.724</td> <td> 0.469</td> <td>   -2.930</td> <td>    1.349</td>\n",
       "</tr>\n",
       "<tr>\n",
       "  <th>message[T.winter]</th>                       <td>   -0.2803</td> <td>    1.071</td> <td>   -0.262</td> <td> 0.794</td> <td>   -2.379</td> <td>    1.818</td>\n",
       "</tr>\n",
       "<tr>\n",
       "  <th>message[T.racquet]</th>                      <td>    1.7125</td> <td>    1.081</td> <td>    1.584</td> <td> 0.113</td> <td>   -0.407</td> <td>    3.832</td>\n",
       "</tr>\n",
       "<tr>\n",
       "  <th>age[T.30 to 44]</th>                         <td>    0.6471</td> <td>    0.051</td> <td>   12.566</td> <td> 0.000</td> <td>    0.546</td> <td>    0.748</td>\n",
       "</tr>\n",
       "<tr>\n",
       "  <th>age[T.45 to 59]</th>                         <td>    0.7770</td> <td>    0.053</td> <td>   14.715</td> <td> 0.000</td> <td>    0.673</td> <td>    0.880</td>\n",
       "</tr>\n",
       "<tr>\n",
       "  <th>age[T.>= 60]</th>                            <td>    0.1035</td> <td>    0.066</td> <td>    1.564</td> <td> 0.118</td> <td>   -0.026</td> <td>    0.233</td>\n",
       "</tr>\n",
       "<tr>\n",
       "  <th>gender[T.F]</th>                             <td>   -0.3754</td> <td>    0.034</td> <td>  -10.959</td> <td> 0.000</td> <td>   -0.442</td> <td>   -0.308</td>\n",
       "</tr>\n",
       "<tr>\n",
       "  <th>message[T.strength]:age[T.30 to 44]</th>     <td>    0.3640</td> <td>    0.074</td> <td>    4.913</td> <td> 0.000</td> <td>    0.219</td> <td>    0.509</td>\n",
       "</tr>\n",
       "<tr>\n",
       "  <th>message[T.water]:age[T.30 to 44]</th>        <td>    0.0730</td> <td>    0.074</td> <td>    0.989</td> <td> 0.323</td> <td>   -0.072</td> <td>    0.218</td>\n",
       "</tr>\n",
       "<tr>\n",
       "  <th>message[T.team]:age[T.30 to 44]</th>         <td>   -0.0251</td> <td>    0.075</td> <td>   -0.334</td> <td> 0.739</td> <td>   -0.172</td> <td>    0.122</td>\n",
       "</tr>\n",
       "<tr>\n",
       "  <th>message[T.backcountry]:age[T.30 to 44]</th>  <td>    0.0129</td> <td>    0.077</td> <td>    0.169</td> <td> 0.866</td> <td>   -0.137</td> <td>    0.163</td>\n",
       "</tr>\n",
       "<tr>\n",
       "  <th>message[T.winter]:age[T.30 to 44]</th>       <td>    0.3467</td> <td>    0.076</td> <td>    4.589</td> <td> 0.000</td> <td>    0.199</td> <td>    0.495</td>\n",
       "</tr>\n",
       "<tr>\n",
       "  <th>message[T.racquet]:age[T.30 to 44]</th>      <td>    0.0489</td> <td>    0.076</td> <td>    0.647</td> <td> 0.518</td> <td>   -0.099</td> <td>    0.197</td>\n",
       "</tr>\n",
       "<tr>\n",
       "  <th>message[T.strength]:age[T.45 to 59]</th>     <td>   -0.1492</td> <td>    0.076</td> <td>   -1.969</td> <td> 0.049</td> <td>   -0.298</td> <td>   -0.001</td>\n",
       "</tr>\n",
       "<tr>\n",
       "  <th>message[T.water]:age[T.45 to 59]</th>        <td>   -0.1120</td> <td>    0.077</td> <td>   -1.454</td> <td> 0.146</td> <td>   -0.263</td> <td>    0.039</td>\n",
       "</tr>\n",
       "<tr>\n",
       "  <th>message[T.team]:age[T.45 to 59]</th>         <td>   -0.0554</td> <td>    0.077</td> <td>   -0.719</td> <td> 0.472</td> <td>   -0.206</td> <td>    0.096</td>\n",
       "</tr>\n",
       "<tr>\n",
       "  <th>message[T.backcountry]:age[T.45 to 59]</th>  <td>    0.0746</td> <td>    0.078</td> <td>    0.957</td> <td> 0.339</td> <td>   -0.078</td> <td>    0.227</td>\n",
       "</tr>\n",
       "<tr>\n",
       "  <th>message[T.winter]:age[T.45 to 59]</th>       <td>    0.0095</td> <td>    0.077</td> <td>    0.123</td> <td> 0.902</td> <td>   -0.142</td> <td>    0.161</td>\n",
       "</tr>\n",
       "<tr>\n",
       "  <th>message[T.racquet]:age[T.45 to 59]</th>      <td>   -0.1486</td> <td>    0.078</td> <td>   -1.897</td> <td> 0.058</td> <td>   -0.302</td> <td>    0.005</td>\n",
       "</tr>\n",
       "<tr>\n",
       "  <th>message[T.strength]:age[T.>= 60]</th>        <td>   -0.0763</td> <td>    0.094</td> <td>   -0.813</td> <td> 0.416</td> <td>   -0.260</td> <td>    0.108</td>\n",
       "</tr>\n",
       "<tr>\n",
       "  <th>message[T.water]:age[T.>= 60]</th>           <td>    0.1465</td> <td>    0.093</td> <td>    1.573</td> <td> 0.116</td> <td>   -0.036</td> <td>    0.329</td>\n",
       "</tr>\n",
       "<tr>\n",
       "  <th>message[T.team]:age[T.>= 60]</th>            <td>    0.0017</td> <td>    0.093</td> <td>    0.018</td> <td> 0.986</td> <td>   -0.181</td> <td>    0.184</td>\n",
       "</tr>\n",
       "<tr>\n",
       "  <th>message[T.backcountry]:age[T.>= 60]</th>     <td>    0.0163</td> <td>    0.096</td> <td>    0.169</td> <td> 0.866</td> <td>   -0.173</td> <td>    0.205</td>\n",
       "</tr>\n",
       "<tr>\n",
       "  <th>message[T.winter]:age[T.>= 60]</th>          <td>    0.0086</td> <td>    0.095</td> <td>    0.091</td> <td> 0.928</td> <td>   -0.178</td> <td>    0.195</td>\n",
       "</tr>\n",
       "<tr>\n",
       "  <th>message[T.racquet]:age[T.>= 60]</th>         <td>    0.0550</td> <td>    0.094</td> <td>    0.587</td> <td> 0.557</td> <td>   -0.129</td> <td>    0.239</td>\n",
       "</tr>\n",
       "<tr>\n",
       "  <th>message[T.strength]:gender[T.F]</th>         <td>    0.0710</td> <td>    0.047</td> <td>    1.496</td> <td> 0.135</td> <td>   -0.022</td> <td>    0.164</td>\n",
       "</tr>\n",
       "<tr>\n",
       "  <th>message[T.water]:gender[T.F]</th>            <td>    0.0914</td> <td>    0.048</td> <td>    1.892</td> <td> 0.059</td> <td>   -0.003</td> <td>    0.186</td>\n",
       "</tr>\n",
       "<tr>\n",
       "  <th>message[T.team]:gender[T.F]</th>             <td>   -0.0291</td> <td>    0.048</td> <td>   -0.607</td> <td> 0.544</td> <td>   -0.123</td> <td>    0.065</td>\n",
       "</tr>\n",
       "<tr>\n",
       "  <th>message[T.backcountry]:gender[T.F]</th>      <td>    0.1200</td> <td>    0.048</td> <td>    2.507</td> <td> 0.012</td> <td>    0.026</td> <td>    0.214</td>\n",
       "</tr>\n",
       "<tr>\n",
       "  <th>message[T.winter]:gender[T.F]</th>           <td>    0.2204</td> <td>    0.048</td> <td>    4.625</td> <td> 0.000</td> <td>    0.127</td> <td>    0.314</td>\n",
       "</tr>\n",
       "<tr>\n",
       "  <th>message[T.racquet]:gender[T.F]</th>          <td>   -0.0391</td> <td>    0.049</td> <td>   -0.801</td> <td> 0.423</td> <td>   -0.135</td> <td>    0.057</td>\n",
       "</tr>\n",
       "<tr>\n",
       "  <th>income_ln</th>                               <td>    2.3455</td> <td>    0.072</td> <td>   32.650</td> <td> 0.000</td> <td>    2.205</td> <td>    2.486</td>\n",
       "</tr>\n",
       "<tr>\n",
       "  <th>message[T.strength]:income_ln</th>           <td>    0.2473</td> <td>    0.098</td> <td>    2.532</td> <td> 0.011</td> <td>    0.056</td> <td>    0.439</td>\n",
       "</tr>\n",
       "<tr>\n",
       "  <th>message[T.water]:income_ln</th>              <td>   -0.3878</td> <td>    0.100</td> <td>   -3.891</td> <td> 0.000</td> <td>   -0.583</td> <td>   -0.192</td>\n",
       "</tr>\n",
       "<tr>\n",
       "  <th>message[T.team]:income_ln</th>               <td>   -0.2493</td> <td>    0.099</td> <td>   -2.531</td> <td> 0.011</td> <td>   -0.442</td> <td>   -0.056</td>\n",
       "</tr>\n",
       "<tr>\n",
       "  <th>message[T.backcountry]:income_ln</th>        <td>    0.0455</td> <td>    0.102</td> <td>    0.447</td> <td> 0.655</td> <td>   -0.154</td> <td>    0.245</td>\n",
       "</tr>\n",
       "<tr>\n",
       "  <th>message[T.winter]:income_ln</th>             <td>   -0.0276</td> <td>    0.100</td> <td>   -0.276</td> <td> 0.782</td> <td>   -0.223</td> <td>    0.168</td>\n",
       "</tr>\n",
       "<tr>\n",
       "  <th>message[T.racquet]:income_ln</th>            <td>   -0.1787</td> <td>    0.102</td> <td>   -1.760</td> <td> 0.078</td> <td>   -0.378</td> <td>    0.020</td>\n",
       "</tr>\n",
       "<tr>\n",
       "  <th>freq_endurance</th>                          <td>    0.1285</td> <td>    0.007</td> <td>   17.450</td> <td> 0.000</td> <td>    0.114</td> <td>    0.143</td>\n",
       "</tr>\n",
       "<tr>\n",
       "  <th>message[T.strength]:freq_endurance</th>      <td>   -0.0146</td> <td>    0.010</td> <td>   -1.463</td> <td> 0.143</td> <td>   -0.034</td> <td>    0.005</td>\n",
       "</tr>\n",
       "<tr>\n",
       "  <th>message[T.water]:freq_endurance</th>         <td>    0.0019</td> <td>    0.011</td> <td>    0.177</td> <td> 0.859</td> <td>   -0.019</td> <td>    0.023</td>\n",
       "</tr>\n",
       "<tr>\n",
       "  <th>message[T.team]:freq_endurance</th>          <td>   -0.0634</td> <td>    0.010</td> <td>   -6.055</td> <td> 0.000</td> <td>   -0.084</td> <td>   -0.043</td>\n",
       "</tr>\n",
       "<tr>\n",
       "  <th>message[T.backcountry]:freq_endurance</th>   <td>   -0.0218</td> <td>    0.010</td> <td>   -2.110</td> <td> 0.035</td> <td>   -0.042</td> <td>   -0.002</td>\n",
       "</tr>\n",
       "<tr>\n",
       "  <th>message[T.winter]:freq_endurance</th>        <td>    0.0104</td> <td>    0.010</td> <td>    1.005</td> <td> 0.315</td> <td>   -0.010</td> <td>    0.031</td>\n",
       "</tr>\n",
       "<tr>\n",
       "  <th>message[T.racquet]:freq_endurance</th>       <td>   -0.0495</td> <td>    0.010</td> <td>   -4.884</td> <td> 0.000</td> <td>   -0.069</td> <td>   -0.030</td>\n",
       "</tr>\n",
       "<tr>\n",
       "  <th>freq_strength</th>                           <td>    0.0781</td> <td>    0.004</td> <td>   17.777</td> <td> 0.000</td> <td>    0.069</td> <td>    0.087</td>\n",
       "</tr>\n",
       "<tr>\n",
       "  <th>message[T.strength]:freq_strength</th>       <td>    0.0667</td> <td>    0.006</td> <td>   10.636</td> <td> 0.000</td> <td>    0.054</td> <td>    0.079</td>\n",
       "</tr>\n",
       "<tr>\n",
       "  <th>message[T.water]:freq_strength</th>          <td>    0.0140</td> <td>    0.007</td> <td>    2.123</td> <td> 0.034</td> <td>    0.001</td> <td>    0.027</td>\n",
       "</tr>\n",
       "<tr>\n",
       "  <th>message[T.team]:freq_strength</th>           <td>    0.0837</td> <td>    0.007</td> <td>   12.239</td> <td> 0.000</td> <td>    0.070</td> <td>    0.097</td>\n",
       "</tr>\n",
       "<tr>\n",
       "  <th>message[T.backcountry]:freq_strength</th>    <td>    0.0389</td> <td>    0.006</td> <td>    6.158</td> <td> 0.000</td> <td>    0.026</td> <td>    0.051</td>\n",
       "</tr>\n",
       "<tr>\n",
       "  <th>message[T.winter]:freq_strength</th>         <td>    0.0547</td> <td>    0.006</td> <td>    9.037</td> <td> 0.000</td> <td>    0.043</td> <td>    0.067</td>\n",
       "</tr>\n",
       "<tr>\n",
       "  <th>message[T.racquet]:freq_strength</th>        <td>    0.0558</td> <td>    0.006</td> <td>    8.797</td> <td> 0.000</td> <td>    0.043</td> <td>    0.068</td>\n",
       "</tr>\n",
       "<tr>\n",
       "  <th>freq_water</th>                              <td>    0.4089</td> <td>    0.018</td> <td>   23.162</td> <td> 0.000</td> <td>    0.374</td> <td>    0.443</td>\n",
       "</tr>\n",
       "<tr>\n",
       "  <th>message[T.strength]:freq_water</th>          <td>   -0.1764</td> <td>    0.025</td> <td>   -7.069</td> <td> 0.000</td> <td>   -0.225</td> <td>   -0.127</td>\n",
       "</tr>\n",
       "<tr>\n",
       "  <th>message[T.water]:freq_water</th>             <td>   -0.2729</td> <td>    0.027</td> <td>   -9.937</td> <td> 0.000</td> <td>   -0.327</td> <td>   -0.219</td>\n",
       "</tr>\n",
       "<tr>\n",
       "  <th>message[T.team]:freq_water</th>              <td>   -0.2486</td> <td>    0.026</td> <td>   -9.621</td> <td> 0.000</td> <td>   -0.299</td> <td>   -0.198</td>\n",
       "</tr>\n",
       "<tr>\n",
       "  <th>message[T.backcountry]:freq_water</th>       <td>   -0.1573</td> <td>    0.025</td> <td>   -6.289</td> <td> 0.000</td> <td>   -0.206</td> <td>   -0.108</td>\n",
       "</tr>\n",
       "<tr>\n",
       "  <th>message[T.winter]:freq_water</th>            <td>   -0.1977</td> <td>    0.024</td> <td>   -8.131</td> <td> 0.000</td> <td>   -0.245</td> <td>   -0.150</td>\n",
       "</tr>\n",
       "<tr>\n",
       "  <th>message[T.racquet]:freq_water</th>           <td>   -0.0960</td> <td>    0.025</td> <td>   -3.875</td> <td> 0.000</td> <td>   -0.144</td> <td>   -0.047</td>\n",
       "</tr>\n",
       "<tr>\n",
       "  <th>freq_team</th>                               <td>    0.0921</td> <td>    0.006</td> <td>   15.367</td> <td> 0.000</td> <td>    0.080</td> <td>    0.104</td>\n",
       "</tr>\n",
       "<tr>\n",
       "  <th>message[T.strength]:freq_team</th>           <td>   -0.0516</td> <td>    0.009</td> <td>   -5.833</td> <td> 0.000</td> <td>   -0.069</td> <td>   -0.034</td>\n",
       "</tr>\n",
       "<tr>\n",
       "  <th>message[T.water]:freq_team</th>              <td>   -0.0220</td> <td>    0.009</td> <td>   -2.545</td> <td> 0.011</td> <td>   -0.039</td> <td>   -0.005</td>\n",
       "</tr>\n",
       "<tr>\n",
       "  <th>message[T.team]:freq_team</th>               <td>   -0.0550</td> <td>    0.009</td> <td>   -6.284</td> <td> 0.000</td> <td>   -0.072</td> <td>   -0.038</td>\n",
       "</tr>\n",
       "<tr>\n",
       "  <th>message[T.backcountry]:freq_team</th>        <td>   -0.0482</td> <td>    0.008</td> <td>   -5.679</td> <td> 0.000</td> <td>   -0.065</td> <td>   -0.032</td>\n",
       "</tr>\n",
       "<tr>\n",
       "  <th>message[T.winter]:freq_team</th>             <td>   -0.0257</td> <td>    0.008</td> <td>   -3.051</td> <td> 0.002</td> <td>   -0.042</td> <td>   -0.009</td>\n",
       "</tr>\n",
       "<tr>\n",
       "  <th>message[T.racquet]:freq_team</th>            <td>   -0.0101</td> <td>    0.008</td> <td>   -1.198</td> <td> 0.231</td> <td>   -0.027</td> <td>    0.006</td>\n",
       "</tr>\n",
       "<tr>\n",
       "  <th>freq_backcountry</th>                        <td>    0.1371</td> <td>    0.015</td> <td>    9.265</td> <td> 0.000</td> <td>    0.108</td> <td>    0.166</td>\n",
       "</tr>\n",
       "<tr>\n",
       "  <th>message[T.strength]:freq_backcountry</th>    <td>   -0.0190</td> <td>    0.020</td> <td>   -0.929</td> <td> 0.353</td> <td>   -0.059</td> <td>    0.021</td>\n",
       "</tr>\n",
       "<tr>\n",
       "  <th>message[T.water]:freq_backcountry</th>       <td>    0.0399</td> <td>    0.021</td> <td>    1.862</td> <td> 0.063</td> <td>   -0.002</td> <td>    0.082</td>\n",
       "</tr>\n",
       "<tr>\n",
       "  <th>message[T.team]:freq_backcountry</th>        <td>    0.1304</td> <td>    0.020</td> <td>    6.472</td> <td> 0.000</td> <td>    0.091</td> <td>    0.170</td>\n",
       "</tr>\n",
       "<tr>\n",
       "  <th>message[T.backcountry]:freq_backcountry</th> <td>    0.0767</td> <td>    0.020</td> <td>    3.766</td> <td> 0.000</td> <td>    0.037</td> <td>    0.117</td>\n",
       "</tr>\n",
       "<tr>\n",
       "  <th>message[T.winter]:freq_backcountry</th>      <td>   -0.0174</td> <td>    0.020</td> <td>   -0.890</td> <td> 0.374</td> <td>   -0.056</td> <td>    0.021</td>\n",
       "</tr>\n",
       "<tr>\n",
       "  <th>message[T.racquet]:freq_backcountry</th>     <td>    0.0660</td> <td>    0.021</td> <td>    3.179</td> <td> 0.001</td> <td>    0.025</td> <td>    0.107</td>\n",
       "</tr>\n",
       "<tr>\n",
       "  <th>freq_winter</th>                             <td>    0.2049</td> <td>    0.044</td> <td>    4.611</td> <td> 0.000</td> <td>    0.118</td> <td>    0.292</td>\n",
       "</tr>\n",
       "<tr>\n",
       "  <th>message[T.strength]:freq_winter</th>         <td>   -0.1474</td> <td>    0.061</td> <td>   -2.434</td> <td> 0.015</td> <td>   -0.266</td> <td>   -0.029</td>\n",
       "</tr>\n",
       "<tr>\n",
       "  <th>message[T.water]:freq_winter</th>            <td>    0.2399</td> <td>    0.062</td> <td>    3.901</td> <td> 0.000</td> <td>    0.119</td> <td>    0.360</td>\n",
       "</tr>\n",
       "<tr>\n",
       "  <th>message[T.team]:freq_winter</th>             <td>    0.2175</td> <td>    0.062</td> <td>    3.502</td> <td> 0.000</td> <td>    0.096</td> <td>    0.339</td>\n",
       "</tr>\n",
       "<tr>\n",
       "  <th>message[T.backcountry]:freq_winter</th>      <td>   -0.0653</td> <td>    0.061</td> <td>   -1.066</td> <td> 0.287</td> <td>   -0.185</td> <td>    0.055</td>\n",
       "</tr>\n",
       "<tr>\n",
       "  <th>message[T.winter]:freq_winter</th>           <td>    0.6357</td> <td>    0.059</td> <td>   10.736</td> <td> 0.000</td> <td>    0.520</td> <td>    0.752</td>\n",
       "</tr>\n",
       "<tr>\n",
       "  <th>message[T.racquet]:freq_winter</th>          <td>    0.0247</td> <td>    0.063</td> <td>    0.395</td> <td> 0.693</td> <td>   -0.098</td> <td>    0.147</td>\n",
       "</tr>\n",
       "<tr>\n",
       "  <th>freq_racquet</th>                            <td>    0.1682</td> <td>    0.009</td> <td>   18.246</td> <td> 0.000</td> <td>    0.150</td> <td>    0.186</td>\n",
       "</tr>\n",
       "<tr>\n",
       "  <th>message[T.strength]:freq_racquet</th>        <td>    0.0073</td> <td>    0.013</td> <td>    0.551</td> <td> 0.582</td> <td>   -0.019</td> <td>    0.033</td>\n",
       "</tr>\n",
       "<tr>\n",
       "  <th>message[T.water]:freq_racquet</th>           <td>    0.0362</td> <td>    0.014</td> <td>    2.663</td> <td> 0.008</td> <td>    0.010</td> <td>    0.063</td>\n",
       "</tr>\n",
       "<tr>\n",
       "  <th>message[T.team]:freq_racquet</th>            <td>   -0.0316</td> <td>    0.013</td> <td>   -2.430</td> <td> 0.015</td> <td>   -0.057</td> <td>   -0.006</td>\n",
       "</tr>\n",
       "<tr>\n",
       "  <th>message[T.backcountry]:freq_racquet</th>     <td>   -0.0167</td> <td>    0.013</td> <td>   -1.301</td> <td> 0.193</td> <td>   -0.042</td> <td>    0.008</td>\n",
       "</tr>\n",
       "<tr>\n",
       "  <th>message[T.winter]:freq_racquet</th>          <td>    0.0011</td> <td>    0.013</td> <td>    0.083</td> <td> 0.934</td> <td>   -0.024</td> <td>    0.026</td>\n",
       "</tr>\n",
       "<tr>\n",
       "  <th>message[T.racquet]:freq_racquet</th>         <td>   -0.0026</td> <td>    0.013</td> <td>   -0.209</td> <td> 0.835</td> <td>   -0.027</td> <td>    0.022</td>\n",
       "</tr>\n",
       "</table>"
      ],
      "text/plain": [
       "<class 'statsmodels.iolib.summary.Summary'>\n",
       "\"\"\"\n",
       "                 Generalized Linear Model Regression Results                  \n",
       "==============================================================================\n",
       "Dep. Variable:              buyer_yes   No. Observations:                70000\n",
       "Model:                            GLM   Df Residuals:                  3499909\n",
       "Model Family:                Binomial   Df Model:                           90\n",
       "Link Function:                  logit   Scale:                          1.0000\n",
       "Method:                          IRLS   Log-Likelihood:            -1.5160e+05\n",
       "Date:                Thu, 25 Feb 2021   Deviance:                   3.0320e+05\n",
       "Time:                        08:06:39   Pearson chi2:                 4.72e+06\n",
       "No. Iterations:                     9                                         \n",
       "Covariance Type:                  HC1                                         \n",
       "===========================================================================================================\n",
       "                                              coef    std err          z      P>|z|      [0.025      0.975]\n",
       "-----------------------------------------------------------------------------------------------------------\n",
       "Intercept                                 -31.5320      0.766    -41.159      0.000     -33.033     -30.030\n",
       "message[T.strength]                        -2.8937      1.050     -2.757      0.006      -4.951      -0.837\n",
       "message[T.water]                            4.1038      1.059      3.876      0.000       2.028       6.179\n",
       "message[T.team]                             2.5505      1.046      2.438      0.015       0.500       4.601\n",
       "message[T.backcountry]                     -0.7903      1.092     -0.724      0.469      -2.930       1.349\n",
       "message[T.winter]                          -0.2803      1.071     -0.262      0.794      -2.379       1.818\n",
       "message[T.racquet]                          1.7125      1.081      1.584      0.113      -0.407       3.832\n",
       "age[T.30 to 44]                             0.6471      0.051     12.566      0.000       0.546       0.748\n",
       "age[T.45 to 59]                             0.7770      0.053     14.715      0.000       0.673       0.880\n",
       "age[T.>= 60]                                0.1035      0.066      1.564      0.118      -0.026       0.233\n",
       "gender[T.F]                                -0.3754      0.034    -10.959      0.000      -0.442      -0.308\n",
       "message[T.strength]:age[T.30 to 44]         0.3640      0.074      4.913      0.000       0.219       0.509\n",
       "message[T.water]:age[T.30 to 44]            0.0730      0.074      0.989      0.323      -0.072       0.218\n",
       "message[T.team]:age[T.30 to 44]            -0.0251      0.075     -0.334      0.739      -0.172       0.122\n",
       "message[T.backcountry]:age[T.30 to 44]      0.0129      0.077      0.169      0.866      -0.137       0.163\n",
       "message[T.winter]:age[T.30 to 44]           0.3467      0.076      4.589      0.000       0.199       0.495\n",
       "message[T.racquet]:age[T.30 to 44]          0.0489      0.076      0.647      0.518      -0.099       0.197\n",
       "message[T.strength]:age[T.45 to 59]        -0.1492      0.076     -1.969      0.049      -0.298      -0.001\n",
       "message[T.water]:age[T.45 to 59]           -0.1120      0.077     -1.454      0.146      -0.263       0.039\n",
       "message[T.team]:age[T.45 to 59]            -0.0554      0.077     -0.719      0.472      -0.206       0.096\n",
       "message[T.backcountry]:age[T.45 to 59]      0.0746      0.078      0.957      0.339      -0.078       0.227\n",
       "message[T.winter]:age[T.45 to 59]           0.0095      0.077      0.123      0.902      -0.142       0.161\n",
       "message[T.racquet]:age[T.45 to 59]         -0.1486      0.078     -1.897      0.058      -0.302       0.005\n",
       "message[T.strength]:age[T.>= 60]           -0.0763      0.094     -0.813      0.416      -0.260       0.108\n",
       "message[T.water]:age[T.>= 60]               0.1465      0.093      1.573      0.116      -0.036       0.329\n",
       "message[T.team]:age[T.>= 60]                0.0017      0.093      0.018      0.986      -0.181       0.184\n",
       "message[T.backcountry]:age[T.>= 60]         0.0163      0.096      0.169      0.866      -0.173       0.205\n",
       "message[T.winter]:age[T.>= 60]              0.0086      0.095      0.091      0.928      -0.178       0.195\n",
       "message[T.racquet]:age[T.>= 60]             0.0550      0.094      0.587      0.557      -0.129       0.239\n",
       "message[T.strength]:gender[T.F]             0.0710      0.047      1.496      0.135      -0.022       0.164\n",
       "message[T.water]:gender[T.F]                0.0914      0.048      1.892      0.059      -0.003       0.186\n",
       "message[T.team]:gender[T.F]                -0.0291      0.048     -0.607      0.544      -0.123       0.065\n",
       "message[T.backcountry]:gender[T.F]          0.1200      0.048      2.507      0.012       0.026       0.214\n",
       "message[T.winter]:gender[T.F]               0.2204      0.048      4.625      0.000       0.127       0.314\n",
       "message[T.racquet]:gender[T.F]             -0.0391      0.049     -0.801      0.423      -0.135       0.057\n",
       "income_ln                                   2.3455      0.072     32.650      0.000       2.205       2.486\n",
       "message[T.strength]:income_ln               0.2473      0.098      2.532      0.011       0.056       0.439\n",
       "message[T.water]:income_ln                 -0.3878      0.100     -3.891      0.000      -0.583      -0.192\n",
       "message[T.team]:income_ln                  -0.2493      0.099     -2.531      0.011      -0.442      -0.056\n",
       "message[T.backcountry]:income_ln            0.0455      0.102      0.447      0.655      -0.154       0.245\n",
       "message[T.winter]:income_ln                -0.0276      0.100     -0.276      0.782      -0.223       0.168\n",
       "message[T.racquet]:income_ln               -0.1787      0.102     -1.760      0.078      -0.378       0.020\n",
       "freq_endurance                              0.1285      0.007     17.450      0.000       0.114       0.143\n",
       "message[T.strength]:freq_endurance         -0.0146      0.010     -1.463      0.143      -0.034       0.005\n",
       "message[T.water]:freq_endurance             0.0019      0.011      0.177      0.859      -0.019       0.023\n",
       "message[T.team]:freq_endurance             -0.0634      0.010     -6.055      0.000      -0.084      -0.043\n",
       "message[T.backcountry]:freq_endurance      -0.0218      0.010     -2.110      0.035      -0.042      -0.002\n",
       "message[T.winter]:freq_endurance            0.0104      0.010      1.005      0.315      -0.010       0.031\n",
       "message[T.racquet]:freq_endurance          -0.0495      0.010     -4.884      0.000      -0.069      -0.030\n",
       "freq_strength                               0.0781      0.004     17.777      0.000       0.069       0.087\n",
       "message[T.strength]:freq_strength           0.0667      0.006     10.636      0.000       0.054       0.079\n",
       "message[T.water]:freq_strength              0.0140      0.007      2.123      0.034       0.001       0.027\n",
       "message[T.team]:freq_strength               0.0837      0.007     12.239      0.000       0.070       0.097\n",
       "message[T.backcountry]:freq_strength        0.0389      0.006      6.158      0.000       0.026       0.051\n",
       "message[T.winter]:freq_strength             0.0547      0.006      9.037      0.000       0.043       0.067\n",
       "message[T.racquet]:freq_strength            0.0558      0.006      8.797      0.000       0.043       0.068\n",
       "freq_water                                  0.4089      0.018     23.162      0.000       0.374       0.443\n",
       "message[T.strength]:freq_water             -0.1764      0.025     -7.069      0.000      -0.225      -0.127\n",
       "message[T.water]:freq_water                -0.2729      0.027     -9.937      0.000      -0.327      -0.219\n",
       "message[T.team]:freq_water                 -0.2486      0.026     -9.621      0.000      -0.299      -0.198\n",
       "message[T.backcountry]:freq_water          -0.1573      0.025     -6.289      0.000      -0.206      -0.108\n",
       "message[T.winter]:freq_water               -0.1977      0.024     -8.131      0.000      -0.245      -0.150\n",
       "message[T.racquet]:freq_water              -0.0960      0.025     -3.875      0.000      -0.144      -0.047\n",
       "freq_team                                   0.0921      0.006     15.367      0.000       0.080       0.104\n",
       "message[T.strength]:freq_team              -0.0516      0.009     -5.833      0.000      -0.069      -0.034\n",
       "message[T.water]:freq_team                 -0.0220      0.009     -2.545      0.011      -0.039      -0.005\n",
       "message[T.team]:freq_team                  -0.0550      0.009     -6.284      0.000      -0.072      -0.038\n",
       "message[T.backcountry]:freq_team           -0.0482      0.008     -5.679      0.000      -0.065      -0.032\n",
       "message[T.winter]:freq_team                -0.0257      0.008     -3.051      0.002      -0.042      -0.009\n",
       "message[T.racquet]:freq_team               -0.0101      0.008     -1.198      0.231      -0.027       0.006\n",
       "freq_backcountry                            0.1371      0.015      9.265      0.000       0.108       0.166\n",
       "message[T.strength]:freq_backcountry       -0.0190      0.020     -0.929      0.353      -0.059       0.021\n",
       "message[T.water]:freq_backcountry           0.0399      0.021      1.862      0.063      -0.002       0.082\n",
       "message[T.team]:freq_backcountry            0.1304      0.020      6.472      0.000       0.091       0.170\n",
       "message[T.backcountry]:freq_backcountry     0.0767      0.020      3.766      0.000       0.037       0.117\n",
       "message[T.winter]:freq_backcountry         -0.0174      0.020     -0.890      0.374      -0.056       0.021\n",
       "message[T.racquet]:freq_backcountry         0.0660      0.021      3.179      0.001       0.025       0.107\n",
       "freq_winter                                 0.2049      0.044      4.611      0.000       0.118       0.292\n",
       "message[T.strength]:freq_winter            -0.1474      0.061     -2.434      0.015      -0.266      -0.029\n",
       "message[T.water]:freq_winter                0.2399      0.062      3.901      0.000       0.119       0.360\n",
       "message[T.team]:freq_winter                 0.2175      0.062      3.502      0.000       0.096       0.339\n",
       "message[T.backcountry]:freq_winter         -0.0653      0.061     -1.066      0.287      -0.185       0.055\n",
       "message[T.winter]:freq_winter               0.6357      0.059     10.736      0.000       0.520       0.752\n",
       "message[T.racquet]:freq_winter              0.0247      0.063      0.395      0.693      -0.098       0.147\n",
       "freq_racquet                                0.1682      0.009     18.246      0.000       0.150       0.186\n",
       "message[T.strength]:freq_racquet            0.0073      0.013      0.551      0.582      -0.019       0.033\n",
       "message[T.water]:freq_racquet               0.0362      0.014      2.663      0.008       0.010       0.063\n",
       "message[T.team]:freq_racquet               -0.0316      0.013     -2.430      0.015      -0.057      -0.006\n",
       "message[T.backcountry]:freq_racquet        -0.0167      0.013     -1.301      0.193      -0.042       0.008\n",
       "message[T.winter]:freq_racquet              0.0011      0.013      0.083      0.934      -0.024       0.026\n",
       "message[T.racquet]:freq_racquet            -0.0026      0.013     -0.209      0.835      -0.027       0.022\n",
       "===========================================================================================================\n",
       "\"\"\""
      ]
     },
     "execution_count": 6,
     "metadata": {},
     "output_type": "execute_result"
    }
   ],
   "source": [
    "lr = smf.glm(\n",
    "    formula=\"buyer_yes ~ message + age + gender + income_ln + \\\n",
    "             freq_endurance + freq_strength + freq_water + freq_team + freq_backcountry + freq_winter + freq_racquet + \\\n",
    "             message:age + message:gender + message:income_ln + message:freq_endurance + \\\n",
    "             message:freq_strength + message:freq_water + message:freq_team + message:freq_backcountry + \\\n",
    "             message:freq_winter + message:freq_racquet\",\n",
    "    family=Binomial(link=logit()),\n",
    "    data=pentathlon_nptb_train,\n",
    "    freq_weights=pentathlon_nptb_train[\"cweight\"],\n",
    ").fit(cov_type=\"HC1\")\n",
    "lr.summary()"
   ]
  },
  {
   "cell_type": "markdown",
   "metadata": {},
   "source": [
    "## AUC on test set"
   ]
  },
  {
   "cell_type": "code",
   "execution_count": 7,
   "metadata": {},
   "outputs": [
    {
     "name": "stdout",
     "output_type": "stream",
     "text": [
      "AUC on test set is 0.876\n"
     ]
    }
   ],
   "source": [
    "# make prediction by using current message option\n",
    "pentathlon_nptb_test = pentathlon_nptb_test.assign(\n",
    "    p_yes_lr=lr.predict(pentathlon_nptb_test)\n",
    ")\n",
    "## calculate auc on testing set\n",
    "print(f\"AUC on test set is {functions.cal_auc(pentathlon_nptb_test, 'p_yes_lr')}\")"
   ]
  },
  {
   "cell_type": "markdown",
   "metadata": {},
   "source": [
    "## Prediction on test set"
   ]
  },
  {
   "cell_type": "code",
   "execution_count": 8,
   "metadata": {},
   "outputs": [],
   "source": [
    "# 'freq_endurance', 'freq_strength', 'freq_water', 'freq_team', 'freq_backcountry', 'freq_winter', 'freq_racquet',\n",
    "pentathlon_nptb_test = pentathlon_nptb_test.assign(\n",
    "    p_endurance_lr=lr.predict(pentathlon_nptb_test.assign(message=\"endurance\")),\n",
    "    p_strength_lr=lr.predict(pentathlon_nptb_test.assign(message=\"strength\")),\n",
    "    p_water_lr=lr.predict(pentathlon_nptb_test.assign(message=\"water\")),\n",
    "    p_team_lr=lr.predict(pentathlon_nptb_test.assign(message=\"team\")),\n",
    "    p_backcountry_lr=lr.predict(pentathlon_nptb_test.assign(message=\"backcountry\")),\n",
    "    p_winter_lr=lr.predict(pentathlon_nptb_test.assign(message=\"winter\")),\n",
    "    p_racquet_lr=lr.predict(pentathlon_nptb_test.assign(message=\"racquet\")),\n",
    ")"
   ]
  },
  {
   "cell_type": "code",
   "execution_count": 9,
   "metadata": {},
   "outputs": [],
   "source": [
    "p_set_lr = [\n",
    "    \"p_endurance_lr\",\n",
    "    \"p_strength_lr\",\n",
    "    \"p_water_lr\",\n",
    "    \"p_team_lr\",\n",
    "    \"p_backcountry_lr\",\n",
    "    \"p_winter_lr\",\n",
    "    \"p_racquet_lr\",\n",
    "]\n",
    "pentathlon_nptb_test[\"p_target_lr\"] = pentathlon_nptb_test[p_set_lr].max(axis=1)"
   ]
  },
  {
   "cell_type": "code",
   "execution_count": 10,
   "metadata": {},
   "outputs": [],
   "source": [
    "# # choose the message that has the highest probability\n",
    "pentathlon_nptb_test[\"to_offer_lr\"] = (\n",
    "    pentathlon_nptb_test[p_set_lr]\n",
    "    .idxmax(axis=1)\n",
    "    .str.replace(\"p_endurance_lr\", \"endurance\")\n",
    "    .replace(\"p_strength_lr\", \"strength\")\n",
    "    .replace(\"p_water_lr\", \"water\")\n",
    "    .replace(\"p_team_lr\", \"team\")\n",
    "    .replace(\"p_backcountry_lr\", \"backcountry\")\n",
    "    .replace(\"p_winter_lr\", \"racquet\")\n",
    "    .replace(\"p_racquet_lr\", \"winter\")\n",
    ")"
   ]
  },
  {
   "cell_type": "code",
   "execution_count": 11,
   "metadata": {},
   "outputs": [
    {
     "data": {
      "text/html": [
       "<div>\n",
       "<style scoped>\n",
       "    .dataframe tbody tr th:only-of-type {\n",
       "        vertical-align: middle;\n",
       "    }\n",
       "\n",
       "    .dataframe tbody tr th {\n",
       "        vertical-align: top;\n",
       "    }\n",
       "\n",
       "    .dataframe thead th {\n",
       "        text-align: right;\n",
       "    }\n",
       "</style>\n",
       "<table border=\"1\" class=\"dataframe\">\n",
       "  <thead>\n",
       "    <tr style=\"text-align: right;\">\n",
       "      <th>col_0</th>\n",
       "      <th>count</th>\n",
       "    </tr>\n",
       "    <tr>\n",
       "      <th>to_offer_lr</th>\n",
       "      <th></th>\n",
       "    </tr>\n",
       "  </thead>\n",
       "  <tbody>\n",
       "    <tr>\n",
       "      <th>backcountry</th>\n",
       "      <td>262</td>\n",
       "    </tr>\n",
       "    <tr>\n",
       "      <th>endurance</th>\n",
       "      <td>9,310</td>\n",
       "    </tr>\n",
       "    <tr>\n",
       "      <th>racquet</th>\n",
       "      <td>1,756</td>\n",
       "    </tr>\n",
       "    <tr>\n",
       "      <th>strength</th>\n",
       "      <td>7,401</td>\n",
       "    </tr>\n",
       "    <tr>\n",
       "      <th>team</th>\n",
       "      <td>3,135</td>\n",
       "    </tr>\n",
       "    <tr>\n",
       "      <th>water</th>\n",
       "      <td>7,989</td>\n",
       "    </tr>\n",
       "    <tr>\n",
       "      <th>winter</th>\n",
       "      <td>147</td>\n",
       "    </tr>\n",
       "  </tbody>\n",
       "</table>\n",
       "</div>"
      ],
      "text/plain": [
       "col_0        count\n",
       "to_offer_lr       \n",
       "backcountry    262\n",
       "endurance    9,310\n",
       "racquet      1,756\n",
       "strength     7,401\n",
       "team         3,135\n",
       "water        7,989\n",
       "winter         147"
      ]
     },
     "execution_count": 11,
     "metadata": {},
     "output_type": "execute_result"
    }
   ],
   "source": [
    "pd.crosstab(index=pentathlon_nptb_test[\"to_offer_lr\"], columns=\"count\").apply(\n",
    "    rsm.format_nr\n",
    ")"
   ]
  },
  {
   "cell_type": "code",
   "execution_count": 12,
   "metadata": {},
   "outputs": [
    {
     "data": {
      "text/plain": [
       "p_target_lr         6.98%\n",
       "p_endurance_lr      5.88%\n",
       "p_strength_lr       5.86%\n",
       "p_winter_lr         5.33%\n",
       "p_racquet_lr         4.9%\n",
       "p_water_lr          4.64%\n",
       "p_backcountry_lr    4.63%\n",
       "p_team_lr           4.55%\n",
       "dtype: object"
      ]
     },
     "execution_count": 12,
     "metadata": {},
     "output_type": "execute_result"
    }
   ],
   "source": [
    "pentathlon_nptb_test[\"p_target_lr\"] = pentathlon_nptb_test[p_set_lr].max(axis=1)\n",
    "pentathlon_nptb_test[\n",
    "    [\n",
    "        \"p_endurance_lr\",\n",
    "        \"p_strength_lr\",\n",
    "        \"p_water_lr\",\n",
    "        \"p_team_lr\",\n",
    "        \"p_backcountry_lr\",\n",
    "        \"p_winter_lr\",\n",
    "        \"p_racquet_lr\",\n",
    "        \"p_target_lr\",\n",
    "    ]\n",
    "].agg(\"mean\").sort_values(ascending=False).apply(rsm.format_nr, perc=True)"
   ]
  },
  {
   "cell_type": "markdown",
   "metadata": {},
   "source": [
    "## Profit on test set"
   ]
  },
  {
   "cell_type": "code",
   "execution_count": 13,
   "metadata": {},
   "outputs": [],
   "source": [
    "ep_set_lr = [\n",
    "    \"ep_endurance_lr\",\n",
    "    \"ep_strength_lr\",\n",
    "    \"ep_water_lr\",\n",
    "    \"ep_team_lr\",\n",
    "    \"ep_backcountry_lr\",\n",
    "    \"ep_winter_lr\",\n",
    "    \"ep_racquet_lr\",\n",
    "]"
   ]
  },
  {
   "cell_type": "code",
   "execution_count": 14,
   "metadata": {},
   "outputs": [],
   "source": [
    "avg_os = (\n",
    "    pentathlon_nptb_copy.query(\"training == 1 & representative == 0 & buyer == 'yes'\")\n",
    "    .groupby(\"message\")\n",
    "    .total_os.mean()\n",
    "    * 0.4\n",
    ")"
   ]
  },
  {
   "cell_type": "code",
   "execution_count": 15,
   "metadata": {},
   "outputs": [],
   "source": [
    "for i in range(7):\n",
    "    pentathlon_nptb_test[ep_set_lr[i]] = pentathlon_nptb_test[p_set_lr[i]] * avg_os[i]\n",
    "pentathlon_nptb_test[\"to_offer_ep_lr\"] = (\n",
    "    pentathlon_nptb_test[ep_set_lr]\n",
    "    .idxmax(axis=1)\n",
    "    .str.replace(\"ep_endurance_lr\", \"endurance\")\n",
    "    .replace(\"ep_strength_lr\", \"strength\")\n",
    "    .replace(\"ep_water_lr\", \"water\")\n",
    "    .replace(\"ep_team_lr\", \"team\")\n",
    "    .replace(\"ep_backcountry_lr\", \"backcountry\")\n",
    "    .replace(\"ep_winter_lr\", \"racquet\")\n",
    "    .replace(\"ep_racquet_lr\", \"winter\")\n",
    ")\n",
    "pentathlon_nptb_test[\"ep_target_lr\"] = pentathlon_nptb_test[ep_set_lr].max(axis=1)"
   ]
  },
  {
   "cell_type": "code",
   "execution_count": 16,
   "metadata": {},
   "outputs": [
    {
     "data": {
      "text/html": [
       "<div>\n",
       "<style scoped>\n",
       "    .dataframe tbody tr th:only-of-type {\n",
       "        vertical-align: middle;\n",
       "    }\n",
       "\n",
       "    .dataframe tbody tr th {\n",
       "        vertical-align: top;\n",
       "    }\n",
       "\n",
       "    .dataframe thead th {\n",
       "        text-align: right;\n",
       "    }\n",
       "</style>\n",
       "<table border=\"1\" class=\"dataframe\">\n",
       "  <thead>\n",
       "    <tr style=\"text-align: right;\">\n",
       "      <th>col_0</th>\n",
       "      <th>count</th>\n",
       "    </tr>\n",
       "    <tr>\n",
       "      <th>to_offer_ep_lr</th>\n",
       "      <th></th>\n",
       "    </tr>\n",
       "  </thead>\n",
       "  <tbody>\n",
       "    <tr>\n",
       "      <th>backcountry</th>\n",
       "      <td>1,308</td>\n",
       "    </tr>\n",
       "    <tr>\n",
       "      <th>endurance</th>\n",
       "      <td>6,828</td>\n",
       "    </tr>\n",
       "    <tr>\n",
       "      <th>racquet</th>\n",
       "      <td>1,974</td>\n",
       "    </tr>\n",
       "    <tr>\n",
       "      <th>strength</th>\n",
       "      <td>7,011</td>\n",
       "    </tr>\n",
       "    <tr>\n",
       "      <th>team</th>\n",
       "      <td>3,577</td>\n",
       "    </tr>\n",
       "    <tr>\n",
       "      <th>water</th>\n",
       "      <td>9,026</td>\n",
       "    </tr>\n",
       "    <tr>\n",
       "      <th>winter</th>\n",
       "      <td>276</td>\n",
       "    </tr>\n",
       "  </tbody>\n",
       "</table>\n",
       "</div>"
      ],
      "text/plain": [
       "col_0           count\n",
       "to_offer_ep_lr       \n",
       "backcountry     1,308\n",
       "endurance       6,828\n",
       "racquet         1,974\n",
       "strength        7,011\n",
       "team            3,577\n",
       "water           9,026\n",
       "winter            276"
      ]
     },
     "execution_count": 16,
     "metadata": {},
     "output_type": "execute_result"
    }
   ],
   "source": [
    "pd.crosstab(index=pentathlon_nptb_test[\"to_offer_ep_lr\"], columns=\"count\").apply(\n",
    "    rsm.format_nr\n",
    ")"
   ]
  },
  {
   "cell_type": "code",
   "execution_count": 17,
   "metadata": {},
   "outputs": [
    {
     "data": {
      "text/plain": [
       "ep_target_lr         $1.57\n",
       "ep_strength_lr       $1.31\n",
       "ep_endurance_lr      $1.28\n",
       "ep_winter_lr         $1.26\n",
       "ep_racquet_lr        $1.13\n",
       "ep_backcountry_lr    $1.12\n",
       "ep_water_lr          $1.06\n",
       "ep_team_lr           $1.05\n",
       "dtype: object"
      ]
     },
     "execution_count": 17,
     "metadata": {},
     "output_type": "execute_result"
    }
   ],
   "source": [
    "pentathlon_nptb_test[\n",
    "    [\n",
    "        \"ep_endurance_lr\",\n",
    "        \"ep_strength_lr\",\n",
    "        \"ep_water_lr\",\n",
    "        \"ep_team_lr\",\n",
    "        \"ep_backcountry_lr\",\n",
    "        \"ep_winter_lr\",\n",
    "        \"ep_racquet_lr\",\n",
    "        \"ep_target_lr\",\n",
    "    ]\n",
    "].agg(\"mean\").sort_values(ascending=False).apply(rsm.format_nr, sym=\"$\")"
   ]
  },
  {
   "cell_type": "code",
   "execution_count": 18,
   "metadata": {},
   "outputs": [
    {
     "name": "stdout",
     "output_type": "stream",
     "text": [
      "Expected profit from offer customization: $47,179.17\n"
     ]
    }
   ],
   "source": [
    "profit_lr = pentathlon_nptb_test[\"ep_target_lr\"].agg(\"mean\") * 30000\n",
    "print(f\"Expected profit from offer customization: ${rsm.format_nr(profit_lr)}\")"
   ]
  },
  {
   "cell_type": "markdown",
   "metadata": {},
   "source": [
    "# Random Forest"
   ]
  },
  {
   "cell_type": "code",
   "execution_count": 19,
   "metadata": {},
   "outputs": [],
   "source": [
    "variables_rf = [\n",
    "    \"message\",\n",
    "    \"age\",\n",
    "    \"gender\",\n",
    "    \"income_ln\",\n",
    "    \"education\",\n",
    "    \"children\",\n",
    "    \"freq_endurance\",\n",
    "    \"freq_strength\",\n",
    "    \"freq_water\",\n",
    "    \"freq_team\",\n",
    "    \"freq_backcountry\",\n",
    "    \"freq_winter\",\n",
    "    \"freq_racquet\",\n",
    "]\n",
    "\n",
    "X_train_rf = pentathlon_nptb_train[variables_rf]\n",
    "X_train_rf = pd.get_dummies(X_train_rf, drop_first=True)\n",
    "y_train_rf = pentathlon_nptb_train[\"buyer_yes\"]\n",
    "\n",
    "X_test_rf = pentathlon_nptb_test[variables_rf]\n",
    "X_test_rf = pd.get_dummies(X_test_rf, drop_first=True)\n",
    "y_test_rf = pentathlon_nptb_test[\"buyer_yes\"]"
   ]
  },
  {
   "cell_type": "code",
   "execution_count": 122,
   "metadata": {},
   "outputs": [],
   "source": [
    "rf = RandomForestClassifier(\n",
    "    bootstrap=True, random_state=1234, criterion=\"entropy\", max_depth=10\n",
    ").fit(\n",
    "    X_train_rf,\n",
    "    y_train_rf,\n",
    "    sample_weight=pentathlon_nptb_train[\"cweight\"],\n",
    ")"
   ]
  },
  {
   "cell_type": "markdown",
   "metadata": {},
   "source": [
    "## AUC on test set"
   ]
  },
  {
   "cell_type": "code",
   "execution_count": 123,
   "metadata": {},
   "outputs": [
    {
     "name": "stdout",
     "output_type": "stream",
     "text": [
      "AUC on test set is 0.8743\n"
     ]
    }
   ],
   "source": [
    "# make prediction by using current message option\n",
    "pentathlon_nptb_test = pentathlon_nptb_test.assign(\n",
    "    p_yes_rf=rf.predict_proba(X_test_rf)[:, 1]\n",
    ")\n",
    "## calculate auc on testing set\n",
    "print(f\"AUC on test set is {functions.cal_auc(pentathlon_nptb_test, 'p_yes_rf')}\")"
   ]
  },
  {
   "cell_type": "markdown",
   "metadata": {},
   "source": [
    "## Prediction on test set"
   ]
  },
  {
   "cell_type": "code",
   "execution_count": 124,
   "metadata": {},
   "outputs": [],
   "source": [
    "pentathlon_nptb_test = pentathlon_nptb_test.assign(\n",
    "    p_endurance_rf=functions.cal_prb(message=\"endurance\", model=rf, test_set=X_test_rf),\n",
    "    p_strength_rf=functions.cal_prb(message=\"strength\", model=rf, test_set=X_test_rf),\n",
    "    p_water_rf=functions.cal_prb(message=\"water\", model=rf, test_set=X_test_rf),\n",
    "    p_team_rf=functions.cal_prb(message=\"team\", model=rf, test_set=X_test_rf),\n",
    "    p_backcountry_rf=functions.cal_prb(\n",
    "        message=\"backcountry\", model=rf, test_set=X_test_rf\n",
    "    ),\n",
    "    p_winter_rf=functions.cal_prb(message=\"winter\", model=rf, test_set=X_test_rf),\n",
    "    p_racquet_rf=functions.cal_prb(message=\"racquet\", model=rf, test_set=X_test_rf),\n",
    ")"
   ]
  },
  {
   "cell_type": "code",
   "execution_count": 125,
   "metadata": {},
   "outputs": [],
   "source": [
    "p_set_rf = [\n",
    "    \"p_endurance_rf\",\n",
    "    \"p_strength_rf\",\n",
    "    \"p_water_rf\",\n",
    "    \"p_team_rf\",\n",
    "    \"p_backcountry_rf\",\n",
    "    \"p_winter_rf\",\n",
    "    \"p_racquet_rf\",\n",
    "]"
   ]
  },
  {
   "cell_type": "code",
   "execution_count": 126,
   "metadata": {},
   "outputs": [],
   "source": [
    "pentathlon_nptb_test[\"p_target_rf\"] = pentathlon_nptb_test[p_set_rf].max(axis=1)"
   ]
  },
  {
   "cell_type": "code",
   "execution_count": 127,
   "metadata": {},
   "outputs": [],
   "source": [
    "# # choose the message that has the highest probability\n",
    "pentathlon_nptb_test[\"to_offer_rf\"] = (\n",
    "    pentathlon_nptb_test[p_set_rf]\n",
    "    .idxmax(axis=1)\n",
    "    .str.replace(\"p_endurance_rf\", \"endurance\")\n",
    "    .replace(\"p_strength_rf\", \"strength\")\n",
    "    .replace(\"p_water_rf\", \"water\")\n",
    "    .replace(\"p_team_rf\", \"team\")\n",
    "    .replace(\"p_backcountry_rf\", \"backcountry\")\n",
    "    .replace(\"p_winter_rf\", \"racquet\")\n",
    "    .replace(\"p_racquet_rf\", \"winter\")\n",
    ")"
   ]
  },
  {
   "cell_type": "code",
   "execution_count": 128,
   "metadata": {},
   "outputs": [
    {
     "data": {
      "text/html": [
       "<div>\n",
       "<style scoped>\n",
       "    .dataframe tbody tr th:only-of-type {\n",
       "        vertical-align: middle;\n",
       "    }\n",
       "\n",
       "    .dataframe tbody tr th {\n",
       "        vertical-align: top;\n",
       "    }\n",
       "\n",
       "    .dataframe thead th {\n",
       "        text-align: right;\n",
       "    }\n",
       "</style>\n",
       "<table border=\"1\" class=\"dataframe\">\n",
       "  <thead>\n",
       "    <tr style=\"text-align: right;\">\n",
       "      <th>col_0</th>\n",
       "      <th>count</th>\n",
       "    </tr>\n",
       "    <tr>\n",
       "      <th>to_offer_rf</th>\n",
       "      <th></th>\n",
       "    </tr>\n",
       "  </thead>\n",
       "  <tbody>\n",
       "    <tr>\n",
       "      <th>backcountry</th>\n",
       "      <td>3,101</td>\n",
       "    </tr>\n",
       "    <tr>\n",
       "      <th>endurance</th>\n",
       "      <td>196</td>\n",
       "    </tr>\n",
       "    <tr>\n",
       "      <th>racquet</th>\n",
       "      <td>2,834</td>\n",
       "    </tr>\n",
       "    <tr>\n",
       "      <th>strength</th>\n",
       "      <td>11,618</td>\n",
       "    </tr>\n",
       "    <tr>\n",
       "      <th>team</th>\n",
       "      <td>3,445</td>\n",
       "    </tr>\n",
       "    <tr>\n",
       "      <th>water</th>\n",
       "      <td>4,940</td>\n",
       "    </tr>\n",
       "    <tr>\n",
       "      <th>winter</th>\n",
       "      <td>3,866</td>\n",
       "    </tr>\n",
       "  </tbody>\n",
       "</table>\n",
       "</div>"
      ],
      "text/plain": [
       "col_0         count\n",
       "to_offer_rf        \n",
       "backcountry   3,101\n",
       "endurance       196\n",
       "racquet       2,834\n",
       "strength     11,618\n",
       "team          3,445\n",
       "water         4,940\n",
       "winter        3,866"
      ]
     },
     "execution_count": 128,
     "metadata": {},
     "output_type": "execute_result"
    }
   ],
   "source": [
    "pd.crosstab(index=pentathlon_nptb_test[\"to_offer_rf\"], columns=\"count\").apply(\n",
    "    rsm.format_nr\n",
    ")"
   ]
  },
  {
   "cell_type": "code",
   "execution_count": 129,
   "metadata": {},
   "outputs": [
    {
     "data": {
      "text/plain": [
       "p_target_rf         10.68%\n",
       "p_strength_rf       10.11%\n",
       "p_water_rf           9.69%\n",
       "p_winter_rf          9.59%\n",
       "p_racquet_rf         9.56%\n",
       "p_team_rf            9.55%\n",
       "p_backcountry_rf     9.42%\n",
       "p_endurance_rf        8.9%\n",
       "dtype: object"
      ]
     },
     "execution_count": 129,
     "metadata": {},
     "output_type": "execute_result"
    }
   ],
   "source": [
    "pentathlon_nptb_test[\n",
    "    [\n",
    "        \"p_target_rf\",\n",
    "        \"p_endurance_rf\",\n",
    "        \"p_strength_rf\",\n",
    "        \"p_water_rf\",\n",
    "        \"p_team_rf\",\n",
    "        \"p_backcountry_rf\",\n",
    "        \"p_winter_rf\",\n",
    "        \"p_racquet_rf\",\n",
    "    ]\n",
    "].agg(\"mean\").sort_values(ascending=False).apply(rsm.format_nr, perc=True)"
   ]
  },
  {
   "cell_type": "markdown",
   "metadata": {},
   "source": [
    "## Profit on test set"
   ]
  },
  {
   "cell_type": "code",
   "execution_count": 130,
   "metadata": {},
   "outputs": [],
   "source": [
    "ep_set_rf = [\n",
    "    \"ep_endurance_rf\",\n",
    "    \"ep_strength_rf\",\n",
    "    \"ep_water_rf\",\n",
    "    \"ep_team_rf\",\n",
    "    \"ep_backcountry_rf\",\n",
    "    \"ep_winter_rf\",\n",
    "    \"ep_racquet_rf\",\n",
    "]\n",
    "for i in range(7):\n",
    "    pentathlon_nptb_test[ep_set_rf[i]] = pentathlon_nptb_test[p_set_rf[i]] * avg_os[i]"
   ]
  },
  {
   "cell_type": "code",
   "execution_count": 131,
   "metadata": {},
   "outputs": [],
   "source": [
    "pentathlon_nptb_test[\"to_offer_ep_rf\"] = (\n",
    "    pentathlon_nptb_test[ep_set_rf]\n",
    "    .idxmax(axis=1)\n",
    "    .str.replace(\"ep_endurance_rf\", \"endurance\")\n",
    "    .replace(\"ep_strength_rf\", \"strength\")\n",
    "    .replace(\"ep_water_rf\", \"water\")\n",
    "    .replace(\"ep_team_rf\", \"team\")\n",
    "    .replace(\"ep_backcountry_rf\", \"backcountry\")\n",
    "    .replace(\"ep_winter_rf\", \"racquet\")\n",
    "    .replace(\"ep_racquet_rf\", \"winter\")\n",
    ")"
   ]
  },
  {
   "cell_type": "code",
   "execution_count": 132,
   "metadata": {},
   "outputs": [],
   "source": [
    "pentathlon_nptb_test[\"ep_target_rf\"] = pentathlon_nptb_test[ep_set_rf].max(axis=1)"
   ]
  },
  {
   "cell_type": "code",
   "execution_count": 133,
   "metadata": {},
   "outputs": [
    {
     "data": {
      "text/html": [
       "<div>\n",
       "<style scoped>\n",
       "    .dataframe tbody tr th:only-of-type {\n",
       "        vertical-align: middle;\n",
       "    }\n",
       "\n",
       "    .dataframe tbody tr th {\n",
       "        vertical-align: top;\n",
       "    }\n",
       "\n",
       "    .dataframe thead th {\n",
       "        text-align: right;\n",
       "    }\n",
       "</style>\n",
       "<table border=\"1\" class=\"dataframe\">\n",
       "  <thead>\n",
       "    <tr style=\"text-align: right;\">\n",
       "      <th>col_0</th>\n",
       "      <th>count</th>\n",
       "    </tr>\n",
       "    <tr>\n",
       "      <th>to_offer_ep_rf</th>\n",
       "      <th></th>\n",
       "    </tr>\n",
       "  </thead>\n",
       "  <tbody>\n",
       "    <tr>\n",
       "      <th>backcountry</th>\n",
       "      <td>13,889</td>\n",
       "    </tr>\n",
       "    <tr>\n",
       "      <th>racquet</th>\n",
       "      <td>4,104</td>\n",
       "    </tr>\n",
       "    <tr>\n",
       "      <th>strength</th>\n",
       "      <td>4,009</td>\n",
       "    </tr>\n",
       "    <tr>\n",
       "      <th>team</th>\n",
       "      <td>2,585</td>\n",
       "    </tr>\n",
       "    <tr>\n",
       "      <th>water</th>\n",
       "      <td>2,893</td>\n",
       "    </tr>\n",
       "    <tr>\n",
       "      <th>winter</th>\n",
       "      <td>2,520</td>\n",
       "    </tr>\n",
       "  </tbody>\n",
       "</table>\n",
       "</div>"
      ],
      "text/plain": [
       "col_0            count\n",
       "to_offer_ep_rf        \n",
       "backcountry     13,889\n",
       "racquet          4,104\n",
       "strength         4,009\n",
       "team             2,585\n",
       "water            2,893\n",
       "winter           2,520"
      ]
     },
     "execution_count": 133,
     "metadata": {},
     "output_type": "execute_result"
    }
   ],
   "source": [
    "pd.crosstab(index=pentathlon_nptb_test[\"to_offer_ep_rf\"], columns=\"count\").apply(\n",
    "    rsm.format_nr\n",
    ")"
   ]
  },
  {
   "cell_type": "code",
   "execution_count": 134,
   "metadata": {},
   "outputs": [
    {
     "data": {
      "text/plain": [
       "ep_target_rf         $2.47\n",
       "ep_backcountry_rf    $2.29\n",
       "ep_winter_rf         $2.27\n",
       "ep_strength_rf       $2.26\n",
       "ep_water_rf          $2.22\n",
       "ep_racquet_rf        $2.21\n",
       "ep_team_rf            $2.2\n",
       "ep_endurance_rf      $1.93\n",
       "dtype: object"
      ]
     },
     "execution_count": 134,
     "metadata": {},
     "output_type": "execute_result"
    }
   ],
   "source": [
    "pentathlon_nptb_test[\n",
    "    [\n",
    "        \"ep_target_rf\",\n",
    "        \"ep_endurance_rf\",\n",
    "        \"ep_strength_rf\",\n",
    "        \"ep_water_rf\",\n",
    "        \"ep_team_rf\",\n",
    "        \"ep_backcountry_rf\",\n",
    "        \"ep_winter_rf\",\n",
    "        \"ep_racquet_rf\",\n",
    "    ]\n",
    "].agg(\"mean\").sort_values(ascending=False).apply(rsm.format_nr, sym=\"$\")"
   ]
  },
  {
   "cell_type": "code",
   "execution_count": 135,
   "metadata": {},
   "outputs": [
    {
     "name": "stdout",
     "output_type": "stream",
     "text": [
      "Expected profit from offer customization: $74,163.8\n"
     ]
    }
   ],
   "source": [
    "profit_rf = pentathlon_nptb_test[\"ep_target_rf\"].agg(\"mean\") * 30000\n",
    "print(f\"Expected profit from offer customization: ${rsm.format_nr(profit_rf)}\")"
   ]
  },
  {
   "cell_type": "markdown",
   "metadata": {},
   "source": [
    "## Random Forest with GridSearch"
   ]
  },
  {
   "cell_type": "code",
   "execution_count": 34,
   "metadata": {},
   "outputs": [],
   "source": [
    "# params_set = {\n",
    "#     \"n_estimators\": range(100, 1001, 50),\n",
    "#     \"max_depth\": range(1, 11),\n",
    "#     \"min_samples_split\": range(50, 400),\n",
    "#     \"min_samples_leaf\": range(1, 60),\n",
    "# }\n",
    "# other_params = {\n",
    "#     \"bootstrap\": True,\n",
    "#     \"random_state\": 1234,\n",
    "#     \"criterion\": \"entropy\",\n",
    "# }\n",
    "# rf_gs = RandomForestClassifier(**other_params)\n",
    "\n",
    "# optimized_rf = RandomizedSearchCV(\n",
    "#     estimator=rf_gs,\n",
    "#     param_distributions=params_set,\n",
    "#     scoring=\"roc_auc\",\n",
    "#     cv=2,\n",
    "#     verbose=3,\n",
    "#     n_jobs=-1,\n",
    "#     n_iter=20,\n",
    "# ).fit(\n",
    "#     X_train_rf,\n",
    "#     y_train_rf,\n",
    "#     sample_weight=pentathlon_nptb_train[\"cweight\"],\n",
    "# )\n",
    "# optimized_rf.best_estimator_"
   ]
  },
  {
   "cell_type": "markdown",
   "metadata": {},
   "source": [
    "GridSearch shows that best parameters are: criterion='entropy', max_depth=10, min_samples_leaf=9, min_samples_split=89, n_estimators=250, random_state=1234.We will use these parameter to build the model again."
   ]
  },
  {
   "cell_type": "code",
   "execution_count": 35,
   "metadata": {},
   "outputs": [],
   "source": [
    "rf_gs = RandomForestClassifier(\n",
    "    bootstrap=True,\n",
    "    criterion=\"entropy\",\n",
    "    max_depth=10,\n",
    "    min_samples_leaf=9,\n",
    "    min_samples_split=89,\n",
    "    n_estimators=250,\n",
    "    random_state=1234,\n",
    ").fit(\n",
    "    X_train_rf,\n",
    "    y_train_rf,\n",
    "    sample_weight=pentathlon_nptb_train[\"cweight\"],\n",
    ")"
   ]
  },
  {
   "cell_type": "markdown",
   "metadata": {},
   "source": [
    "## AUC on test set"
   ]
  },
  {
   "cell_type": "code",
   "execution_count": 36,
   "metadata": {},
   "outputs": [
    {
     "name": "stdout",
     "output_type": "stream",
     "text": [
      "AUC on test set is 0.8815\n"
     ]
    }
   ],
   "source": [
    "# make prediction by using current message option\n",
    "pentathlon_nptb_test = pentathlon_nptb_test.assign(\n",
    "    p_yes_rf_gs=rf_gs.predict_proba(X_test_rf)[:, 1]\n",
    ")\n",
    "## calculate auc on testing set\n",
    "print(f\"AUC on test set is {functions.cal_auc(pentathlon_nptb_test, 'p_yes_rf_gs')}\")"
   ]
  },
  {
   "cell_type": "markdown",
   "metadata": {},
   "source": [
    "## Prediction on test set"
   ]
  },
  {
   "cell_type": "code",
   "execution_count": 37,
   "metadata": {},
   "outputs": [],
   "source": [
    "pentathlon_nptb_test = pentathlon_nptb_test.assign(\n",
    "    p_endurance_rf_gs=functions.cal_prb(\n",
    "        message=\"endurance\", model=rf_gs, test_set=X_test_rf\n",
    "    ),\n",
    "    p_strength_rf_gs=functions.cal_prb(\n",
    "        message=\"strength\", model=rf_gs, test_set=X_test_rf\n",
    "    ),\n",
    "    p_water_rf_gs=functions.cal_prb(message=\"water\", model=rf_gs, test_set=X_test_rf),\n",
    "    p_team_rf_gs=functions.cal_prb(message=\"team\", model=rf_gs, test_set=X_test_rf),\n",
    "    p_backcountry_rf_gs=functions.cal_prb(\n",
    "        message=\"backcountry\", model=rf_gs, test_set=X_test_rf\n",
    "    ),\n",
    "    p_winter_rf_gs=functions.cal_prb(message=\"winter\", model=rf_gs, test_set=X_test_rf),\n",
    "    p_racquet_rf_gs=functions.cal_prb(\n",
    "        message=\"racquet\", model=rf_gs, test_set=X_test_rf\n",
    "    ),\n",
    ")"
   ]
  },
  {
   "cell_type": "code",
   "execution_count": 38,
   "metadata": {},
   "outputs": [],
   "source": [
    "p_set_rf_gs = [\n",
    "    \"p_endurance_rf_gs\",\n",
    "    \"p_strength_rf_gs\",\n",
    "    \"p_water_rf_gs\",\n",
    "    \"p_team_rf_gs\",\n",
    "    \"p_backcountry_rf_gs\",\n",
    "    \"p_winter_rf_gs\",\n",
    "    \"p_racquet_rf_gs\",\n",
    "]"
   ]
  },
  {
   "cell_type": "code",
   "execution_count": 39,
   "metadata": {},
   "outputs": [],
   "source": [
    "pentathlon_nptb_test[\"p_target_rf_gs\"] = pentathlon_nptb_test[p_set_rf_gs].max(axis=1)"
   ]
  },
  {
   "cell_type": "code",
   "execution_count": 40,
   "metadata": {},
   "outputs": [],
   "source": [
    "# # choose the message that has the highest probability\n",
    "pentathlon_nptb_test[\"to_offer_rf_gs\"] = (\n",
    "    pentathlon_nptb_test[p_set_rf_gs]\n",
    "    .idxmax(axis=1)\n",
    "    .str.replace(\"p_endurance_rf_gs\", \"endurance\")\n",
    "    .replace(\"p_strength_rf_gs\", \"strength\")\n",
    "    .replace(\"p_water_rf_gs\", \"water\")\n",
    "    .replace(\"p_team_rf_gs\", \"team\")\n",
    "    .replace(\"p_backcountry_rf_gs\", \"backcountry\")\n",
    "    .replace(\"p_winter_rf_gs\", \"racquet\")\n",
    "    .replace(\"p_racquet_rf_gs\", \"winter\")\n",
    ")"
   ]
  },
  {
   "cell_type": "code",
   "execution_count": 41,
   "metadata": {},
   "outputs": [
    {
     "data": {
      "text/html": [
       "<div>\n",
       "<style scoped>\n",
       "    .dataframe tbody tr th:only-of-type {\n",
       "        vertical-align: middle;\n",
       "    }\n",
       "\n",
       "    .dataframe tbody tr th {\n",
       "        vertical-align: top;\n",
       "    }\n",
       "\n",
       "    .dataframe thead th {\n",
       "        text-align: right;\n",
       "    }\n",
       "</style>\n",
       "<table border=\"1\" class=\"dataframe\">\n",
       "  <thead>\n",
       "    <tr style=\"text-align: right;\">\n",
       "      <th>col_0</th>\n",
       "      <th>count</th>\n",
       "    </tr>\n",
       "    <tr>\n",
       "      <th>to_offer_rf_gs</th>\n",
       "      <th></th>\n",
       "    </tr>\n",
       "  </thead>\n",
       "  <tbody>\n",
       "    <tr>\n",
       "      <th>backcountry</th>\n",
       "      <td>1,902</td>\n",
       "    </tr>\n",
       "    <tr>\n",
       "      <th>endurance</th>\n",
       "      <td>305</td>\n",
       "    </tr>\n",
       "    <tr>\n",
       "      <th>racquet</th>\n",
       "      <td>2,202</td>\n",
       "    </tr>\n",
       "    <tr>\n",
       "      <th>strength</th>\n",
       "      <td>14,307</td>\n",
       "    </tr>\n",
       "    <tr>\n",
       "      <th>team</th>\n",
       "      <td>2,887</td>\n",
       "    </tr>\n",
       "    <tr>\n",
       "      <th>water</th>\n",
       "      <td>5,398</td>\n",
       "    </tr>\n",
       "    <tr>\n",
       "      <th>winter</th>\n",
       "      <td>2,999</td>\n",
       "    </tr>\n",
       "  </tbody>\n",
       "</table>\n",
       "</div>"
      ],
      "text/plain": [
       "col_0            count\n",
       "to_offer_rf_gs        \n",
       "backcountry      1,902\n",
       "endurance          305\n",
       "racquet          2,202\n",
       "strength        14,307\n",
       "team             2,887\n",
       "water            5,398\n",
       "winter           2,999"
      ]
     },
     "execution_count": 41,
     "metadata": {},
     "output_type": "execute_result"
    }
   ],
   "source": [
    "pd.crosstab(index=pentathlon_nptb_test[\"to_offer_rf_gs\"], columns=\"count\").apply(\n",
    "    rsm.format_nr\n",
    ")"
   ]
  },
  {
   "cell_type": "code",
   "execution_count": 42,
   "metadata": {},
   "outputs": [
    {
     "data": {
      "text/plain": [
       "p_target_rf_gs         7.99%\n",
       "p_strength_rf_gs       7.82%\n",
       "p_water_rf_gs          7.48%\n",
       "p_winter_rf_gs         7.45%\n",
       "p_racquet_rf_gs        7.44%\n",
       "p_backcountry_rf_gs    7.34%\n",
       "p_team_rf_gs           7.31%\n",
       "p_endurance_rf_gs       7.2%\n",
       "dtype: object"
      ]
     },
     "execution_count": 42,
     "metadata": {},
     "output_type": "execute_result"
    }
   ],
   "source": [
    "pentathlon_nptb_test[\n",
    "    [\n",
    "        \"p_target_rf_gs\",\n",
    "        \"p_endurance_rf_gs\",\n",
    "        \"p_strength_rf_gs\",\n",
    "        \"p_water_rf_gs\",\n",
    "        \"p_team_rf_gs\",\n",
    "        \"p_backcountry_rf_gs\",\n",
    "        \"p_winter_rf_gs\",\n",
    "        \"p_racquet_rf_gs\",\n",
    "    ]\n",
    "].agg(\"mean\").sort_values(ascending=False).apply(rsm.format_nr, perc=True)"
   ]
  },
  {
   "cell_type": "markdown",
   "metadata": {},
   "source": [
    "## Profit on test set"
   ]
  },
  {
   "cell_type": "code",
   "execution_count": 43,
   "metadata": {},
   "outputs": [],
   "source": [
    "ep_set_rf_gs = [\n",
    "    \"ep_endurance_rf_gs\",\n",
    "    \"ep_strength_rf_gs\",\n",
    "    \"ep_water_rf_gs\",\n",
    "    \"ep_team_rf_gs\",\n",
    "    \"ep_backcountry_rf_gs\",\n",
    "    \"ep_winter_rf_gs\",\n",
    "    \"ep_racquet_rf_gs\",\n",
    "]\n",
    "for i in range(7):\n",
    "    pentathlon_nptb_test[ep_set_rf_gs[i]] = (\n",
    "        pentathlon_nptb_test[p_set_rf_gs[i]] * avg_os[i]\n",
    "    )"
   ]
  },
  {
   "cell_type": "code",
   "execution_count": 44,
   "metadata": {},
   "outputs": [],
   "source": [
    "pentathlon_nptb_test[\"to_offer_ep_rf_gs\"] = (\n",
    "    pentathlon_nptb_test[ep_set_rf_gs]\n",
    "    .idxmax(axis=1)\n",
    "    .str.replace(\"ep_endurance_rf_gs\", \"endurance\")\n",
    "    .replace(\"ep_strength_rf_gs\", \"strength\")\n",
    "    .replace(\"ep_water_rf_gs\", \"water\")\n",
    "    .replace(\"ep_team_rf_gs\", \"team\")\n",
    "    .replace(\"ep_backcountry_rf_gs\", \"backcountry\")\n",
    "    .replace(\"ep_winter_rf_gs\", \"racquet\")\n",
    "    .replace(\"ep_racquet_rf_gs\", \"winter\")\n",
    ")"
   ]
  },
  {
   "cell_type": "code",
   "execution_count": 45,
   "metadata": {},
   "outputs": [],
   "source": [
    "pentathlon_nptb_test[\"ep_target_rf_gs\"] = pentathlon_nptb_test[ep_set_rf_gs].max(axis=1)"
   ]
  },
  {
   "cell_type": "code",
   "execution_count": 46,
   "metadata": {},
   "outputs": [
    {
     "data": {
      "text/html": [
       "<div>\n",
       "<style scoped>\n",
       "    .dataframe tbody tr th:only-of-type {\n",
       "        vertical-align: middle;\n",
       "    }\n",
       "\n",
       "    .dataframe tbody tr th {\n",
       "        vertical-align: top;\n",
       "    }\n",
       "\n",
       "    .dataframe thead th {\n",
       "        text-align: right;\n",
       "    }\n",
       "</style>\n",
       "<table border=\"1\" class=\"dataframe\">\n",
       "  <thead>\n",
       "    <tr style=\"text-align: right;\">\n",
       "      <th>col_0</th>\n",
       "      <th>count</th>\n",
       "    </tr>\n",
       "    <tr>\n",
       "      <th>to_offer_ep_rf_gs</th>\n",
       "      <th></th>\n",
       "    </tr>\n",
       "  </thead>\n",
       "  <tbody>\n",
       "    <tr>\n",
       "      <th>backcountry</th>\n",
       "      <td>16,333</td>\n",
       "    </tr>\n",
       "    <tr>\n",
       "      <th>racquet</th>\n",
       "      <td>3,725</td>\n",
       "    </tr>\n",
       "    <tr>\n",
       "      <th>strength</th>\n",
       "      <td>4,421</td>\n",
       "    </tr>\n",
       "    <tr>\n",
       "      <th>team</th>\n",
       "      <td>1,630</td>\n",
       "    </tr>\n",
       "    <tr>\n",
       "      <th>water</th>\n",
       "      <td>2,484</td>\n",
       "    </tr>\n",
       "    <tr>\n",
       "      <th>winter</th>\n",
       "      <td>1,407</td>\n",
       "    </tr>\n",
       "  </tbody>\n",
       "</table>\n",
       "</div>"
      ],
      "text/plain": [
       "col_0               count\n",
       "to_offer_ep_rf_gs        \n",
       "backcountry        16,333\n",
       "racquet             3,725\n",
       "strength            4,421\n",
       "team                1,630\n",
       "water               2,484\n",
       "winter              1,407"
      ]
     },
     "execution_count": 46,
     "metadata": {},
     "output_type": "execute_result"
    }
   ],
   "source": [
    "pd.crosstab(index=pentathlon_nptb_test[\"to_offer_ep_rf_gs\"], columns=\"count\").apply(\n",
    "    rsm.format_nr\n",
    ")"
   ]
  },
  {
   "cell_type": "code",
   "execution_count": 47,
   "metadata": {},
   "outputs": [
    {
     "data": {
      "text/plain": [
       "ep_target_rf_gs         $1.85\n",
       "ep_backcountry_rf_gs    $1.78\n",
       "ep_winter_rf_gs         $1.76\n",
       "ep_strength_rf_gs       $1.75\n",
       "ep_racquet_rf_gs        $1.72\n",
       "ep_water_rf_gs          $1.71\n",
       "ep_team_rf_gs           $1.68\n",
       "ep_endurance_rf_gs      $1.56\n",
       "dtype: object"
      ]
     },
     "execution_count": 47,
     "metadata": {},
     "output_type": "execute_result"
    }
   ],
   "source": [
    "pentathlon_nptb_test[\n",
    "    [\n",
    "        \"ep_target_rf_gs\",\n",
    "        \"ep_endurance_rf_gs\",\n",
    "        \"ep_strength_rf_gs\",\n",
    "        \"ep_water_rf_gs\",\n",
    "        \"ep_team_rf_gs\",\n",
    "        \"ep_backcountry_rf_gs\",\n",
    "        \"ep_winter_rf_gs\",\n",
    "        \"ep_racquet_rf_gs\",\n",
    "    ]\n",
    "].agg(\"mean\").sort_values(ascending=False).apply(rsm.format_nr, sym=\"$\")"
   ]
  },
  {
   "cell_type": "code",
   "execution_count": 48,
   "metadata": {},
   "outputs": [
    {
     "name": "stdout",
     "output_type": "stream",
     "text": [
      "Expected profit from offer customization: $55,427.17\n"
     ]
    }
   ],
   "source": [
    "profit_rf_gs = pentathlon_nptb_test[\"ep_target_rf_gs\"].agg(\"mean\") * 30000\n",
    "print(f\"Expected profit from offer customization: ${rsm.format_nr(profit_rf_gs)}\")"
   ]
  },
  {
   "cell_type": "markdown",
   "metadata": {},
   "source": [
    "# Gradient Boosting"
   ]
  },
  {
   "cell_type": "code",
   "execution_count": 49,
   "metadata": {},
   "outputs": [],
   "source": [
    "# columns used to build models\n",
    "variables_gb = [\n",
    "    \"message\",\n",
    "    \"age\",\n",
    "    \"gender\",\n",
    "    \"income_ln\",\n",
    "    \"education\",\n",
    "    \"children\",\n",
    "    \"freq_endurance\",\n",
    "    \"freq_strength\",\n",
    "    \"freq_water\",\n",
    "    \"freq_team\",\n",
    "    \"freq_backcountry\",\n",
    "    \"freq_winter\",\n",
    "    \"freq_racquet\",\n",
    "]\n",
    "\n",
    "# split data into training and testing data\n",
    "X_train_gb = pentathlon_nptb_train[variables_gb]\n",
    "y_train_gb = pentathlon_nptb_train[\"buyer_yes\"]\n",
    "\n",
    "X_test_gb = pentathlon_nptb_test[variables_gb]\n",
    "y_test_gb = pentathlon_nptb_test[\"buyer_yes\"]\n",
    "\n",
    "# get dummy for predictors\n",
    "X_train_gb = pd.get_dummies(X_train_gb, drop_first=True)\n",
    "X_test_gb = pd.get_dummies(X_test_gb, drop_first=True)"
   ]
  },
  {
   "cell_type": "code",
   "execution_count": 50,
   "metadata": {},
   "outputs": [],
   "source": [
    "gb = GradientBoostingClassifier(random_state=0).fit(\n",
    "    X_train_gb, y_train_gb, sample_weight=pentathlon_nptb_train[\"cweight\"]\n",
    ")"
   ]
  },
  {
   "cell_type": "markdown",
   "metadata": {},
   "source": [
    "## AUC on test set"
   ]
  },
  {
   "cell_type": "code",
   "execution_count": 51,
   "metadata": {},
   "outputs": [
    {
     "name": "stdout",
     "output_type": "stream",
     "text": [
      "AUC on test set is 0.8791\n"
     ]
    }
   ],
   "source": [
    "# make prediction by using current message option\n",
    "pentathlon_nptb_test[\"p_yes_gb\"] = gb.predict_proba(X_test_gb)[:, 1]\n",
    "## calculate auc on testing set\n",
    "print(f\"AUC on test set is {functions.cal_auc(pentathlon_nptb_test, 'p_yes_gb')}\")"
   ]
  },
  {
   "cell_type": "markdown",
   "metadata": {},
   "source": [
    "## Prediction on test set"
   ]
  },
  {
   "cell_type": "code",
   "execution_count": 52,
   "metadata": {},
   "outputs": [],
   "source": [
    "pentathlon_nptb_test = pentathlon_nptb_test.assign(\n",
    "    p_endurance_gb=functions.cal_prb(message=\"endurance\", model=gb, test_set=X_test_gb),\n",
    "    p_strength_gb=functions.cal_prb(message=\"strength\", model=gb, test_set=X_test_gb),\n",
    "    p_water_gb=functions.cal_prb(message=\"water\", model=gb, test_set=X_test_gb),\n",
    "    p_team_gb=functions.cal_prb(message=\"team\", model=gb, test_set=X_test_gb),\n",
    "    p_backcountry_gb=functions.cal_prb(\n",
    "        message=\"backcountry\", model=gb, test_set=X_test_gb\n",
    "    ),\n",
    "    p_winter_gb=functions.cal_prb(message=\"winter\", model=gb, test_set=X_test_gb),\n",
    "    p_racquet_gb=functions.cal_prb(message=\"racquet\", model=gb, test_set=X_test_gb),\n",
    ")"
   ]
  },
  {
   "cell_type": "code",
   "execution_count": 53,
   "metadata": {},
   "outputs": [],
   "source": [
    "p_set_gb = [\n",
    "    \"p_endurance_gb\",\n",
    "    \"p_strength_gb\",\n",
    "    \"p_water_gb\",\n",
    "    \"p_team_gb\",\n",
    "    \"p_backcountry_gb\",\n",
    "    \"p_racquet_gb\",\n",
    "    \"p_winter_gb\",\n",
    "]\n",
    "pentathlon_nptb_test[\"p_target_gb\"] = pentathlon_nptb_test[p_set_gb].max(axis=1)"
   ]
  },
  {
   "cell_type": "code",
   "execution_count": 54,
   "metadata": {},
   "outputs": [],
   "source": [
    "# choose message that has the highest probability\n",
    "pentathlon_nptb_test[\"to_offer_gb\"] = (\n",
    "    pentathlon_nptb_test[p_set_gb]\n",
    "    .idxmax(axis=1)\n",
    "    .str.replace(\"p_endurance_gb\", \"endurance\")\n",
    "    .replace(\"p_strength_gb\", \"strength\")\n",
    "    .replace(\"p_water_gb\", \"water\")\n",
    "    .replace(\"p_team_gb\", \"team\")\n",
    "    .replace(\"p_backcountry_gb\", \"backcountry\")\n",
    "    .replace(\"p_racquet_gb\", \"racquet\")\n",
    "    .replace(\"p_winter_gb\", \"winter\")\n",
    ")"
   ]
  },
  {
   "cell_type": "code",
   "execution_count": 55,
   "metadata": {},
   "outputs": [
    {
     "data": {
      "text/html": [
       "<div>\n",
       "<style scoped>\n",
       "    .dataframe tbody tr th:only-of-type {\n",
       "        vertical-align: middle;\n",
       "    }\n",
       "\n",
       "    .dataframe tbody tr th {\n",
       "        vertical-align: top;\n",
       "    }\n",
       "\n",
       "    .dataframe thead th {\n",
       "        text-align: right;\n",
       "    }\n",
       "</style>\n",
       "<table border=\"1\" class=\"dataframe\">\n",
       "  <thead>\n",
       "    <tr style=\"text-align: right;\">\n",
       "      <th>col_0</th>\n",
       "      <th>count</th>\n",
       "    </tr>\n",
       "    <tr>\n",
       "      <th>to_offer_gb</th>\n",
       "      <th></th>\n",
       "    </tr>\n",
       "  </thead>\n",
       "  <tbody>\n",
       "    <tr>\n",
       "      <th>backcountry</th>\n",
       "      <td>155</td>\n",
       "    </tr>\n",
       "    <tr>\n",
       "      <th>endurance</th>\n",
       "      <td>24,558</td>\n",
       "    </tr>\n",
       "    <tr>\n",
       "      <th>racquet</th>\n",
       "      <td>114</td>\n",
       "    </tr>\n",
       "    <tr>\n",
       "      <th>strength</th>\n",
       "      <td>5,057</td>\n",
       "    </tr>\n",
       "    <tr>\n",
       "      <th>water</th>\n",
       "      <td>2</td>\n",
       "    </tr>\n",
       "    <tr>\n",
       "      <th>winter</th>\n",
       "      <td>114</td>\n",
       "    </tr>\n",
       "  </tbody>\n",
       "</table>\n",
       "</div>"
      ],
      "text/plain": [
       "col_0         count\n",
       "to_offer_gb        \n",
       "backcountry     155\n",
       "endurance    24,558\n",
       "racquet         114\n",
       "strength      5,057\n",
       "water             2\n",
       "winter          114"
      ]
     },
     "execution_count": 55,
     "metadata": {},
     "output_type": "execute_result"
    }
   ],
   "source": [
    "pd.crosstab(index=pentathlon_nptb_test[\"to_offer_gb\"], columns=\"count\").apply(\n",
    "    rsm.format_nr\n",
    ")"
   ]
  },
  {
   "cell_type": "code",
   "execution_count": 56,
   "metadata": {},
   "outputs": [
    {
     "data": {
      "text/plain": [
       "p_target_gb          6.2%\n",
       "p_strength_gb       6.12%\n",
       "p_backcountry_gb    5.54%\n",
       "p_racquet_gb        5.49%\n",
       "p_winter_gb         5.47%\n",
       "p_endurance_gb      5.44%\n",
       "p_water_gb          5.43%\n",
       "p_team_gb           5.41%\n",
       "dtype: object"
      ]
     },
     "execution_count": 56,
     "metadata": {},
     "output_type": "execute_result"
    }
   ],
   "source": [
    "pentathlon_nptb_test[\n",
    "    [\n",
    "        \"p_target_gb\",\n",
    "        \"p_endurance_gb\",\n",
    "        \"p_strength_gb\",\n",
    "        \"p_water_gb\",\n",
    "        \"p_team_gb\",\n",
    "        \"p_backcountry_gb\",\n",
    "        \"p_racquet_gb\",\n",
    "        \"p_winter_gb\",\n",
    "    ]\n",
    "].agg(\"mean\").sort_values(ascending=False).apply(rsm.format_nr, perc=True)"
   ]
  },
  {
   "cell_type": "markdown",
   "metadata": {},
   "source": [
    "## Profit on test set"
   ]
  },
  {
   "cell_type": "code",
   "execution_count": 57,
   "metadata": {},
   "outputs": [],
   "source": [
    "ep_set_gb = [\n",
    "    \"ep_endurance_gb\",\n",
    "    \"ep_strength_gb\",\n",
    "    \"ep_water_gb\",\n",
    "    \"ep_team_gb\",\n",
    "    \"ep_backcountry_gb\",\n",
    "    \"ep_racquet_gb\",\n",
    "    \"ep_winter_gb\",\n",
    "]\n",
    "for i in range(7):\n",
    "    pentathlon_nptb_test[ep_set_gb[i]] = pentathlon_nptb_test[p_set_gb[i]] * avg_os[i]"
   ]
  },
  {
   "cell_type": "code",
   "execution_count": 58,
   "metadata": {},
   "outputs": [],
   "source": [
    "pentathlon_nptb_test[\"to_offer_ep_gb\"] = (\n",
    "    pentathlon_nptb_test[ep_set_gb]\n",
    "    .idxmax(axis=1)\n",
    "    .str.replace(\"ep_endurance_gb\", \"endurance\")\n",
    "    .replace(\"ep_strength_gb\", \"strength\")\n",
    "    .replace(\"ep_water_gb\", \"water\")\n",
    "    .replace(\"ep_team_gb\", \"team\")\n",
    "    .replace(\"ep_backcountry_gb\", \"backcountry\")\n",
    "    .replace(\"ep_winter_gb\", \"racquet\")\n",
    "    .replace(\"ep_racquet_gb\", \"winter\")\n",
    ")\n",
    "pentathlon_nptb_test[\"ep_target_gb\"] = pentathlon_nptb_test[ep_set_gb].max(axis=1)"
   ]
  },
  {
   "cell_type": "code",
   "execution_count": 59,
   "metadata": {},
   "outputs": [
    {
     "data": {
      "text/html": [
       "<div>\n",
       "<style scoped>\n",
       "    .dataframe tbody tr th:only-of-type {\n",
       "        vertical-align: middle;\n",
       "    }\n",
       "\n",
       "    .dataframe tbody tr th {\n",
       "        vertical-align: top;\n",
       "    }\n",
       "\n",
       "    .dataframe thead th {\n",
       "        text-align: right;\n",
       "    }\n",
       "</style>\n",
       "<table border=\"1\" class=\"dataframe\">\n",
       "  <thead>\n",
       "    <tr style=\"text-align: right;\">\n",
       "      <th>col_0</th>\n",
       "      <th>count</th>\n",
       "    </tr>\n",
       "    <tr>\n",
       "      <th>to_offer_ep_gb</th>\n",
       "      <th></th>\n",
       "    </tr>\n",
       "  </thead>\n",
       "  <tbody>\n",
       "    <tr>\n",
       "      <th>backcountry</th>\n",
       "      <td>25,470</td>\n",
       "    </tr>\n",
       "    <tr>\n",
       "      <th>racquet</th>\n",
       "      <td>92</td>\n",
       "    </tr>\n",
       "    <tr>\n",
       "      <th>strength</th>\n",
       "      <td>4,279</td>\n",
       "    </tr>\n",
       "    <tr>\n",
       "      <th>water</th>\n",
       "      <td>2</td>\n",
       "    </tr>\n",
       "    <tr>\n",
       "      <th>winter</th>\n",
       "      <td>157</td>\n",
       "    </tr>\n",
       "  </tbody>\n",
       "</table>\n",
       "</div>"
      ],
      "text/plain": [
       "col_0            count\n",
       "to_offer_ep_gb        \n",
       "backcountry     25,470\n",
       "racquet             92\n",
       "strength         4,279\n",
       "water                2\n",
       "winter             157"
      ]
     },
     "execution_count": 59,
     "metadata": {},
     "output_type": "execute_result"
    }
   ],
   "source": [
    "pd.crosstab(index=pentathlon_nptb_test[\"to_offer_ep_gb\"], columns=\"count\").apply(\n",
    "    rsm.format_nr\n",
    ")"
   ]
  },
  {
   "cell_type": "code",
   "execution_count": 60,
   "metadata": {},
   "outputs": [
    {
     "data": {
      "text/plain": [
       "ep_target_gb         $1.43\n",
       "ep_strength_gb       $1.37\n",
       "ep_backcountry_gb    $1.35\n",
       "ep_racquet_gb         $1.3\n",
       "ep_winter_gb         $1.26\n",
       "ep_team_gb           $1.25\n",
       "ep_water_gb          $1.24\n",
       "ep_endurance_gb      $1.18\n",
       "dtype: object"
      ]
     },
     "execution_count": 60,
     "metadata": {},
     "output_type": "execute_result"
    }
   ],
   "source": [
    "pentathlon_nptb_test[\n",
    "    [\n",
    "        \"ep_target_gb\",\n",
    "        \"ep_endurance_gb\",\n",
    "        \"ep_strength_gb\",\n",
    "        \"ep_water_gb\",\n",
    "        \"ep_team_gb\",\n",
    "        \"ep_backcountry_gb\",\n",
    "        \"ep_racquet_gb\",\n",
    "        \"ep_winter_gb\",\n",
    "    ]\n",
    "].agg(\"mean\").sort_values(ascending=False).apply(rsm.format_nr, sym=\"$\")"
   ]
  },
  {
   "cell_type": "code",
   "execution_count": 61,
   "metadata": {},
   "outputs": [
    {
     "name": "stdout",
     "output_type": "stream",
     "text": [
      "Expected profit from offer customization: $42,972.6\n"
     ]
    }
   ],
   "source": [
    "profit_gb = pentathlon_nptb_test[\"ep_target_gb\"].agg(\"mean\") * 30000\n",
    "print(f\"Expected profit from offer customization: ${rsm.format_nr(profit_gb)}\")"
   ]
  },
  {
   "cell_type": "markdown",
   "metadata": {},
   "source": [
    "## Gradient Boosting with GridSeach"
   ]
  },
  {
   "cell_type": "markdown",
   "metadata": {},
   "source": [
    "### Hyper tuning on learning rate, max_depth, n_estimators"
   ]
  },
  {
   "cell_type": "markdown",
   "metadata": {},
   "source": [
    "since run codes of building gradient boosting with GridSearch takes long time, we have commented them."
   ]
  },
  {
   "cell_type": "code",
   "execution_count": 62,
   "metadata": {},
   "outputs": [],
   "source": [
    "# gb_tuning = GradientBoostingClassifier(random_state = 0)\n",
    "# parameters = {\n",
    "#     \"n_estimators\":[5,50,250,500],\n",
    "#     \"max_depth\":[1,3,5,7,9],\n",
    "#     \"learning_rate\":[0.01,0.1,1,10,100]\n",
    "# }\n",
    "# scoring = {\"AUC\": \"roc_auc\"}\n",
    "\n",
    "# gb_cv = GridSearchCV(gb_tuning,parameters,scoring = scoring,\n",
    "#                      cv=5, n_jobs = 4, refit = 'AUC', verbose = 5)\n",
    "# gb_cv.fit(X_train,y_train)"
   ]
  },
  {
   "cell_type": "code",
   "execution_count": 63,
   "metadata": {},
   "outputs": [],
   "source": [
    "# gb_cv = GridSearchCV(gb_tuning,parameters,scoring = scoring, cv=5, n_jobs = 4, refit = 'AUC', verbose = 5)\n",
    "# gb_cv.fit(X_train,y_train)"
   ]
  },
  {
   "cell_type": "code",
   "execution_count": 64,
   "metadata": {},
   "outputs": [],
   "source": [
    "# print(gb_cv.best_params_)\n",
    "# print(gb_cv.best_score_)"
   ]
  },
  {
   "cell_type": "code",
   "execution_count": 65,
   "metadata": {},
   "outputs": [],
   "source": [
    "# # results from gradient boosting CV on learning rate, max depth, and n_estimators\n",
    "# gb_cv_results = pd.DataFrame(gb_cv.cv_results_).sort_values(by=\"rank_test_AUC\")\n",
    "\n",
    "# gb_cv_results.iloc[0, gb_cv_results.columns.get_loc(\"param_max_depth\")]"
   ]
  },
  {
   "cell_type": "markdown",
   "metadata": {},
   "source": [
    "GridSearch shows that best parameters are 0.01 for learning_rate, 7 for max_depth, 500 for n_estimators.We will use these parameter to build the model again. "
   ]
  },
  {
   "cell_type": "code",
   "execution_count": 66,
   "metadata": {},
   "outputs": [],
   "source": [
    "gb_gs = GradientBoostingClassifier(\n",
    "    learning_rate=0.01, max_depth=7, n_estimators=500, random_state=0\n",
    ").fit(X_train_gb, y_train_gb, sample_weight=pentathlon_nptb_train[\"cweight\"])"
   ]
  },
  {
   "cell_type": "markdown",
   "metadata": {},
   "source": [
    "## AUC on test set"
   ]
  },
  {
   "cell_type": "code",
   "execution_count": 67,
   "metadata": {},
   "outputs": [
    {
     "name": "stdout",
     "output_type": "stream",
     "text": [
      "AUC on test set is 0.8799\n"
     ]
    }
   ],
   "source": [
    "# make prediction by using current message option\n",
    "pentathlon_nptb_test[\"p_yes_gb_gs\"] = gb_gs.predict_proba(X_test_gb)[:, 1]\n",
    "## calculate auc on testing set\n",
    "print(f\"AUC on test set is {functions.cal_auc(pentathlon_nptb_test, 'p_yes_gb_gs')}\")"
   ]
  },
  {
   "cell_type": "markdown",
   "metadata": {},
   "source": [
    "## Prediction on test set"
   ]
  },
  {
   "cell_type": "code",
   "execution_count": 68,
   "metadata": {},
   "outputs": [],
   "source": [
    "pentathlon_nptb_test = pentathlon_nptb_test.assign(\n",
    "    p_endurance_gb_gs=functions.cal_prb(\n",
    "        message=\"endurance\", model=gb_gs, test_set=X_test_gb\n",
    "    ),\n",
    "    p_strength_gb_gs=functions.cal_prb(\n",
    "        message=\"strength\", model=gb_gs, test_set=X_test_gb\n",
    "    ),\n",
    "    p_water_gb_gs=functions.cal_prb(message=\"water\", model=gb_gs, test_set=X_test_gb),\n",
    "    p_team_gb_gs=functions.cal_prb(message=\"team\", model=gb_gs, test_set=X_test_gb),\n",
    "    p_backcountry_gb_gs=functions.cal_prb(\n",
    "        message=\"backcountry\", model=gb_gs, test_set=X_test_gb\n",
    "    ),\n",
    "    p_winter_gb_gs=functions.cal_prb(message=\"winter\", model=gb_gs, test_set=X_test_gb),\n",
    "    p_racquet_gb_gs=functions.cal_prb(\n",
    "        message=\"racquet\", model=gb_gs, test_set=X_test_gb\n",
    "    ),\n",
    ")"
   ]
  },
  {
   "cell_type": "code",
   "execution_count": 69,
   "metadata": {},
   "outputs": [],
   "source": [
    "p_set_gb_gs = [\n",
    "    \"p_endurance_gb_gs\",\n",
    "    \"p_strength_gb_gs\",\n",
    "    \"p_water_gb_gs\",\n",
    "    \"p_team_gb_gs\",\n",
    "    \"p_backcountry_gb_gs\",\n",
    "    \"p_racquet_gb_gs\",\n",
    "    \"p_winter_gb_gs\",\n",
    "]\n",
    "pentathlon_nptb_test[\"p_target_gb_gs\"] = pentathlon_nptb_test[p_set_gb].max(axis=1)"
   ]
  },
  {
   "cell_type": "code",
   "execution_count": 70,
   "metadata": {},
   "outputs": [],
   "source": [
    "# # choose the message that has the highest probability and save it to a variable named 'to_offer_gb_gs'\n",
    "pentathlon_nptb_test[\"to_offer_gb_gs\"] = (\n",
    "    pentathlon_nptb_test[p_set_gb_gs]\n",
    "    .idxmax(axis=1)\n",
    "    .str.replace(\"p_endurance_gb_gs\", \"endurance\")\n",
    "    .replace(\"p_strength_gb_gs\", \"strength\")\n",
    "    .replace(\"p_water_gb_gs\", \"water\")\n",
    "    .replace(\"p_team_gb_gs\", \"team\")\n",
    "    .replace(\"p_backcountry_gb_gs\", \"backcountry\")\n",
    "    .replace(\"p_racquet_gb_gs\", \"racquet\")\n",
    "    .replace(\"p_winter_gb_gs\", \"winter\")\n",
    ")"
   ]
  },
  {
   "cell_type": "code",
   "execution_count": 71,
   "metadata": {},
   "outputs": [
    {
     "data": {
      "text/html": [
       "<div>\n",
       "<style scoped>\n",
       "    .dataframe tbody tr th:only-of-type {\n",
       "        vertical-align: middle;\n",
       "    }\n",
       "\n",
       "    .dataframe tbody tr th {\n",
       "        vertical-align: top;\n",
       "    }\n",
       "\n",
       "    .dataframe thead th {\n",
       "        text-align: right;\n",
       "    }\n",
       "</style>\n",
       "<table border=\"1\" class=\"dataframe\">\n",
       "  <thead>\n",
       "    <tr style=\"text-align: right;\">\n",
       "      <th>col_0</th>\n",
       "      <th>count</th>\n",
       "    </tr>\n",
       "    <tr>\n",
       "      <th>to_offer_gb_gs</th>\n",
       "      <th></th>\n",
       "    </tr>\n",
       "  </thead>\n",
       "  <tbody>\n",
       "    <tr>\n",
       "      <th>backcountry</th>\n",
       "      <td>481</td>\n",
       "    </tr>\n",
       "    <tr>\n",
       "      <th>endurance</th>\n",
       "      <td>14,319</td>\n",
       "    </tr>\n",
       "    <tr>\n",
       "      <th>racquet</th>\n",
       "      <td>494</td>\n",
       "    </tr>\n",
       "    <tr>\n",
       "      <th>strength</th>\n",
       "      <td>10,363</td>\n",
       "    </tr>\n",
       "    <tr>\n",
       "      <th>team</th>\n",
       "      <td>1,189</td>\n",
       "    </tr>\n",
       "    <tr>\n",
       "      <th>water</th>\n",
       "      <td>2,337</td>\n",
       "    </tr>\n",
       "    <tr>\n",
       "      <th>winter</th>\n",
       "      <td>817</td>\n",
       "    </tr>\n",
       "  </tbody>\n",
       "</table>\n",
       "</div>"
      ],
      "text/plain": [
       "col_0            count\n",
       "to_offer_gb_gs        \n",
       "backcountry        481\n",
       "endurance       14,319\n",
       "racquet            494\n",
       "strength        10,363\n",
       "team             1,189\n",
       "water            2,337\n",
       "winter             817"
      ]
     },
     "execution_count": 71,
     "metadata": {},
     "output_type": "execute_result"
    }
   ],
   "source": [
    "pd.crosstab(index=pentathlon_nptb_test[\"to_offer_gb_gs\"], columns=\"count\").apply(\n",
    "    rsm.format_nr\n",
    ")"
   ]
  },
  {
   "cell_type": "code",
   "execution_count": 72,
   "metadata": {},
   "outputs": [
    {
     "data": {
      "text/plain": [
       "p_strength_gb_gs       9.95%\n",
       "p_water_gb_gs          9.68%\n",
       "p_team_gb_gs           9.65%\n",
       "p_winter_gb_gs         9.52%\n",
       "p_racquet_gb_gs        9.42%\n",
       "p_backcountry_gb_gs    9.25%\n",
       "p_endurance_gb_gs      9.13%\n",
       "dtype: object"
      ]
     },
     "execution_count": 72,
     "metadata": {},
     "output_type": "execute_result"
    }
   ],
   "source": [
    "pentathlon_nptb_test[p_set_gb_gs].agg(\"mean\").sort_values(ascending=False).apply(\n",
    "    rsm.format_nr, perc=True\n",
    ")"
   ]
  },
  {
   "cell_type": "markdown",
   "metadata": {},
   "source": [
    "## Profit on test set"
   ]
  },
  {
   "cell_type": "code",
   "execution_count": 73,
   "metadata": {},
   "outputs": [],
   "source": [
    "ep_set_gb_gs = [\n",
    "    \"ep_endurance_gb_gs\",\n",
    "    \"ep_strength_gb_gs\",\n",
    "    \"ep_water_gb_gs\",\n",
    "    \"ep_team_gb_gs\",\n",
    "    \"ep_backcountry_gb_gs\",\n",
    "    \"ep_racquet_gb_gs\",\n",
    "    \"ep_winter_gb_gs\",\n",
    "]\n",
    "for i in range(7):\n",
    "    pentathlon_nptb_test[ep_set_gb_gs[i]] = (\n",
    "        pentathlon_nptb_test[p_set_gb_gs[i]] * avg_os[i]\n",
    "    )"
   ]
  },
  {
   "cell_type": "code",
   "execution_count": 74,
   "metadata": {},
   "outputs": [],
   "source": [
    "pentathlon_nptb_test[\"to_offer_ep_gb_gs\"] = (\n",
    "    pentathlon_nptb_test[ep_set_gb_gs]\n",
    "    .idxmax(axis=1)\n",
    "    .str.replace(\"p_endurance_gb_gs\", \"endurance\")\n",
    "    .replace(\"p_strength_gb_gs\", \"strength\")\n",
    "    .replace(\"p_water_gb_gs\", \"water\")\n",
    "    .replace(\"p_team_gb_gs\", \"team\")\n",
    "    .replace(\"p_backcountry_gb_gs\", \"backcountry\")\n",
    "    .replace(\"p_racquet_gb_gs\", \"racquet\")\n",
    "    .replace(\"p_winter_gb_gs\", \"winter\")\n",
    ")\n",
    "pentathlon_nptb_test[\"ep_target_gb_gs\"] = pentathlon_nptb_test[ep_set_gb_gs].max(axis=1)"
   ]
  },
  {
   "cell_type": "code",
   "execution_count": 75,
   "metadata": {},
   "outputs": [
    {
     "data": {
      "text/html": [
       "<div>\n",
       "<style scoped>\n",
       "    .dataframe tbody tr th:only-of-type {\n",
       "        vertical-align: middle;\n",
       "    }\n",
       "\n",
       "    .dataframe tbody tr th {\n",
       "        vertical-align: top;\n",
       "    }\n",
       "\n",
       "    .dataframe thead th {\n",
       "        text-align: right;\n",
       "    }\n",
       "</style>\n",
       "<table border=\"1\" class=\"dataframe\">\n",
       "  <thead>\n",
       "    <tr style=\"text-align: right;\">\n",
       "      <th>col_0</th>\n",
       "      <th>count</th>\n",
       "    </tr>\n",
       "    <tr>\n",
       "      <th>to_offer_ep_gb_gs</th>\n",
       "      <th></th>\n",
       "    </tr>\n",
       "  </thead>\n",
       "  <tbody>\n",
       "    <tr>\n",
       "      <th>ep_backcountry_gb_gs</th>\n",
       "      <td>24,172</td>\n",
       "    </tr>\n",
       "    <tr>\n",
       "      <th>ep_racquet_gb_gs</th>\n",
       "      <td>939</td>\n",
       "    </tr>\n",
       "    <tr>\n",
       "      <th>ep_strength_gb_gs</th>\n",
       "      <td>2,035</td>\n",
       "    </tr>\n",
       "    <tr>\n",
       "      <th>ep_team_gb_gs</th>\n",
       "      <td>1,060</td>\n",
       "    </tr>\n",
       "    <tr>\n",
       "      <th>ep_water_gb_gs</th>\n",
       "      <td>1,127</td>\n",
       "    </tr>\n",
       "    <tr>\n",
       "      <th>ep_winter_gb_gs</th>\n",
       "      <td>667</td>\n",
       "    </tr>\n",
       "  </tbody>\n",
       "</table>\n",
       "</div>"
      ],
      "text/plain": [
       "col_0                  count\n",
       "to_offer_ep_gb_gs           \n",
       "ep_backcountry_gb_gs  24,172\n",
       "ep_racquet_gb_gs         939\n",
       "ep_strength_gb_gs      2,035\n",
       "ep_team_gb_gs          1,060\n",
       "ep_water_gb_gs         1,127\n",
       "ep_winter_gb_gs          667"
      ]
     },
     "execution_count": 75,
     "metadata": {},
     "output_type": "execute_result"
    }
   ],
   "source": [
    "pd.crosstab(index=pentathlon_nptb_test[\"to_offer_ep_gb_gs\"], columns=\"count\").apply(\n",
    "    rsm.format_nr\n",
    ")"
   ]
  },
  {
   "cell_type": "code",
   "execution_count": 76,
   "metadata": {},
   "outputs": [
    {
     "data": {
      "text/plain": [
       "ep_target_gb_gs         $2.59\n",
       "ep_backcountry_gb_gs    $2.24\n",
       "ep_racquet_gb_gs        $2.23\n",
       "ep_strength_gb_gs       $2.23\n",
       "ep_team_gb_gs           $2.22\n",
       "ep_water_gb_gs          $2.22\n",
       "ep_winter_gb_gs          $2.2\n",
       "ep_endurance_gb_gs      $1.98\n",
       "dtype: object"
      ]
     },
     "execution_count": 76,
     "metadata": {},
     "output_type": "execute_result"
    }
   ],
   "source": [
    "pentathlon_nptb_test[\n",
    "    [\n",
    "        \"ep_target_gb_gs\",\n",
    "        \"ep_endurance_gb_gs\",\n",
    "        \"ep_strength_gb_gs\",\n",
    "        \"ep_water_gb_gs\",\n",
    "        \"ep_team_gb_gs\",\n",
    "        \"ep_backcountry_gb_gs\",\n",
    "        \"ep_racquet_gb_gs\",\n",
    "        \"ep_winter_gb_gs\",\n",
    "    ]\n",
    "].agg(\"mean\").sort_values(ascending=False).apply(rsm.format_nr, sym=\"$\")"
   ]
  },
  {
   "cell_type": "code",
   "execution_count": 77,
   "metadata": {},
   "outputs": [
    {
     "name": "stdout",
     "output_type": "stream",
     "text": [
      "Expected profit from offer customization: $77,566.26\n"
     ]
    }
   ],
   "source": [
    "profit_gb_gs = pentathlon_nptb_test[\"ep_target_gb_gs\"].agg(\"mean\") * 30000\n",
    "print(f\"Expected profit from offer customization: ${rsm.format_nr(profit_gb_gs)}\")"
   ]
  },
  {
   "cell_type": "code",
   "execution_count": 136,
   "metadata": {},
   "outputs": [
    {
     "data": {
      "text/html": [
       "<div>\n",
       "<style scoped>\n",
       "    .dataframe tbody tr th:only-of-type {\n",
       "        vertical-align: middle;\n",
       "    }\n",
       "\n",
       "    .dataframe tbody tr th {\n",
       "        vertical-align: top;\n",
       "    }\n",
       "\n",
       "    .dataframe thead th {\n",
       "        text-align: right;\n",
       "    }\n",
       "</style>\n",
       "<table border=\"1\" class=\"dataframe\">\n",
       "  <thead>\n",
       "    <tr style=\"text-align: right;\">\n",
       "      <th></th>\n",
       "      <th>Name</th>\n",
       "      <th>AUC</th>\n",
       "    </tr>\n",
       "  </thead>\n",
       "  <tbody>\n",
       "    <tr>\n",
       "      <th>0</th>\n",
       "      <td>LR</td>\n",
       "      <td>0.8760</td>\n",
       "    </tr>\n",
       "    <tr>\n",
       "      <th>1</th>\n",
       "      <td>RF</td>\n",
       "      <td>0.8743</td>\n",
       "    </tr>\n",
       "    <tr>\n",
       "      <th>2</th>\n",
       "      <td>RF_GS</td>\n",
       "      <td>0.8815</td>\n",
       "    </tr>\n",
       "    <tr>\n",
       "      <th>3</th>\n",
       "      <td>GB</td>\n",
       "      <td>0.8791</td>\n",
       "    </tr>\n",
       "    <tr>\n",
       "      <th>4</th>\n",
       "      <td>GB_GS</td>\n",
       "      <td>0.8799</td>\n",
       "    </tr>\n",
       "  </tbody>\n",
       "</table>\n",
       "</div>"
      ],
      "text/plain": [
       "    Name     AUC\n",
       "0     LR  0.8760\n",
       "1     RF  0.8743\n",
       "2  RF_GS  0.8815\n",
       "3     GB  0.8791\n",
       "4  GB_GS  0.8799"
      ]
     },
     "execution_count": 136,
     "metadata": {},
     "output_type": "execute_result"
    }
   ],
   "source": [
    "profit_df = pd.DataFrame(\n",
    "    {\n",
    "        \"Name\": [\n",
    "            \"LR\",\n",
    "            \"RF\",\n",
    "            \"RF_GS\",\n",
    "            \"GB\",\n",
    "            \"GB_GS\",\n",
    "        ],\n",
    "        \"AUC\": [\n",
    "            functions.cal_auc(pentathlon_nptb_test, \"p_yes_lr\"),\n",
    "            functions.cal_auc(pentathlon_nptb_test, \"p_yes_rf\"),\n",
    "            functions.cal_auc(pentathlon_nptb_test, \"p_yes_rf_gs\"),\n",
    "            functions.cal_auc(pentathlon_nptb_test, \"p_yes_gb\"),\n",
    "            functions.cal_auc(pentathlon_nptb_test, \"p_yes_gb_gs\"),\n",
    "        ],\n",
    "    }\n",
    ")\n",
    "profit_df"
   ]
  },
  {
   "cell_type": "markdown",
   "metadata": {},
   "source": [
    "# Profit on representative set"
   ]
  },
  {
   "cell_type": "code",
   "execution_count": 83,
   "metadata": {},
   "outputs": [],
   "source": [
    "pentathlon_nptb_rep = pentathlon_nptb_copy.query(\"representative == 1\")"
   ]
  },
  {
   "cell_type": "code",
   "execution_count": 84,
   "metadata": {},
   "outputs": [],
   "source": [
    "model_select = rf_gs"
   ]
  },
  {
   "cell_type": "markdown",
   "metadata": {},
   "source": [
    "## Predicted probability"
   ]
  },
  {
   "cell_type": "code",
   "execution_count": 85,
   "metadata": {},
   "outputs": [],
   "source": [
    "X = pd.get_dummies(pentathlon_nptb_rep[variables_gb], drop_first=True)"
   ]
  },
  {
   "cell_type": "code",
   "execution_count": 86,
   "metadata": {},
   "outputs": [],
   "source": [
    "pentathlon_nptb_rep = pentathlon_nptb_rep.assign(\n",
    "    p_endurance=functions.cal_prb(message=\"endurance\", model=model_select, test_set=X),\n",
    "    p_strength=functions.cal_prb(message=\"strength\", model=model_select, test_set=X),\n",
    "    p_water=functions.cal_prb(message=\"water\", model=model_select, test_set=X),\n",
    "    p_team=functions.cal_prb(message=\"team\", model=model_select, test_set=X),\n",
    "    p_backcountry=functions.cal_prb(\n",
    "        message=\"backcountry\", model=model_select, test_set=X\n",
    "    ),\n",
    "    p_winter=functions.cal_prb(message=\"winter\", model=model_select, test_set=X),\n",
    "    p_racquet=functions.cal_prb(message=\"racquet\", model=model_select, test_set=X),\n",
    ")"
   ]
  },
  {
   "cell_type": "code",
   "execution_count": 87,
   "metadata": {},
   "outputs": [],
   "source": [
    "p_set = [\n",
    "    \"p_endurance\",\n",
    "    \"p_strength\",\n",
    "    \"p_water\",\n",
    "    \"p_team\",\n",
    "    \"p_backcountry\",\n",
    "    \"p_winter\",\n",
    "    \"p_racquet\",\n",
    "]\n",
    "pentathlon_nptb_rep[\"p_target\"] = pentathlon_nptb_rep[p_set].max(axis=1)"
   ]
  },
  {
   "cell_type": "code",
   "execution_count": 88,
   "metadata": {},
   "outputs": [],
   "source": [
    "# # choose the message that has the highest probability\n",
    "pentathlon_nptb_rep[\"to_offer\"] = (\n",
    "    pentathlon_nptb_rep[p_set]\n",
    "    .idxmax(axis=1)\n",
    "    .str.replace(\"p_endurance\", \"endurance\")\n",
    "    .replace(\"p_strength\", \"strength\")\n",
    "    .replace(\"p_water\", \"water\")\n",
    "    .replace(\"p_team\", \"team\")\n",
    "    .replace(\"p_backcountry\", \"backcountry\")\n",
    "    .replace(\"p_winter\", \"racquet\")\n",
    "    .replace(\"p_racquet\", \"winter\")\n",
    ")"
   ]
  },
  {
   "cell_type": "code",
   "execution_count": 89,
   "metadata": {},
   "outputs": [
    {
     "data": {
      "text/html": [
       "<div>\n",
       "<style scoped>\n",
       "    .dataframe tbody tr th:only-of-type {\n",
       "        vertical-align: middle;\n",
       "    }\n",
       "\n",
       "    .dataframe tbody tr th {\n",
       "        vertical-align: top;\n",
       "    }\n",
       "\n",
       "    .dataframe thead th {\n",
       "        text-align: right;\n",
       "    }\n",
       "</style>\n",
       "<table border=\"1\" class=\"dataframe\">\n",
       "  <thead>\n",
       "    <tr style=\"text-align: right;\">\n",
       "      <th>col_0</th>\n",
       "      <th>count</th>\n",
       "    </tr>\n",
       "    <tr>\n",
       "      <th>to_offer</th>\n",
       "      <th></th>\n",
       "    </tr>\n",
       "  </thead>\n",
       "  <tbody>\n",
       "    <tr>\n",
       "      <th>backcountry</th>\n",
       "      <td>6,528</td>\n",
       "    </tr>\n",
       "    <tr>\n",
       "      <th>endurance</th>\n",
       "      <td>1,969</td>\n",
       "    </tr>\n",
       "    <tr>\n",
       "      <th>racquet</th>\n",
       "      <td>4,850</td>\n",
       "    </tr>\n",
       "    <tr>\n",
       "      <th>strength</th>\n",
       "      <td>48,977</td>\n",
       "    </tr>\n",
       "    <tr>\n",
       "      <th>team</th>\n",
       "      <td>7,618</td>\n",
       "    </tr>\n",
       "    <tr>\n",
       "      <th>water</th>\n",
       "      <td>18,833</td>\n",
       "    </tr>\n",
       "    <tr>\n",
       "      <th>winter</th>\n",
       "      <td>11,225</td>\n",
       "    </tr>\n",
       "  </tbody>\n",
       "</table>\n",
       "</div>"
      ],
      "text/plain": [
       "col_0         count\n",
       "to_offer           \n",
       "backcountry   6,528\n",
       "endurance     1,969\n",
       "racquet       4,850\n",
       "strength     48,977\n",
       "team          7,618\n",
       "water        18,833\n",
       "winter       11,225"
      ]
     },
     "execution_count": 89,
     "metadata": {},
     "output_type": "execute_result"
    }
   ],
   "source": [
    "pd.crosstab(index=pentathlon_nptb_rep[\"to_offer\"], columns=\"count\").apply(rsm.format_nr)"
   ]
  },
  {
   "cell_type": "code",
   "execution_count": 90,
   "metadata": {},
   "outputs": [
    {
     "data": {
      "text/plain": [
       "p_target         1.72%\n",
       "p_strength       1.66%\n",
       "p_water          1.61%\n",
       "p_winter         1.58%\n",
       "p_racquet        1.58%\n",
       "p_team           1.57%\n",
       "p_backcountry    1.56%\n",
       "p_endurance      1.53%\n",
       "dtype: object"
      ]
     },
     "execution_count": 90,
     "metadata": {},
     "output_type": "execute_result"
    }
   ],
   "source": [
    "pentathlon_nptb_rep[\"p_target\"] = pentathlon_nptb_rep[p_set].max(axis=1)\n",
    "pentathlon_nptb_rep[\n",
    "    [\n",
    "        \"p_endurance\",\n",
    "        \"p_strength\",\n",
    "        \"p_water\",\n",
    "        \"p_team\",\n",
    "        \"p_backcountry\",\n",
    "        \"p_winter\",\n",
    "        \"p_racquet\",\n",
    "        \"p_target\",\n",
    "    ]\n",
    "].agg(\"mean\").sort_values(ascending=False).apply(rsm.format_nr, perc=True)"
   ]
  },
  {
   "cell_type": "markdown",
   "metadata": {},
   "source": [
    "## Expected profit"
   ]
  },
  {
   "cell_type": "code",
   "execution_count": 91,
   "metadata": {},
   "outputs": [],
   "source": [
    "ep_set = [\n",
    "    \"ep_endurance\",\n",
    "    \"ep_strength\",\n",
    "    \"ep_water\",\n",
    "    \"ep_team\",\n",
    "    \"ep_backcountry\",\n",
    "    \"ep_winter\",\n",
    "    \"ep_racquet\",\n",
    "]"
   ]
  },
  {
   "cell_type": "code",
   "execution_count": 92,
   "metadata": {},
   "outputs": [],
   "source": [
    "for i in range(7):\n",
    "    pentathlon_nptb_rep[ep_set[i]] = pentathlon_nptb_rep[p_set[i]] * avg_os[i]\n",
    "pentathlon_nptb_rep[\"to_offer_ep\"] = (\n",
    "    pentathlon_nptb_rep[ep_set]\n",
    "    .idxmax(axis=1)\n",
    "    .str.replace(\"ep_endurance\", \"endurance\")\n",
    "    .replace(\"ep_strength\", \"strength\")\n",
    "    .replace(\"ep_water\", \"water\")\n",
    "    .replace(\"ep_team\", \"team\")\n",
    "    .replace(\"ep_backcountry\", \"backcountry\")\n",
    "    .replace(\"ep_winter\", \"racquet\")\n",
    "    .replace(\"ep_racquet\", \"winter\")\n",
    ")\n",
    "pentathlon_nptb_rep[\"ep_target\"] = pentathlon_nptb_rep[ep_set].max(axis=1)"
   ]
  },
  {
   "cell_type": "code",
   "execution_count": 93,
   "metadata": {},
   "outputs": [
    {
     "data": {
      "text/html": [
       "<div>\n",
       "<style scoped>\n",
       "    .dataframe tbody tr th:only-of-type {\n",
       "        vertical-align: middle;\n",
       "    }\n",
       "\n",
       "    .dataframe tbody tr th {\n",
       "        vertical-align: top;\n",
       "    }\n",
       "\n",
       "    .dataframe thead th {\n",
       "        text-align: right;\n",
       "    }\n",
       "</style>\n",
       "<table border=\"1\" class=\"dataframe\">\n",
       "  <thead>\n",
       "    <tr style=\"text-align: right;\">\n",
       "      <th>col_0</th>\n",
       "      <th>count</th>\n",
       "    </tr>\n",
       "    <tr>\n",
       "      <th>to_offer_ep</th>\n",
       "      <th></th>\n",
       "    </tr>\n",
       "  </thead>\n",
       "  <tbody>\n",
       "    <tr>\n",
       "      <th>backcountry</th>\n",
       "      <td>69,785</td>\n",
       "    </tr>\n",
       "    <tr>\n",
       "      <th>racquet</th>\n",
       "      <td>7,996</td>\n",
       "    </tr>\n",
       "    <tr>\n",
       "      <th>strength</th>\n",
       "      <td>9,786</td>\n",
       "    </tr>\n",
       "    <tr>\n",
       "      <th>team</th>\n",
       "      <td>3,298</td>\n",
       "    </tr>\n",
       "    <tr>\n",
       "      <th>water</th>\n",
       "      <td>6,159</td>\n",
       "    </tr>\n",
       "    <tr>\n",
       "      <th>winter</th>\n",
       "      <td>2,976</td>\n",
       "    </tr>\n",
       "  </tbody>\n",
       "</table>\n",
       "</div>"
      ],
      "text/plain": [
       "col_0         count\n",
       "to_offer_ep        \n",
       "backcountry  69,785\n",
       "racquet       7,996\n",
       "strength      9,786\n",
       "team          3,298\n",
       "water         6,159\n",
       "winter        2,976"
      ]
     },
     "execution_count": 93,
     "metadata": {},
     "output_type": "execute_result"
    }
   ],
   "source": [
    "pd.crosstab(index=pentathlon_nptb_rep[\"to_offer_ep\"], columns=\"count\").apply(\n",
    "    rsm.format_nr\n",
    ")"
   ]
  },
  {
   "cell_type": "code",
   "execution_count": 94,
   "metadata": {},
   "outputs": [
    {
     "data": {
      "text/plain": [
       "ep_target          $0.4\n",
       "ep_backcountry    $0.38\n",
       "ep_winter         $0.37\n",
       "ep_strength       $0.37\n",
       "ep_water          $0.37\n",
       "ep_racquet        $0.36\n",
       "ep_team           $0.36\n",
       "ep_endurance      $0.33\n",
       "dtype: object"
      ]
     },
     "execution_count": 94,
     "metadata": {},
     "output_type": "execute_result"
    }
   ],
   "source": [
    "pentathlon_nptb_rep[\n",
    "    [\n",
    "        \"ep_target\",\n",
    "        \"ep_endurance\",\n",
    "        \"ep_strength\",\n",
    "        \"ep_water\",\n",
    "        \"ep_team\",\n",
    "        \"ep_backcountry\",\n",
    "        \"ep_racquet\",\n",
    "        \"ep_winter\",\n",
    "    ]\n",
    "].agg(\"mean\").sort_values(ascending=False).apply(rsm.format_nr, sym=\"$\")"
   ]
  },
  {
   "cell_type": "code",
   "execution_count": 95,
   "metadata": {},
   "outputs": [
    {
     "name": "stdout",
     "output_type": "stream",
     "text": [
      "Expected profit from offer customization: $39,689.94\n"
     ]
    }
   ],
   "source": [
    "profit_rep = pentathlon_nptb_rep[\"ep_target\"].agg(\"mean\") * pentathlon_nptb_rep.shape[0]\n",
    "print(f\"Expected profit from offer customization: ${rsm.format_nr(profit_rep)}\")"
   ]
  },
  {
   "cell_type": "code",
   "execution_count": 96,
   "metadata": {},
   "outputs": [
    {
     "name": "stdout",
     "output_type": "stream",
     "text": [
      "Expected profit from offer customization: $1,984,497.15\n"
     ]
    }
   ],
   "source": [
    "profit_5M = pentathlon_nptb_rep[\"ep_target\"].agg(\"mean\") * 5000000\n",
    "print(f\"Expected profit from offer customization: ${rsm.format_nr(profit_5M)}\")"
   ]
  },
  {
   "cell_type": "markdown",
   "metadata": {},
   "source": [
    "## The Analysis"
   ]
  },
  {
   "cell_type": "markdown",
   "metadata": {},
   "source": [
    "1. For each customer determine the message (i.e., endurance, strength, water, team, backcountry, winter, or racquet) predicted to lead to the highest probability of purchase. Describe your approach."
   ]
  },
  {
   "cell_type": "code",
   "execution_count": 97,
   "metadata": {},
   "outputs": [
    {
     "data": {
      "text/html": [
       "<div>\n",
       "<style scoped>\n",
       "    .dataframe tbody tr th:only-of-type {\n",
       "        vertical-align: middle;\n",
       "    }\n",
       "\n",
       "    .dataframe tbody tr th {\n",
       "        vertical-align: top;\n",
       "    }\n",
       "\n",
       "    .dataframe thead th {\n",
       "        text-align: right;\n",
       "    }\n",
       "</style>\n",
       "<table border=\"1\" class=\"dataframe\">\n",
       "  <thead>\n",
       "    <tr style=\"text-align: right;\">\n",
       "      <th></th>\n",
       "      <th>custid</th>\n",
       "      <th>to_offer</th>\n",
       "    </tr>\n",
       "  </thead>\n",
       "  <tbody>\n",
       "    <tr>\n",
       "      <th>0</th>\n",
       "      <td>U45198803</td>\n",
       "      <td>strength</td>\n",
       "    </tr>\n",
       "    <tr>\n",
       "      <th>1</th>\n",
       "      <td>U22197752</td>\n",
       "      <td>strength</td>\n",
       "    </tr>\n",
       "    <tr>\n",
       "      <th>3</th>\n",
       "      <td>U19423462</td>\n",
       "      <td>backcountry</td>\n",
       "    </tr>\n",
       "    <tr>\n",
       "      <th>4</th>\n",
       "      <td>U23888305</td>\n",
       "      <td>strength</td>\n",
       "    </tr>\n",
       "    <tr>\n",
       "      <th>6</th>\n",
       "      <td>U16954857</td>\n",
       "      <td>strength</td>\n",
       "    </tr>\n",
       "    <tr>\n",
       "      <th>...</th>\n",
       "      <td>...</td>\n",
       "      <td>...</td>\n",
       "    </tr>\n",
       "    <tr>\n",
       "      <th>199991</th>\n",
       "      <td>U12620333</td>\n",
       "      <td>endurance</td>\n",
       "    </tr>\n",
       "    <tr>\n",
       "      <th>199993</th>\n",
       "      <td>U18623424</td>\n",
       "      <td>strength</td>\n",
       "    </tr>\n",
       "    <tr>\n",
       "      <th>199994</th>\n",
       "      <td>U64468968</td>\n",
       "      <td>team</td>\n",
       "    </tr>\n",
       "    <tr>\n",
       "      <th>199998</th>\n",
       "      <td>U33721691</td>\n",
       "      <td>strength</td>\n",
       "    </tr>\n",
       "    <tr>\n",
       "      <th>199999</th>\n",
       "      <td>U23361779</td>\n",
       "      <td>backcountry</td>\n",
       "    </tr>\n",
       "  </tbody>\n",
       "</table>\n",
       "<p>100000 rows × 2 columns</p>\n",
       "</div>"
      ],
      "text/plain": [
       "           custid     to_offer\n",
       "0       U45198803     strength\n",
       "1       U22197752     strength\n",
       "3       U19423462  backcountry\n",
       "4       U23888305     strength\n",
       "6       U16954857     strength\n",
       "...           ...          ...\n",
       "199991  U12620333    endurance\n",
       "199993  U18623424     strength\n",
       "199994  U64468968         team\n",
       "199998  U33721691     strength\n",
       "199999  U23361779  backcountry\n",
       "\n",
       "[100000 rows x 2 columns]"
      ]
     },
     "execution_count": 97,
     "metadata": {},
     "output_type": "execute_result"
    }
   ],
   "source": [
    "pd.DataFrame(pentathlon_nptb_rep[[\"custid\", \"to_offer\"]])"
   ]
  },
  {
   "cell_type": "markdown",
   "metadata": {},
   "source": [
    "'to_offer' columns has the message type that has the highest probability"
   ]
  },
  {
   "cell_type": "markdown",
   "metadata": {},
   "source": [
    "2. For each message, report the percentage of customers for whom that message maximizes their probability of purchase."
   ]
  },
  {
   "cell_type": "code",
   "execution_count": 98,
   "metadata": {},
   "outputs": [
    {
     "data": {
      "text/html": [
       "<div>\n",
       "<style scoped>\n",
       "    .dataframe tbody tr th:only-of-type {\n",
       "        vertical-align: middle;\n",
       "    }\n",
       "\n",
       "    .dataframe tbody tr th {\n",
       "        vertical-align: top;\n",
       "    }\n",
       "\n",
       "    .dataframe thead th {\n",
       "        text-align: right;\n",
       "    }\n",
       "</style>\n",
       "<table border=\"1\" class=\"dataframe\">\n",
       "  <thead>\n",
       "    <tr style=\"text-align: right;\">\n",
       "      <th></th>\n",
       "      <th>Percentage of customers</th>\n",
       "    </tr>\n",
       "    <tr>\n",
       "      <th>to_offer</th>\n",
       "      <th></th>\n",
       "    </tr>\n",
       "  </thead>\n",
       "  <tbody>\n",
       "    <tr>\n",
       "      <th>backcountry</th>\n",
       "      <td>6.53%</td>\n",
       "    </tr>\n",
       "    <tr>\n",
       "      <th>endurance</th>\n",
       "      <td>1.97%</td>\n",
       "    </tr>\n",
       "    <tr>\n",
       "      <th>racquet</th>\n",
       "      <td>4.85%</td>\n",
       "    </tr>\n",
       "    <tr>\n",
       "      <th>strength</th>\n",
       "      <td>48.98%</td>\n",
       "    </tr>\n",
       "    <tr>\n",
       "      <th>team</th>\n",
       "      <td>7.62%</td>\n",
       "    </tr>\n",
       "    <tr>\n",
       "      <th>water</th>\n",
       "      <td>18.83%</td>\n",
       "    </tr>\n",
       "    <tr>\n",
       "      <th>winter</th>\n",
       "      <td>11.22%</td>\n",
       "    </tr>\n",
       "  </tbody>\n",
       "</table>\n",
       "</div>"
      ],
      "text/plain": [
       "            Percentage of customers\n",
       "to_offer                           \n",
       "backcountry                   6.53%\n",
       "endurance                     1.97%\n",
       "racquet                       4.85%\n",
       "strength                     48.98%\n",
       "team                          7.62%\n",
       "water                        18.83%\n",
       "winter                       11.22%"
      ]
     },
     "execution_count": 98,
     "metadata": {},
     "output_type": "execute_result"
    }
   ],
   "source": [
    "pd.crosstab(\n",
    "    index=pentathlon_nptb_rep[\"to_offer\"],\n",
    "    columns=\"Percentage of customers\",\n",
    "    normalize=True,\n",
    "    colnames=[\"\"],\n",
    ").apply(rsm.format_nr, perc=True)"
   ]
  },
  {
   "cell_type": "markdown",
   "metadata": {},
   "source": [
    "The table above shows that strength message type has the highest percentage of customers that message maximizes their purchase probability while endurance message type has the lowest percentage of customers. "
   ]
  },
  {
   "cell_type": "markdown",
   "metadata": {},
   "source": [
    "3. For each customer, determine the message (i.e., endurance, strength, water, team, backcountry, winter, or racquet) predicted to lead to the highest expected profit (COGS is 60%). Describe your approach to predict order size and how you calculated expected profit."
   ]
  },
  {
   "cell_type": "code",
   "execution_count": 99,
   "metadata": {},
   "outputs": [
    {
     "data": {
      "text/html": [
       "<div>\n",
       "<style scoped>\n",
       "    .dataframe tbody tr th:only-of-type {\n",
       "        vertical-align: middle;\n",
       "    }\n",
       "\n",
       "    .dataframe tbody tr th {\n",
       "        vertical-align: top;\n",
       "    }\n",
       "\n",
       "    .dataframe thead th {\n",
       "        text-align: right;\n",
       "    }\n",
       "</style>\n",
       "<table border=\"1\" class=\"dataframe\">\n",
       "  <thead>\n",
       "    <tr style=\"text-align: right;\">\n",
       "      <th></th>\n",
       "      <th>custid</th>\n",
       "      <th>to_offer_ep</th>\n",
       "    </tr>\n",
       "  </thead>\n",
       "  <tbody>\n",
       "    <tr>\n",
       "      <th>0</th>\n",
       "      <td>U45198803</td>\n",
       "      <td>backcountry</td>\n",
       "    </tr>\n",
       "    <tr>\n",
       "      <th>1</th>\n",
       "      <td>U22197752</td>\n",
       "      <td>backcountry</td>\n",
       "    </tr>\n",
       "    <tr>\n",
       "      <th>3</th>\n",
       "      <td>U19423462</td>\n",
       "      <td>backcountry</td>\n",
       "    </tr>\n",
       "    <tr>\n",
       "      <th>4</th>\n",
       "      <td>U23888305</td>\n",
       "      <td>strength</td>\n",
       "    </tr>\n",
       "    <tr>\n",
       "      <th>6</th>\n",
       "      <td>U16954857</td>\n",
       "      <td>backcountry</td>\n",
       "    </tr>\n",
       "    <tr>\n",
       "      <th>...</th>\n",
       "      <td>...</td>\n",
       "      <td>...</td>\n",
       "    </tr>\n",
       "    <tr>\n",
       "      <th>199991</th>\n",
       "      <td>U12620333</td>\n",
       "      <td>backcountry</td>\n",
       "    </tr>\n",
       "    <tr>\n",
       "      <th>199993</th>\n",
       "      <td>U18623424</td>\n",
       "      <td>backcountry</td>\n",
       "    </tr>\n",
       "    <tr>\n",
       "      <th>199994</th>\n",
       "      <td>U64468968</td>\n",
       "      <td>backcountry</td>\n",
       "    </tr>\n",
       "    <tr>\n",
       "      <th>199998</th>\n",
       "      <td>U33721691</td>\n",
       "      <td>backcountry</td>\n",
       "    </tr>\n",
       "    <tr>\n",
       "      <th>199999</th>\n",
       "      <td>U23361779</td>\n",
       "      <td>backcountry</td>\n",
       "    </tr>\n",
       "  </tbody>\n",
       "</table>\n",
       "<p>100000 rows × 2 columns</p>\n",
       "</div>"
      ],
      "text/plain": [
       "           custid  to_offer_ep\n",
       "0       U45198803  backcountry\n",
       "1       U22197752  backcountry\n",
       "3       U19423462  backcountry\n",
       "4       U23888305     strength\n",
       "6       U16954857  backcountry\n",
       "...           ...          ...\n",
       "199991  U12620333  backcountry\n",
       "199993  U18623424  backcountry\n",
       "199994  U64468968  backcountry\n",
       "199998  U33721691  backcountry\n",
       "199999  U23361779  backcountry\n",
       "\n",
       "[100000 rows x 2 columns]"
      ]
     },
     "execution_count": 99,
     "metadata": {},
     "output_type": "execute_result"
    }
   ],
   "source": [
    "pentathlon_nptb_rep[[\"custid\", \"to_offer_ep\"]]"
   ]
  },
  {
   "cell_type": "markdown",
   "metadata": {},
   "source": [
    "We predict average order size by calculate average total_os by grouping each message type on training set. We calculate expected profit by multiplying probability, 0.4 (1-COGS, 0.6) and average order size. "
   ]
  },
  {
   "cell_type": "markdown",
   "metadata": {},
   "source": [
    "4. Report for each message, i.e., endurance, racket, etc., the percentage of customers for whom that message maximizes their expected profit."
   ]
  },
  {
   "cell_type": "code",
   "execution_count": 100,
   "metadata": {},
   "outputs": [
    {
     "data": {
      "text/html": [
       "<div>\n",
       "<style scoped>\n",
       "    .dataframe tbody tr th:only-of-type {\n",
       "        vertical-align: middle;\n",
       "    }\n",
       "\n",
       "    .dataframe tbody tr th {\n",
       "        vertical-align: top;\n",
       "    }\n",
       "\n",
       "    .dataframe thead th {\n",
       "        text-align: right;\n",
       "    }\n",
       "</style>\n",
       "<table border=\"1\" class=\"dataframe\">\n",
       "  <thead>\n",
       "    <tr style=\"text-align: right;\">\n",
       "      <th></th>\n",
       "      <th>Percentage of customers</th>\n",
       "    </tr>\n",
       "    <tr>\n",
       "      <th>to_offer_ep</th>\n",
       "      <th></th>\n",
       "    </tr>\n",
       "  </thead>\n",
       "  <tbody>\n",
       "    <tr>\n",
       "      <th>backcountry</th>\n",
       "      <td>69.78%</td>\n",
       "    </tr>\n",
       "    <tr>\n",
       "      <th>racquet</th>\n",
       "      <td>8.0%</td>\n",
       "    </tr>\n",
       "    <tr>\n",
       "      <th>strength</th>\n",
       "      <td>9.79%</td>\n",
       "    </tr>\n",
       "    <tr>\n",
       "      <th>team</th>\n",
       "      <td>3.3%</td>\n",
       "    </tr>\n",
       "    <tr>\n",
       "      <th>water</th>\n",
       "      <td>6.16%</td>\n",
       "    </tr>\n",
       "    <tr>\n",
       "      <th>winter</th>\n",
       "      <td>2.98%</td>\n",
       "    </tr>\n",
       "  </tbody>\n",
       "</table>\n",
       "</div>"
      ],
      "text/plain": [
       "            Percentage of customers\n",
       "to_offer_ep                        \n",
       "backcountry                  69.78%\n",
       "racquet                        8.0%\n",
       "strength                      9.79%\n",
       "team                           3.3%\n",
       "water                         6.16%\n",
       "winter                        2.98%"
      ]
     },
     "execution_count": 100,
     "metadata": {},
     "output_type": "execute_result"
    }
   ],
   "source": [
    "pd.crosstab(\n",
    "    index=pentathlon_nptb_rep[\"to_offer_ep\"],\n",
    "    columns=\"Percentage of customers\",\n",
    "    colnames=[\"\"],\n",
    "    normalize=True,\n",
    ").apply(rsm.format_nr, perc=True)"
   ]
  },
  {
   "cell_type": "markdown",
   "metadata": {},
   "source": [
    "The table above shows that backcountry message type has the highest percentage of customers that message maximizes their expected profit while endurance message type has the lowest percentage of customers, 0%. "
   ]
  },
  {
   "cell_type": "markdown",
   "metadata": {},
   "source": [
    "5. What expected profit can we obtain, on average, per e-mailed customer if we customize the message to each customer?"
   ]
  },
  {
   "cell_type": "code",
   "execution_count": 101,
   "metadata": {},
   "outputs": [
    {
     "data": {
      "text/plain": [
       "ep_target    $0.4\n",
       "dtype: object"
      ]
     },
     "execution_count": 101,
     "metadata": {},
     "output_type": "execute_result"
    }
   ],
   "source": [
    "pentathlon_nptb_rep[[\"ep_target\",]].agg(\"mean\").sort_values(\n",
    "    ascending=False\n",
    ").apply(rsm.format_nr, sym=\"$\")"
   ]
  },
  {
   "cell_type": "markdown",
   "metadata": {},
   "source": [
    "If we customize the message to each cutomer, the average expected profit per e-mailed customer is $0.4"
   ]
  },
  {
   "cell_type": "markdown",
   "metadata": {},
   "source": [
    "6. What is the expected profit per e-mailed customer if every customer receives the same message? Answer this question for each of the seven possible messages (i.e., endurance, strength, water, team, backcountry, winter, or racquet)."
   ]
  },
  {
   "cell_type": "code",
   "execution_count": 102,
   "metadata": {},
   "outputs": [
    {
     "data": {
      "text/plain": [
       "ep_backcountry    $0.38\n",
       "ep_winter         $0.37\n",
       "ep_strength       $0.37\n",
       "ep_water          $0.37\n",
       "ep_racquet        $0.36\n",
       "ep_team           $0.36\n",
       "ep_endurance      $0.33\n",
       "dtype: object"
      ]
     },
     "execution_count": 102,
     "metadata": {},
     "output_type": "execute_result"
    }
   ],
   "source": [
    "pentathlon_nptb_rep[\n",
    "    [\n",
    "        \"ep_endurance\",\n",
    "        \"ep_strength\",\n",
    "        \"ep_water\",\n",
    "        \"ep_team\",\n",
    "        \"ep_backcountry\",\n",
    "        \"ep_winter\",\n",
    "        \"ep_racquet\",\n",
    "    ]\n",
    "].agg(\"mean\").sort_values(ascending=False).apply(rsm.format_nr, sym=\"$\")"
   ]
  },
  {
   "cell_type": "markdown",
   "metadata": {},
   "source": [
    "As the chart above shows, the average expected profit per e-emailed customer if customers receive endurance message type is the lowest, \\\\$0.33 while the average expected profit per emailed customer if customers receive backcountry message type is the highest, \\\\$0.38"
   ]
  },
  {
   "cell_type": "markdown",
   "metadata": {},
   "source": [
    "7. What is the expected profit per e-mailed customer if every customer is assigned randomly to one of the seven messages?"
   ]
  },
  {
   "cell_type": "code",
   "execution_count": 103,
   "metadata": {},
   "outputs": [
    {
     "data": {
      "text/plain": [
       "0.2213697200000001"
      ]
     },
     "execution_count": 103,
     "metadata": {},
     "output_type": "execute_result"
    }
   ],
   "source": [
    "pentathlon_nptb_rep[\"total_os\"].mean() * 0.4"
   ]
  },
  {
   "cell_type": "markdown",
   "metadata": {},
   "source": [
    "The expected profit per e-mailed customer is $0.2214 if customers are assigned randomly."
   ]
  },
  {
   "cell_type": "markdown",
   "metadata": {},
   "source": [
    "8. For the typical promotional e-mail blast to 5,000,000 customers, what improvement (in percent and in total Euros) could Pentathlon achieve by customizing the message to each customer rather than assigning customers a message randomly?"
   ]
  },
  {
   "cell_type": "code",
   "execution_count": 104,
   "metadata": {},
   "outputs": [
    {
     "name": "stdout",
     "output_type": "stream",
     "text": [
      "877648.552511106\n"
     ]
    }
   ],
   "source": [
    "customized_profit_5M = pentathlon_nptb_rep[\"ep_target\"].agg(\"mean\") * 5000000\n",
    "random_profit_5M = pentathlon_nptb_rep[\"total_os\"].mean() * 0.4 * 5000000\n",
    "print(customized_profit_5M - random_profit_5M)"
   ]
  },
  {
   "cell_type": "code",
   "execution_count": 105,
   "metadata": {},
   "outputs": [
    {
     "data": {
      "text/plain": [
       "0.7929255658914015"
      ]
     },
     "execution_count": 105,
     "metadata": {},
     "output_type": "execute_result"
    }
   ],
   "source": [
    "percent_increase = (customized_profit_5M - random_profit_5M) / random_profit_5M\n",
    "percent_increase"
   ]
  },
  {
   "cell_type": "markdown",
   "metadata": {},
   "source": [
    "The increase of customizing the message to each customer will be $877648.55 or 79.29%"
   ]
  },
  {
   "cell_type": "markdown",
   "metadata": {},
   "source": [
    "9. Comment on the new e-mail policy proposal. What are its weaknesses? Suggest at least one improvement?"
   ]
  },
  {
   "cell_type": "markdown",
   "metadata": {},
   "source": [
    "The weakness of this policy lies in the imbalance of profitability between different departments. Suppose we have two message type that generates a higher expected profit this period, we will only send these two to a customer in the next period. We can imagine that these two will still have higher chances to gain more profits with more exposure to customers. In this case, the Matthew Effect occurs, which means the proportion of certain types of message will increase continuously and the lower-profit message types will disappear eventually.  Besides, if we keep sending the same type of message to a customer, they might find them tedious and ignore them.  \n",
    "\n",
    "Improvement: To avoid this Matthew Effect, we can adopt a new strategy, which means each time we sent two messages to our customers: one with the high expected profit, and the other with a low expected profit. Or we can re-write messages for customers, in each message, we recommend a product with high expected profit and a product with low expected profit. By doing this, products with low expected profit have more chance to be seen by customers."
   ]
  },
  {
   "cell_type": "code",
   "execution_count": null,
   "metadata": {},
   "outputs": [],
   "source": []
  }
 ],
 "metadata": {
  "kernelspec": {
   "display_name": "Python 3",
   "language": "python",
   "name": "python3"
  },
  "language_info": {
   "codemirror_mode": {
    "name": "ipython",
    "version": 3
   },
   "file_extension": ".py",
   "mimetype": "text/x-python",
   "name": "python",
   "nbconvert_exporter": "python",
   "pygments_lexer": "ipython3",
   "version": "3.8.5"
  }
 },
 "nbformat": 4,
 "nbformat_minor": 4
}
